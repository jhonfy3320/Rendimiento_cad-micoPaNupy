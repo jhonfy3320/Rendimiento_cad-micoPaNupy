{
 "cells": [
  {
   "cell_type": "markdown",
   "metadata": {},
   "source": [
    "En NumPy, los arrays son una estructura de datos fundamental que permite manejar y operar eficientemente con grandes conjuntos de datos numéricos. Uno de los aspectos clave de los arrays de NumPy es su capacidad para almacenar diferentes tipos de datos, lo que es esencial para el análisis y manipulación de datos. A continuación, se detalla cómo trabajar con arrays en NumPy y los diferentes tipos de datos que se pueden manejar."
   ]
  },
  {
   "cell_type": "markdown",
   "metadata": {},
   "source": [
    "# Consideraciones de Uso\n",
    "### Memoria: \n",
    "Los tipos de datos más pequeños (uint8, int8, float16) consumen menos memoria, pero pueden no ser adecuados para todas las aplicaciones debido a sus limitaciones en el rango y la precisión.\n",
    "### Precisión \n",
    "Para aplicaciones científicas y de ingeniería, se suelen usar tipos de datos de mayor precisión como float64 y complex128.\n",
    "### Compatibilidad: \n",
    "Asegúrate de elegir el tipo de dato adecuado para la compatibilidad con otras librerías y herramientas que utilices.\n",
    "Seleccionar el tipo de dato adecuado es crucial para optimizar el rendimiento y la eficiencia de tus operaciones en NumPy."
   ]
  },
  {
   "cell_type": "code",
   "execution_count": 1,
   "metadata": {},
   "outputs": [
    {
     "name": "stdout",
     "output_type": "stream",
     "text": [
      "array_int: [1 2 3], dtype: int32\n",
      "array_float: [1. 2. 3.], dtype: float64\n",
      "array_complex: [1.+2.j 3.+4.j], dtype: complex128\n",
      "array_bool: [ True False  True], dtype: bool\n",
      "array_str: ['a' 'b' 'c'], dtype: <U1\n",
      "array_obj: [1 'a' 3.0], dtype: object\n",
      "array_int convertido a float: [1. 2. 3.], dtype: float64\n",
      "array_zeros:\n",
      "[[0. 0.]\n",
      " [0. 0.]]\n",
      "array_ones:\n",
      "[[1. 1.]\n",
      " [1. 1.]]\n",
      "array_empty:\n",
      "[[6.93079524e-310 4.66570084e-310]\n",
      " [6.93079417e-310 6.93079417e-310]]\n",
      "array_arange:\n",
      "[0 2 4 6 8]\n",
      "array_linspace:\n",
      "[0.   0.25 0.5  0.75 1.  ]\n",
      "array_identity:\n",
      "[[1. 0. 0.]\n",
      " [0. 1. 0.]\n",
      " [0. 0. 1.]]\n",
      "array_diagonal:\n",
      "[[1 0 0]\n",
      " [0 2 0]\n",
      " [0 0 3]]\n"
     ]
    }
   ],
   "source": [
    "import numpy as np\n",
    "\n",
    "# Crear arrays con diferentes tipos de datos\n",
    "array_int = np.array([1, 2, 3], dtype=np.int32)\n",
    "array_float = np.array([1.0, 2.0, 3.0], dtype=np.float64)\n",
    "array_complex = np.array([1+2j, 3+4j], dtype=np.complex128)\n",
    "array_bool = np.array([True, False, True], dtype=np.bool_)\n",
    "array_str = np.array(['a', 'b', 'c'], dtype='<U1')\n",
    "array_obj = np.array([1, \"a\", 3.0], dtype=object)\n",
    "\n",
    "# Verificación de tipos de datos\n",
    "print(f\"array_int: {array_int}, dtype: {array_int.dtype}\")\n",
    "print(f\"array_float: {array_float}, dtype: {array_float.dtype}\")\n",
    "print(f\"array_complex: {array_complex}, dtype: {array_complex.dtype}\")\n",
    "print(f\"array_bool: {array_bool}, dtype: {array_bool.dtype}\")\n",
    "print(f\"array_str: {array_str}, dtype: {array_str.dtype}\")\n",
    "print(f\"array_obj: {array_obj}, dtype: {array_obj.dtype}\")\n",
    "\n",
    "# Conversión de tipos de datos\n",
    "array_int_a_float = array_int.astype(np.float64)\n",
    "print(f\"array_int convertido a float: {array_int_a_float}, dtype: {array_int_a_float.dtype}\")\n",
    "\n",
    "# Funciones de inicialización\n",
    "array_zeros = np.zeros((2, 2))\n",
    "array_ones = np.ones((2, 2))\n",
    "array_empty = np.empty((2, 2))\n",
    "array_arange = np.arange(0, 10, 2)\n",
    "array_linspace = np.linspace(0, 1, 5)\n",
    "array_identity = np.eye(3)\n",
    "array_diagonal = np.diag([1, 2, 3])\n",
    "\n",
    "print(f\"array_zeros:\\n{array_zeros}\")\n",
    "print(f\"array_ones:\\n{array_ones}\")\n",
    "print(f\"array_empty:\\n{array_empty}\")\n",
    "print(f\"array_arange:\\n{array_arange}\")\n",
    "print(f\"array_linspace:\\n{array_linspace}\")\n",
    "print(f\"array_identity:\\n{array_identity}\")\n",
    "print(f\"array_diagonal:\\n{array_diagonal}\")\n"
   ]
  },
  {
   "cell_type": "markdown",
   "metadata": {},
   "source": [
    "#### Tipos de Datos en NumPy\n",
    "Enteros Sin Signo (uint)\n",
    "\n",
    "- uint8: Entero sin signo de 8 bits, rango de 0 a 255.\n",
    "- uint16: Entero sin signo de 16 bits, rango de 0 a 65,535.\n",
    "- uint32: Entero sin signo de 32 bits, rango de 0 a 4,294,967,295.\n",
    "- uint64: Entero sin signo de 64 bits, rango de 0 a 18,446,744,073,709,551,615."
   ]
  },
  {
   "cell_type": "markdown",
   "metadata": {},
   "source": [
    "Enteros con Signo (int)\n",
    "\n",
    "- int8: Entero con signo de 8 bits, rango de -128 a 127.\n",
    "- int16: Entero con signo de 16 bits, rango de -32,768 a 32,767.\n",
    "- int32: Entero con signo de 32 bits, rango de -2,147,483,648 a 2,147,483,647.\n",
    "- int64: Entero con signo de 64 bits, rango de -9,223,372,036,854,775,808 a 9,223,372,036,854,775,807."
   ]
  },
  {
   "cell_type": "markdown",
   "metadata": {},
   "source": [
    "Flotantes (float)\n",
    "\n",
    "- float16: Flotante de 16 bits, precisión baja.\n",
    "- float32: Flotante de 32 bits, precisión simple.\n",
    "- float64: Flotante de 64 bits, precisión doble (este es el tipo de flotante por defecto en NumPy)."
   ]
  },
  {
   "cell_type": "markdown",
   "metadata": {},
   "source": [
    "Complejos (complex)\n",
    "\n",
    "- complex64: Número complejo de 64 bits (32 bits para la parte real y 32 bits para la parte imaginaria).\n",
    "- complex128: Número complejo de 128 bits (64 bits para la parte real y 64 bits para la parte imaginaria, este es el tipo de complejo por defecto en NumPy)."
   ]
  },
  {
   "cell_type": "code",
   "execution_count": 2,
   "metadata": {},
   "outputs": [
    {
     "name": "stdout",
     "output_type": "stream",
     "text": [
      "[  0 255] uint8\n",
      "[-128  127] int8\n",
      "[1. 2. 3.] float64\n",
      "[1.+2.j 3.+4.j] complex128\n",
      "[ True False  True] bool\n",
      "['a' 'bc' 'def'] <U3\n",
      "[1 'a' 3.0] object\n"
     ]
    }
   ],
   "source": [
    "import numpy as np\n",
    "\n",
    "# Enteros sin signo\n",
    "array_uint8 = np.array([0, 255], dtype=np.uint8)\n",
    "print(array_uint8, array_uint8.dtype)\n",
    "\n",
    "# Enteros con signo\n",
    "array_int8 = np.array([-128, 127], dtype=np.int8)\n",
    "print(array_int8, array_int8.dtype)\n",
    "\n",
    "# Flotantes\n",
    "array_float64 = np.array([1.0, 2.0, 3.0], dtype=np.float64)\n",
    "print(array_float64, array_float64.dtype)\n",
    "\n",
    "# Complejos\n",
    "array_complex128 = np.array([1+2j, 3+4j], dtype=np.complex128)\n",
    "print(array_complex128, array_complex128.dtype)\n",
    "\n",
    "# Booleanos\n",
    "array_bool = np.array([True, False, True], dtype=np.bool_)\n",
    "print(array_bool, array_bool.dtype)\n",
    "\n",
    "# Cadenas de caracteres\n",
    "array_str = np.array(['a', 'bc', 'def'], dtype='<U3')\n",
    "print(array_str, array_str.dtype)\n",
    "\n",
    "# Objetos\n",
    "array_obj = np.array([1, \"a\", 3.0], dtype=object)\n",
    "print(array_obj, array_obj.dtype)\n"
   ]
  }
 ],
 "metadata": {
  "kernelspec": {
   "display_name": "NpyPandaAnalisisFYNEKA",
   "language": "python",
   "name": "python3"
  },
  "language_info": {
   "codemirror_mode": {
    "name": "ipython",
    "version": 3
   },
   "file_extension": ".py",
   "mimetype": "text/x-python",
   "name": "python",
   "nbconvert_exporter": "python",
   "pygments_lexer": "ipython3",
   "version": "3.10.14"
  }
 },
 "nbformat": 4,
 "nbformat_minor": 2
}
