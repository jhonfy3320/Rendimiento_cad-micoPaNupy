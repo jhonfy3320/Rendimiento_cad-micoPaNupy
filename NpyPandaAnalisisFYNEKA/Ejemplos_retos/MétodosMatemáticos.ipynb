{
 "cells": [
  {
   "cell_type": "code",
   "execution_count": 2,
   "metadata": {},
   "outputs": [],
   "source": [
    "import numpy as np\n",
    "import pandas as pd\n",
    "\n",
    "a = np.array([1, 2, 3])\n",
    "b = np.array([4, 5, 6])\n",
    "\n",
    "# Operaciones Aritméticas\n",
    "suma = a + b\n",
    "resta = a - b\n",
    "multiplicacion = a * b\n",
    "division = a / b\n",
    "\n",
    "# Operaciones Matemáticas Avanzadas\n",
    "raiz_cuadrada = np.sqrt(a)\n",
    "exponente = np.exp(a)\n",
    "logaritmo = np.log(a)\n",
    "\n",
    "# Funciones Estadísticas\n",
    "mean = np.mean(a)\n",
    "median = np.median(a)\n",
    "varianza = np.var(a)\n",
    "desviacion_estandar = np.std(a)"
   ]
  },
  {
   "cell_type": "code",
   "execution_count": 3,
   "metadata": {},
   "outputs": [
    {
     "name": "stdout",
     "output_type": "stream",
     "text": [
      "   A  B  C  D   E     F         G      fecha  year  month  day\n",
      "0  1  4  5 -3   4  0.25  1.000000 2024-01-01  2024      1    1\n",
      "1  2  5  7 -3  10  0.40  1.414214 2024-01-02  2024      1    2\n",
      "2  3  6  9 -3  18  0.50  1.732051 2024-01-03  2024      1    3\n"
     ]
    }
   ],
   "source": [
    "# Pandas\n",
    "df = pd.DataFrame({\n",
    "    'A': [1, 2, 3],\n",
    "    'B': [4, 5, 6]\n",
    "})\n",
    "\n",
    "# Operaciones Aritméticas\n",
    "df['C'] = df['A'] + df['B']\n",
    "df['D'] = df['A'] - df['B']\n",
    "df['E'] = df['A'] * df['B']\n",
    "df['F'] = df['A'] / df['B']\n",
    "\n",
    "# Funciones Estadísticas\n",
    "mean_pandas = df['A'].mean()\n",
    "median_pandas = df['A'].median()\n",
    "varianza_pandas = df['A'].var()\n",
    "desviacion_estandar_pandas = df['A'].std()\n",
    "\n",
    "# Aplicación de Funciones\n",
    "df['G'] = df['A'].apply(np.sqrt)\n",
    "\n",
    "# Fechas y Tiempos\n",
    "df['fecha'] = pd.to_datetime(['2024-01-01', '2024-01-02', '2024-01-03'])\n",
    "df['year'] = df['fecha'].dt.year\n",
    "df['month'] = df['fecha'].dt.month\n",
    "df['day'] = df['fecha'].dt.day\n",
    "\n",
    "print(df)\n"
   ]
  }
 ],
 "metadata": {
  "kernelspec": {
   "display_name": "NpyPandaAnalisisFYNEKA",
   "language": "python",
   "name": "python3"
  },
  "language_info": {
   "codemirror_mode": {
    "name": "ipython",
    "version": 3
   },
   "file_extension": ".py",
   "mimetype": "text/x-python",
   "name": "python",
   "nbconvert_exporter": "python",
   "pygments_lexer": "ipython3",
   "version": "3.10.14"
  }
 },
 "nbformat": 4,
 "nbformat_minor": 2
}
