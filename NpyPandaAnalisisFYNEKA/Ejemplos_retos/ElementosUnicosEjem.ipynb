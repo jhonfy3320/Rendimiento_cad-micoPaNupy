{
 "cells": [
  {
   "cell_type": "code",
   "execution_count": 1,
   "metadata": {},
   "outputs": [],
   "source": [
    "import numpy as np\n",
    "import pandas as pd"
   ]
  },
  {
   "cell_type": "code",
   "execution_count": 2,
   "metadata": {},
   "outputs": [
    {
     "name": "stdout",
     "output_type": "stream",
     "text": [
      "Array original después de modificar la vista: [ 1 99  3  4  5]\n",
      "Vista del array: [99  3  4]\n",
      "Array original después de modificar la copia: [ 1 99  3  4  5]\n",
      "Copia del array: [77  3  4]\n"
     ]
    }
   ],
   "source": [
    "# Crear un array original\n",
    "original_array = np.array([1, 2, 3, 4, 5])\n",
    "\n",
    "# Crear una vista del array original\n",
    "view_array = original_array[1:4]\n",
    "\n",
    "# Crear una copia del array original\n",
    "copy_array = original_array[1:4].copy()\n",
    "\n",
    "# Modificar la vista\n",
    "view_array[0] = 99\n",
    "\n",
    "print(\"Array original después de modificar la vista:\", original_array)\n",
    "print(\"Vista del array:\", view_array)\n",
    "\n",
    "# Modificar la copia\n",
    "copy_array[0] = 77\n",
    "\n",
    "print(\"Array original después de modificar la copia:\", original_array)\n",
    "print(\"Copia del array:\", copy_array)\n"
   ]
  },
  {
   "cell_type": "markdown",
   "metadata": {},
   "source": [
    "## Copias y Vistas en un Array 2D"
   ]
  },
  {
   "cell_type": "code",
   "execution_count": 3,
   "metadata": {},
   "outputs": [
    {
     "name": "stdout",
     "output_type": "stream",
     "text": [
      "Array 2D original después de modificar la vista:\n",
      " [[ 1 99  3]\n",
      " [ 4  5  6]\n",
      " [ 7  8  9]]\n",
      "Vista del array 2D:\n",
      " [[99  3]\n",
      " [ 5  6]]\n",
      "Array 2D original después de modificar la copia:\n",
      " [[ 1 99  3]\n",
      " [ 4  5  6]\n",
      " [ 7  8  9]]\n",
      "Copia del array 2D:\n",
      " [[77  3]\n",
      " [ 5  6]]\n"
     ]
    }
   ],
   "source": [
    "# Crear un array 2D original\n",
    "original_array_2d = np.array([[1, 2, 3],\n",
    "                              [4, 5, 6],\n",
    "                              [7, 8, 9]])\n",
    "\n",
    "# Crear una vista del array 2D original\n",
    "view_array_2d = original_array_2d[:2, 1:]\n",
    "\n",
    "# Crear una copia del array 2D original\n",
    "copy_array_2d = original_array_2d[:2, 1:].copy()\n",
    "\n",
    "# Modificar la vista\n",
    "view_array_2d[0, 0] = 99\n",
    "\n",
    "print(\"Array 2D original después de modificar la vista:\\n\", original_array_2d)\n",
    "print(\"Vista del array 2D:\\n\", view_array_2d)\n",
    "\n",
    "# Modificar la copia\n",
    "copy_array_2d[0, 0] = 77\n",
    "\n",
    "print(\"Array 2D original después de modificar la copia:\\n\", original_array_2d)\n",
    "print(\"Copia del array 2D:\\n\", copy_array_2d)\n"
   ]
  },
  {
   "cell_type": "markdown",
   "metadata": {},
   "source": [
    "## Elementos Únicos y Conteos: \n",
    "- Utiliza np.unique para encontrar elementos únicos y sus conteos en arrays unidimensionales y multidimensionales.\n",
    "## Copias y Vistas: \n",
    "- Las vistas son referencias al mismo bloque de memoria que el array original, mientras que las copias son réplicas independientes. Cambios en una vista afectan al array original, pero cambios en una copia no.\n",
    "- Estas herramientas son útiles para trabajar con datos en NumPy de manera eficiente y flexible."
   ]
  },
  {
   "cell_type": "code",
   "execution_count": null,
   "metadata": {},
   "outputs": [],
   "source": [
    "\n"
   ]
  }
 ],
 "metadata": {
  "kernelspec": {
   "display_name": "NpyPandaAnalisisFYNEKA",
   "language": "python",
   "name": "python3"
  },
  "language_info": {
   "codemirror_mode": {
    "name": "ipython",
    "version": 3
   },
   "file_extension": ".py",
   "mimetype": "text/x-python",
   "name": "python",
   "nbconvert_exporter": "python",
   "pygments_lexer": "ipython3",
   "version": "3.10.14"
  }
 },
 "nbformat": 4,
 "nbformat_minor": 2
}
