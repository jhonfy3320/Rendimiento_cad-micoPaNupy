{
 "cells": [
  {
   "cell_type": "code",
   "execution_count": 2,
   "metadata": {},
   "outputs": [
    {
     "name": "stdout",
     "output_type": "stream",
     "text": [
      "Array original: [ 0  1  2  3  4  5  6  7  8  9 10 11 12 13 14 15 16 17 18 19 20 21 22 23\n",
      " 24 25 26 27 28 29 30 31 32 33 34 35 36 37 38 39 40 41 42 43 44 45 46 47\n",
      " 48 49 50 51 52 53 54 55 56 57 58 59 60 61 62 63 64 65 66 67 68 69 70 71\n",
      " 72 73 74 75 76 77 78 79 80 81 82 83 84 85 86 87 88 89 90 91 92 93 94 95\n",
      " 96 97 98 99]\n",
      "Resultado de Broadcasting:\n",
      " [[  1   3   5   7   9]\n",
      " [  6   8  10  12  14]\n",
      " [ 11  13  15  17  19]\n",
      " [ 16  18  20  22  24]\n",
      " [ 21  23  25  27  29]\n",
      " [ 26  28  30  32  34]\n",
      " [ 31  33  35  37  39]\n",
      " [ 36  38  40  42  44]\n",
      " [ 41  43  45  47  49]\n",
      " [ 46  48  50  52  54]\n",
      " [ 51  53  55  57  59]\n",
      " [ 56  58  60  62  64]\n",
      " [ 61  63  65  67  69]\n",
      " [ 66  68  70  72  74]\n",
      " [ 71  73  75  77  79]\n",
      " [ 76  78  80  82  84]\n",
      " [ 81  83  85  87  89]\n",
      " [ 86  88  90  92  94]\n",
      " [ 91  93  95  97  99]\n",
      " [ 96  98 100 102 104]]\n",
      "Elementos mayores a 50: [51 52 53 54 55 56 57 58 59 60 61 62 63 64 65 66 67 68 69 70 71 72 73 74\n",
      " 75 76 77 78 79 80 81 82 83 84 85 86 87 88 89 90 91 92 93 94 95 96 97 98\n",
      " 99]\n",
      "Elementos mayores a 55 después de Broadcasting: [ 57  59  56  58  60  62  64  61  63  65  67  69  66  68  70  72  74  71\n",
      "  73  75  77  79  76  78  80  82  84  81  83  85  87  89  86  88  90  92\n",
      "  94  91  93  95  97  99  96  98 100 102 104]\n"
     ]
    }
   ],
   "source": [
    "import numpy as np\n",
    "\n",
    "# Paso 1: Crear un array de 100 números\n",
    "array = np.arange(100)\n",
    "print(\"Array original:\", array)\n",
    "\n",
    "# Paso 2: Broadcasting\n",
    "small_array = np.array([1, 2, 3, 4, 5])\n",
    "broadcast_result = array.reshape(20, 5) + small_array\n",
    "print(\"Resultado de Broadcasting:\\n\", broadcast_result)\n",
    "\n",
    "# Paso 3: Operaciones Lógicas\n",
    "mask = array > 50\n",
    "selected_elements = array[mask]\n",
    "print(\"Elementos mayores a 50:\", selected_elements)\n",
    "\n",
    "# Paso 4: Combinación de Broadcasting y Operaciones Lógicas\n",
    "broadcast_mask = broadcast_result > 55\n",
    "selected_broadcast_elements = broadcast_result[broadcast_mask]\n",
    "print(\"Elementos mayores a 55 después de Broadcasting:\", selected_broadcast_elements)\n"
   ]
  },
  {
   "cell_type": "markdown",
   "metadata": {},
   "source": [
    "## Explicación\n",
    "- Creación del Array: Se crea un array de 100 números (del 0 al 99).\n",
    "- Broadcasting: Se suma un array más pequeño (small_array) a bloques de 5 elementos del array original. Se utiliza reshape para - organizar el array original en bloques de 5 elementos.\n",
    "- Operaciones Lógicas: Se crea una máscara booleana para seleccionar elementos mayores a 50 del array original.\n",
    "- Combinación: Se crea una máscara booleana para seleccionar elementos del resultado del broadcasting que son mayores a 55."
   ]
  }
 ],
 "metadata": {
  "kernelspec": {
   "display_name": "NpyPandaAnalisisFYNEKA",
   "language": "python",
   "name": "python3"
  },
  "language_info": {
   "codemirror_mode": {
    "name": "ipython",
    "version": 3
   },
   "file_extension": ".py",
   "mimetype": "text/x-python",
   "name": "python",
   "nbconvert_exporter": "python",
   "pygments_lexer": "ipython3",
   "version": "3.10.14"
  }
 },
 "nbformat": 4,
 "nbformat_minor": 2
}
