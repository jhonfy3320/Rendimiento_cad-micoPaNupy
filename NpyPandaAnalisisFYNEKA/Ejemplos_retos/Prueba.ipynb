{
 "cells": [
  {
   "cell_type": "code",
   "execution_count": 1,
   "metadata": {},
   "outputs": [
    {
     "data": {
      "text/plain": [
       "array([-0.60508505, -0.52853466, -0.12485656, ..., -1.6394322 ,\n",
       "       -1.74469757, -1.13276258])"
      ]
     },
     "execution_count": 1,
     "metadata": {},
     "output_type": "execute_result"
    }
   ],
   "source": [
    "\"\"\"\n",
    "To try the examples in the browser:\n",
    "1. Type code in the input cell and press\n",
    "   Shift + Enter to execute\n",
    "2. Or copy paste the code, and click on\n",
    "   the \"Run\" button in the toolbar\n",
    "\"\"\"\n",
    "\n",
    "# The standard way to import NumPy:\n",
    "import numpy as np\n",
    "\n",
    "# Create a 2-D array, set every second element in\n",
    "# some rows and find max per row:\n",
    "\n",
    "x = np.arange(15, dtype=np.int64).reshape(3, 5)\n",
    "x[1:, ::2] = -99\n",
    "x\n",
    "# array([[  0,   1,   2,   3,   4],\n",
    "#        [-99,   6, -99,   8, -99],\n",
    "#        [-99,  11, -99,  13, -99]])\n",
    "\n",
    "x.max(axis=1)\n",
    "# array([ 4,  8, 13])\n",
    "\n",
    "# Generate normally distributed random numbers:\n",
    "rng = np.random.default_rng()\n",
    "samples = rng.normal(size=2500)\n",
    "samples\n"
   ]
  },
  {
   "cell_type": "code",
   "execution_count": null,
   "metadata": {},
   "outputs": [],
   "source": []
  }
 ],
 "metadata": {
  "kernelspec": {
   "display_name": "NpyPandaAnalisisFYNEKA",
   "language": "python",
   "name": "python3"
  },
  "language_info": {
   "codemirror_mode": {
    "name": "ipython",
    "version": 3
   },
   "file_extension": ".py",
   "mimetype": "text/x-python",
   "name": "python",
   "nbconvert_exporter": "python",
   "pygments_lexer": "ipython3",
   "version": "3.10.14"
  }
 },
 "nbformat": 4,
 "nbformat_minor": 2
}
