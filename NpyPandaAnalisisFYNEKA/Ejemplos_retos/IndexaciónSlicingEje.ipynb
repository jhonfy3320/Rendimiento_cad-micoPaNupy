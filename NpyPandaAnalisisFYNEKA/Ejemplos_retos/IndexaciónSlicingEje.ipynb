{
 "cells": [
  {
   "cell_type": "code",
   "execution_count": 1,
   "metadata": {},
   "outputs": [
    {
     "name": "stdout",
     "output_type": "stream",
     "text": [
      "10\n",
      "50\n"
     ]
    }
   ],
   "source": [
    "import numpy as np\n",
    "\n",
    "# Crear un array de ejemplo\n",
    "array = np.array([10, 20, 30, 40, 50])\n",
    "\n",
    "# Acceder a elementos individuales\n",
    "print(array[0])  # 10\n",
    "print(array[4])  # 50\n"
   ]
  },
  {
   "cell_type": "code",
   "execution_count": 2,
   "metadata": {},
   "outputs": [
    {
     "name": "stdout",
     "output_type": "stream",
     "text": [
      "[[2 3]\n",
      " [5 6]]\n"
     ]
    }
   ],
   "source": [
    "# Crear un array 2D\n",
    "array_2d = np.array([[1, 2, 3],\n",
    "                     [4, 5, 6],\n",
    "                     [7, 8, 9]])\n",
    "\n",
    "# Seleccionar una submatriz\n",
    "sub_array_2d = array_2d[:2, 1:3]\n",
    "print(sub_array_2d)\n",
    "# [[2 3]\n",
    "#  [5 6]]\n"
   ]
  },
  {
   "cell_type": "code",
   "execution_count": null,
   "metadata": {},
   "outputs": [],
   "source": [
    "import numpy as np\n",
    "\n",
    "# Crear un array con 100 elementos\n",
    "array = np.arange(1, 101)  # Array con elementos del 1 al 100\n",
    "print(\"Array completo:\", array)\n",
    "\n",
    "# Selección de elementos específicos\n",
    "print(\"Primer elemento:\", array[0])  # 1\n",
    "print(\"Último elemento:\", array[-1])  # 100\n",
    "indices = [0, 10, 20, 30, 40]\n",
    "print(\"Elementos en índices 0, 10, 20, 30, 40:\", array[indices])  # [1 11 21 31 41]\n",
    "\n",
    "# Slicing\n",
    "print(\"Primeros 10 elementos:\", array[:10])  # [ 1  2  3  4  5  6  7  8  9 10]\n",
    "print(\"Últimos 10 elementos:\", array[-10:])  # [ 91  92  93  94  95  96  97  98  99 100]\n",
    "print(\"Elementos del índice 10 al 19:\", array[10:20])  # [11 12 13 14 15 16 17 18 19 20]\n",
    "print(\"Elementos con un paso de 5:\", array[::5])  # [ 1  6 11 16 21 26 31 36 41 46 51 56 61 66 71 76 81 86 91 96]\n",
    "\n",
    "# Indexación booleana\n",
    "print(\"Elementos mayores a 50:\", array[array > 50])  # [ 51  52  53  54  55  56  57  58  59  60  61  62  63  64  65  66  67  68  69  70  71  72  73  74  75  76  77  78  79  80  81  82  83  84  85  86  87  88  89  90  91  92  93  94  95  96  97  98  99 100]\n",
    "print(\"Elementos pares:\", array[array % 2 == 0])  # [ 2  4  6  8 10 12 14 16 18 20 22 24 26 28 30 32 34 36 38 40 42 44 46 48 50 52 54 56 58 60 62 64 66 68 70 72 74 76 78 80 82 84 86 88 90 92 94 96 98 100]\n"
   ]
  },
  {
   "cell_type": "code",
   "execution_count": 3,
   "metadata": {},
   "outputs": [
    {
     "name": "stdout",
     "output_type": "stream",
     "text": [
      "Array completo: [  1   2   3   4   5   6   7   8   9  10  11  12  13  14  15  16  17  18\n",
      "  19  20  21  22  23  24  25  26  27  28  29  30  31  32  33  34  35  36\n",
      "  37  38  39  40  41  42  43  44  45  46  47  48  49  50  51  52  53  54\n",
      "  55  56  57  58  59  60  61  62  63  64  65  66  67  68  69  70  71  72\n",
      "  73  74  75  76  77  78  79  80  81  82  83  84  85  86  87  88  89  90\n",
      "  91  92  93  94  95  96  97  98  99 100]\n",
      "Primer elemento: 1\n",
      "Último elemento: 100\n",
      "Elementos en índices 0, 10, 20, 30, 40: [ 1 11 21 31 41]\n",
      "Primeros 10 elementos: [ 1  2  3  4  5  6  7  8  9 10]\n",
      "Últimos 10 elementos: [ 91  92  93  94  95  96  97  98  99 100]\n",
      "Elementos del índice 10 al 19: [11 12 13 14 15 16 17 18 19 20]\n",
      "Elementos con un paso de 5: [ 1  6 11 16 21 26 31 36 41 46 51 56 61 66 71 76 81 86 91 96]\n",
      "Elementos mayores a 50: [ 51  52  53  54  55  56  57  58  59  60  61  62  63  64  65  66  67  68\n",
      "  69  70  71  72  73  74  75  76  77  78  79  80  81  82  83  84  85  86\n",
      "  87  88  89  90  91  92  93  94  95  96  97  98  99 100]\n",
      "Elementos pares: [  2   4   6   8  10  12  14  16  18  20  22  24  26  28  30  32  34  36\n",
      "  38  40  42  44  46  48  50  52  54  56  58  60  62  64  66  68  70  72\n",
      "  74  76  78  80  82  84  86  88  90  92  94  96  98 100]\n"
     ]
    }
   ],
   "source": [
    "import numpy as np\n",
    "\n",
    "\n",
    "array = np.arange(1, 101)  \n",
    "print(\"Array completo:\", array)\n",
    "\n",
    "\n",
    "print(\"Primer elemento:\", array[0])  \n",
    "print(\"Último elemento:\", array[-1])  \n",
    "indices = [0, 10, 20, 30, 40]\n",
    "print(\"Elementos en índices 0, 10, 20, 30, 40:\", array[indices])  \n",
    "\n",
    "\n",
    "print(\"Primeros 10 elementos:\", array[:10]) \n",
    "print(\"Últimos 10 elementos:\", array[-10:])  \n",
    "print(\"Elementos del índice 10 al 19:\", array[10:20])  \n",
    "print(\"Elementos con un paso de 5:\", array[::5])  \n",
    "\n",
    "print(\"Elementos mayores a 50:\", array[array > 50])  \n",
    "print(\"Elementos pares:\", array[array % 2 == 0])  \n"
   ]
  }
 ],
 "metadata": {
  "kernelspec": {
   "display_name": "NpyPandaAnalisisFYNEKA",
   "language": "python",
   "name": "python3"
  },
  "language_info": {
   "codemirror_mode": {
    "name": "ipython",
    "version": 3
   },
   "file_extension": ".py",
   "mimetype": "text/x-python",
   "name": "python",
   "nbconvert_exporter": "python",
   "pygments_lexer": "ipython3",
   "version": "3.10.14"
  }
 },
 "nbformat": 4,
 "nbformat_minor": 2
}
