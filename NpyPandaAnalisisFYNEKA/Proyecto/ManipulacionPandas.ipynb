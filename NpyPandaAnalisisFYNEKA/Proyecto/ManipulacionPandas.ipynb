{
 "cells": [
  {
   "cell_type": "code",
   "execution_count": 3,
   "metadata": {},
   "outputs": [],
   "source": [
    "import pandas as pd \n",
    "import numpy as np \n",
    "import matplotlib.pyplot as plt"
   ]
  },
  {
   "cell_type": "code",
   "execution_count": 4,
   "metadata": {},
   "outputs": [
    {
     "name": "stdout",
     "output_type": "stream",
     "text": [
      "<class 'pandas.core.frame.DataFrame'>\n",
      "       InvoiceNo StockCode                          Description  Quantity  \\\n",
      "0         536365    85123A   WHITE HANGING HEART T-LIGHT HOLDER         6   \n",
      "1         536365     71053                  WHITE METAL LANTERN         6   \n",
      "2         536365    84406B       CREAM CUPID HEARTS COAT HANGER         8   \n",
      "3         536365    84029G  KNITTED UNION FLAG HOT WATER BOTTLE         6   \n",
      "4         536365    84029E       RED WOOLLY HOTTIE WHITE HEART.         6   \n",
      "...          ...       ...                                  ...       ...   \n",
      "541904    581587     22613          PACK OF 20 SPACEBOY NAPKINS        12   \n",
      "541905    581587     22899         CHILDREN'S APRON DOLLY GIRL          6   \n",
      "541906    581587     23254        CHILDRENS CUTLERY DOLLY GIRL          4   \n",
      "541907    581587     23255      CHILDRENS CUTLERY CIRCUS PARADE         4   \n",
      "541908    581587     22138        BAKING SET 9 PIECE RETROSPOT          3   \n",
      "\n",
      "          InvoiceDate  UnitPrice  CustomerID         Country  \n",
      "0        12/1/10 8:26       2.55     17850.0  United Kingdom  \n",
      "1        12/1/10 8:26       3.39     17850.0  United Kingdom  \n",
      "2        12/1/10 8:26       2.75     17850.0  United Kingdom  \n",
      "3        12/1/10 8:26       3.39     17850.0  United Kingdom  \n",
      "4        12/1/10 8:26       3.39     17850.0  United Kingdom  \n",
      "...               ...        ...         ...             ...  \n",
      "541904  12/9/11 12:50       0.85     12680.0          France  \n",
      "541905  12/9/11 12:50       2.10     12680.0          France  \n",
      "541906  12/9/11 12:50       4.15     12680.0          France  \n",
      "541907  12/9/11 12:50       4.15     12680.0          France  \n",
      "541908  12/9/11 12:50       4.95     12680.0          France  \n",
      "\n",
      "[541909 rows x 8 columns]\n"
     ]
    }
   ],
   "source": [
    "path = '/home/jhonfypy/NpyPandaNuevos/NpyPandaAnalisisFYNEKA/data/Online_Retail.csv'\n",
    "retail_data = pd.read_csv(path, encoding='latin1')\n",
    "print(type(retail_data))\n",
    "print(retail_data)"
   ]
  },
  {
   "cell_type": "code",
   "execution_count": 5,
   "metadata": {},
   "outputs": [],
   "source": [
    "# Como leer otros formatos de datos \n",
    "\n",
    "# Tipo Excel \n",
    "# data_excel = pd.read_excel(paht)\n",
    "\n",
    "# Tipo Json\n",
    "# data_jason = pd.read_json(path)"
   ]
  },
  {
   "cell_type": "markdown",
   "metadata": {},
   "source": [
    "## Estructuras de Datos en Pandas y Funciones\n",
    "#### Vamos a explorar algunas funciones de resumen y estadísticas que podemos utilizar con nuestro DataFrame."
   ]
  },
  {
   "cell_type": "code",
   "execution_count": 6,
   "metadata": {},
   "outputs": [
    {
     "name": "stdout",
     "output_type": "stream",
     "text": [
      "Index(['InvoiceNo', 'StockCode', 'Description', 'Quantity', 'InvoiceDate',\n",
      "       'UnitPrice', 'CustomerID', 'Country'],\n",
      "      dtype='object')\n"
     ]
    }
   ],
   "source": [
    "# Numero de columnas \n",
    "columns_name = retail_data.columns\n",
    "print(columns_name)"
   ]
  },
  {
   "cell_type": "code",
   "execution_count": 7,
   "metadata": {},
   "outputs": [
    {
     "name": "stdout",
     "output_type": "stream",
     "text": [
      "Numero de filas 541909\n",
      "Numero de columnas 8\n"
     ]
    }
   ],
   "source": [
    "# Numero defilas \n",
    "num_rows, num_colums = retail_data.shape\n",
    "print('Numero de filas', num_rows)\n",
    "print('Numero de columnas', num_colums)"
   ]
  },
  {
   "cell_type": "code",
   "execution_count": 8,
   "metadata": {},
   "outputs": [
    {
     "name": "stdout",
     "output_type": "stream",
     "text": [
      "0          6\n",
      "1          6\n",
      "2          8\n",
      "3          6\n",
      "4          6\n",
      "          ..\n",
      "541904    12\n",
      "541905     6\n",
      "541906     4\n",
      "541907     4\n",
      "541908     3\n",
      "Name: Quantity, Length: 541909, dtype: int64\n"
     ]
    }
   ],
   "source": [
    "# accediendo a cada columna estadisticamente que seria las series \n",
    "daily_sales = retail_data['Quantity']\n",
    "print(daily_sales)"
   ]
  },
  {
   "cell_type": "code",
   "execution_count": 9,
   "metadata": {},
   "outputs": [
    {
     "name": "stdout",
     "output_type": "stream",
     "text": [
      "4    6\n",
      "Name: Quantity, dtype: int64\n"
     ]
    }
   ],
   "source": [
    "# accediendo a cada columna estadisticamente que seria las series \n",
    "daily_sales = retail_data['Quantity']\n",
    "print(daily_sales[4:5])"
   ]
  },
  {
   "cell_type": "code",
   "execution_count": 10,
   "metadata": {},
   "outputs": [
    {
     "name": "stdout",
     "output_type": "stream",
     "text": [
      "            Quantity      UnitPrice     CustomerID\n",
      "count  541909.000000  541909.000000  406829.000000\n",
      "mean        9.552250       4.611114   15287.690570\n",
      "std       218.081158      96.759853    1713.600303\n",
      "min    -80995.000000  -11062.060000   12346.000000\n",
      "25%         1.000000       1.250000   13953.000000\n",
      "50%         3.000000       2.080000   15152.000000\n",
      "75%        10.000000       4.130000   16791.000000\n",
      "max     80995.000000   38970.000000   18287.000000\n",
      "\n",
      "La media \n",
      "La media es ===>  9.55224954743324\n",
      "\n",
      "La mediana \n",
      "La mediana es ===>  3.0\n",
      "\n",
      "El minimo \n",
      "El minimo es ===>  -80995\n",
      "\n",
      "La suma total \n",
      "La suma total es  ===>  5176450\n"
     ]
    }
   ],
   "source": [
    "# realizando una descripcion estadistica de las columnas utilizando la media o estandar \n",
    "summary = retail_data.describe()\n",
    "print(summary)\n",
    "\n",
    "# Valor por cada columna \n",
    "print('\\nLa media ')\n",
    "mean_value = daily_sales.mean()\n",
    "print('La media es ===> ', mean_value)\n",
    "\n",
    "print('\\nLa mediana ')\n",
    "median_value = daily_sales.median()\n",
    "print('La mediana es ===> ', median_value)\n",
    "\n",
    "print('\\nEl minimo ')\n",
    "min_value = daily_sales.min()\n",
    "print('El minimo es ===> ', min_value)\n",
    "\n",
    "print('\\nLa suma total ')\n",
    "sum_total = daily_sales.sum()\n",
    "print('La suma total es  ===> ', sum_total)\n"
   ]
  },
  {
   "cell_type": "code",
   "execution_count": 11,
   "metadata": {},
   "outputs": [
    {
     "name": "stdout",
     "output_type": "stream",
     "text": [
      "541909\n",
      "Suma de Quantity 400.0\n",
      "coteo de Quantity 8\n"
     ]
    }
   ],
   "source": [
    "#conteo de todos los valores \n",
    "count_values = daily_sales.count()\n",
    "print(count_values)\n",
    "\n",
    "daily_sales2 = pd.Series([10, 20, 30, 40, None, 60, 70, 80, 90])\n",
    "\n",
    "#suma de Quantity\n",
    "total_sum = daily_sales2.sum()\n",
    "print('Suma de Quantity', total_sum)\n",
    "\n",
    "#conteo de Quantity\n",
    "count_values = daily_sales2.count()\n",
    "print('coteo de Quantity', count_values)\n"
   ]
  },
  {
   "cell_type": "code",
   "execution_count": 12,
   "metadata": {},
   "outputs": [
    {
     "data": {
      "text/html": [
       "<div>\n",
       "<style scoped>\n",
       "    .dataframe tbody tr th:only-of-type {\n",
       "        vertical-align: middle;\n",
       "    }\n",
       "\n",
       "    .dataframe tbody tr th {\n",
       "        vertical-align: top;\n",
       "    }\n",
       "\n",
       "    .dataframe thead th {\n",
       "        text-align: right;\n",
       "    }\n",
       "</style>\n",
       "<table border=\"1\" class=\"dataframe\">\n",
       "  <thead>\n",
       "    <tr style=\"text-align: right;\">\n",
       "      <th></th>\n",
       "      <th>InvoiceNo</th>\n",
       "      <th>StockCode</th>\n",
       "      <th>Description</th>\n",
       "      <th>Quantity</th>\n",
       "      <th>InvoiceDate</th>\n",
       "      <th>UnitPrice</th>\n",
       "      <th>CustomerID</th>\n",
       "      <th>Country</th>\n",
       "    </tr>\n",
       "  </thead>\n",
       "  <tbody>\n",
       "    <tr>\n",
       "      <th>0</th>\n",
       "      <td>536365</td>\n",
       "      <td>85123A</td>\n",
       "      <td>WHITE HANGING HEART T-LIGHT HOLDER</td>\n",
       "      <td>6</td>\n",
       "      <td>12/1/10 8:26</td>\n",
       "      <td>2.55</td>\n",
       "      <td>17850.0</td>\n",
       "      <td>United Kingdom</td>\n",
       "    </tr>\n",
       "    <tr>\n",
       "      <th>1</th>\n",
       "      <td>536365</td>\n",
       "      <td>71053</td>\n",
       "      <td>WHITE METAL LANTERN</td>\n",
       "      <td>6</td>\n",
       "      <td>12/1/10 8:26</td>\n",
       "      <td>3.39</td>\n",
       "      <td>17850.0</td>\n",
       "      <td>United Kingdom</td>\n",
       "    </tr>\n",
       "    <tr>\n",
       "      <th>2</th>\n",
       "      <td>536365</td>\n",
       "      <td>84406B</td>\n",
       "      <td>CREAM CUPID HEARTS COAT HANGER</td>\n",
       "      <td>8</td>\n",
       "      <td>12/1/10 8:26</td>\n",
       "      <td>2.75</td>\n",
       "      <td>17850.0</td>\n",
       "      <td>United Kingdom</td>\n",
       "    </tr>\n",
       "    <tr>\n",
       "      <th>3</th>\n",
       "      <td>536365</td>\n",
       "      <td>84029G</td>\n",
       "      <td>KNITTED UNION FLAG HOT WATER BOTTLE</td>\n",
       "      <td>6</td>\n",
       "      <td>12/1/10 8:26</td>\n",
       "      <td>3.39</td>\n",
       "      <td>17850.0</td>\n",
       "      <td>United Kingdom</td>\n",
       "    </tr>\n",
       "    <tr>\n",
       "      <th>4</th>\n",
       "      <td>536365</td>\n",
       "      <td>84029E</td>\n",
       "      <td>RED WOOLLY HOTTIE WHITE HEART.</td>\n",
       "      <td>6</td>\n",
       "      <td>12/1/10 8:26</td>\n",
       "      <td>3.39</td>\n",
       "      <td>17850.0</td>\n",
       "      <td>United Kingdom</td>\n",
       "    </tr>\n",
       "    <tr>\n",
       "      <th>5</th>\n",
       "      <td>536365</td>\n",
       "      <td>22752</td>\n",
       "      <td>SET 7 BABUSHKA NESTING BOXES</td>\n",
       "      <td>2</td>\n",
       "      <td>12/1/10 8:26</td>\n",
       "      <td>7.65</td>\n",
       "      <td>17850.0</td>\n",
       "      <td>United Kingdom</td>\n",
       "    </tr>\n",
       "    <tr>\n",
       "      <th>6</th>\n",
       "      <td>536365</td>\n",
       "      <td>21730</td>\n",
       "      <td>GLASS STAR FROSTED T-LIGHT HOLDER</td>\n",
       "      <td>6</td>\n",
       "      <td>12/1/10 8:26</td>\n",
       "      <td>4.25</td>\n",
       "      <td>17850.0</td>\n",
       "      <td>United Kingdom</td>\n",
       "    </tr>\n",
       "    <tr>\n",
       "      <th>7</th>\n",
       "      <td>536366</td>\n",
       "      <td>22633</td>\n",
       "      <td>HAND WARMER UNION JACK</td>\n",
       "      <td>6</td>\n",
       "      <td>12/1/10 8:28</td>\n",
       "      <td>1.85</td>\n",
       "      <td>17850.0</td>\n",
       "      <td>United Kingdom</td>\n",
       "    </tr>\n",
       "    <tr>\n",
       "      <th>8</th>\n",
       "      <td>536366</td>\n",
       "      <td>22632</td>\n",
       "      <td>HAND WARMER RED POLKA DOT</td>\n",
       "      <td>6</td>\n",
       "      <td>12/1/10 8:28</td>\n",
       "      <td>1.85</td>\n",
       "      <td>17850.0</td>\n",
       "      <td>United Kingdom</td>\n",
       "    </tr>\n",
       "    <tr>\n",
       "      <th>9</th>\n",
       "      <td>536367</td>\n",
       "      <td>84879</td>\n",
       "      <td>ASSORTED COLOUR BIRD ORNAMENT</td>\n",
       "      <td>32</td>\n",
       "      <td>12/1/10 8:34</td>\n",
       "      <td>1.69</td>\n",
       "      <td>13047.0</td>\n",
       "      <td>United Kingdom</td>\n",
       "    </tr>\n",
       "  </tbody>\n",
       "</table>\n",
       "</div>"
      ],
      "text/plain": [
       "  InvoiceNo StockCode                          Description  Quantity  \\\n",
       "0    536365    85123A   WHITE HANGING HEART T-LIGHT HOLDER         6   \n",
       "1    536365     71053                  WHITE METAL LANTERN         6   \n",
       "2    536365    84406B       CREAM CUPID HEARTS COAT HANGER         8   \n",
       "3    536365    84029G  KNITTED UNION FLAG HOT WATER BOTTLE         6   \n",
       "4    536365    84029E       RED WOOLLY HOTTIE WHITE HEART.         6   \n",
       "5    536365     22752         SET 7 BABUSHKA NESTING BOXES         2   \n",
       "6    536365     21730    GLASS STAR FROSTED T-LIGHT HOLDER         6   \n",
       "7    536366     22633               HAND WARMER UNION JACK         6   \n",
       "8    536366     22632            HAND WARMER RED POLKA DOT         6   \n",
       "9    536367     84879        ASSORTED COLOUR BIRD ORNAMENT        32   \n",
       "\n",
       "    InvoiceDate  UnitPrice  CustomerID         Country  \n",
       "0  12/1/10 8:26       2.55     17850.0  United Kingdom  \n",
       "1  12/1/10 8:26       3.39     17850.0  United Kingdom  \n",
       "2  12/1/10 8:26       2.75     17850.0  United Kingdom  \n",
       "3  12/1/10 8:26       3.39     17850.0  United Kingdom  \n",
       "4  12/1/10 8:26       3.39     17850.0  United Kingdom  \n",
       "5  12/1/10 8:26       7.65     17850.0  United Kingdom  \n",
       "6  12/1/10 8:26       4.25     17850.0  United Kingdom  \n",
       "7  12/1/10 8:28       1.85     17850.0  United Kingdom  \n",
       "8  12/1/10 8:28       1.85     17850.0  United Kingdom  \n",
       "9  12/1/10 8:34       1.69     13047.0  United Kingdom  "
      ]
     },
     "execution_count": 12,
     "metadata": {},
     "output_type": "execute_result"
    }
   ],
   "source": [
    "# Imprimiendolas primeras filas del dataframe\n",
    "retail_data.head(10)"
   ]
  },
  {
   "cell_type": "code",
   "execution_count": 13,
   "metadata": {},
   "outputs": [
    {
     "name": "stdout",
     "output_type": "stream",
     "text": [
      "Resumen estadístico:\\n             Quantity      UnitPrice     CustomerID\n",
      "count  541909.000000  541909.000000  406829.000000\n",
      "mean        9.552250       4.611114   15287.690570\n",
      "std       218.081158      96.759853    1713.600303\n",
      "min    -80995.000000  -11062.060000   12346.000000\n",
      "25%         1.000000       1.250000   13953.000000\n",
      "50%         3.000000       2.080000   15152.000000\n",
      "75%        10.000000       4.130000   16791.000000\n",
      "max     80995.000000   38970.000000   18287.000000\n"
     ]
    }
   ],
   "source": [
    "# Resumen estadístico\n",
    "summary = retail_data.describe()\n",
    "print(\"Resumen estadístico:\\\\n\", summary)"
   ]
  },
  {
   "cell_type": "code",
   "execution_count": 14,
   "metadata": {},
   "outputs": [
    {
     "name": "stdout",
     "output_type": "stream",
     "text": [
      "       InvoiceNo StockCode                   Description  Quantity  \\\n",
      "114538    546023     85175             wrongly sold sets      -975   \n",
      "114522    546018     85172          wrongly sold as sets      -600   \n",
      "117895    546408     22467  wrongly sold (22719) barcode       170   \n",
      "263884    560039     20713  wrongly marked. 23343 in box     -3100   \n",
      "456831    575722    85123A   wrongly marked carton 22804      -256   \n",
      "...          ...       ...                           ...       ...   \n",
      "535322    581199     84581                           NaN        -2   \n",
      "535326    581203     23406                           NaN        15   \n",
      "535332    581209     21620                           NaN         6   \n",
      "536981    581234     72817                           NaN        27   \n",
      "538554    581408     85175                           NaN        20   \n",
      "\n",
      "           InvoiceDate  UnitPrice  CustomerID         Country  \n",
      "114538    3/8/11 17:29        0.0         NaN  United Kingdom  \n",
      "114522    3/8/11 17:23        0.0         NaN  United Kingdom  \n",
      "117895   3/11/11 16:25        0.0         NaN  United Kingdom  \n",
      "263884   7/14/11 14:27        0.0         NaN  United Kingdom  \n",
      "456831  11/10/11 18:20        0.0         NaN  United Kingdom  \n",
      "...                ...        ...         ...             ...  \n",
      "535322   12/7/11 18:26        0.0         NaN  United Kingdom  \n",
      "535326   12/7/11 18:31        0.0         NaN  United Kingdom  \n",
      "535332   12/7/11 18:35        0.0         NaN  United Kingdom  \n",
      "536981   12/8/11 10:33        0.0         NaN  United Kingdom  \n",
      "538554   12/8/11 14:06        0.0         NaN  United Kingdom  \n",
      "\n",
      "[541909 rows x 8 columns]\n"
     ]
    }
   ],
   "source": [
    "Description = retail_data.sort_values(by='Description', ascending=False)\n",
    "print(Description)"
   ]
  },
  {
   "cell_type": "markdown",
   "metadata": {},
   "source": [
    "# Uso de iloc y loc en Pandas\n",
    "\n",
    "##### Seleccionar datos es una operación fundamental en cualquier análisis de datos. En Pandas, las dos formas más comunes de seleccionar datos son **iloc y loc.**\n",
    "\n",
    "**iloc[]** - Indexación por Enteros\n",
    "**iloc** se utiliza para la indexación basada en enteros, permitiendo seleccionar filas y columnas por su posición."
   ]
  },
  {
   "cell_type": "code",
   "execution_count": 15,
   "metadata": {},
   "outputs": [
    {
     "name": "stdout",
     "output_type": "stream",
     "text": [
      "InvoiceNo                              536365\n",
      "StockCode                              84406B\n",
      "Description    CREAM CUPID HEARTS COAT HANGER\n",
      "Quantity                                    8\n",
      "InvoiceDate                      12/1/10 8:26\n",
      "UnitPrice                                2.75\n",
      "CustomerID                            17850.0\n",
      "Country                        United Kingdom\n",
      "Name: 2, dtype: object\n"
     ]
    }
   ],
   "source": [
    "first_rows = retail_data.iloc[2]\n",
    "print(first_rows)"
   ]
  },
  {
   "cell_type": "code",
   "execution_count": 16,
   "metadata": {},
   "outputs": [
    {
     "name": "stdout",
     "output_type": "stream",
     "text": [
      "  InvoiceNo StockCode                          Description  Quantity  \\\n",
      "0    536365    85123A   WHITE HANGING HEART T-LIGHT HOLDER         6   \n",
      "1    536365     71053                  WHITE METAL LANTERN         6   \n",
      "2    536365    84406B       CREAM CUPID HEARTS COAT HANGER         8   \n",
      "3    536365    84029G  KNITTED UNION FLAG HOT WATER BOTTLE         6   \n",
      "4    536365    84029E       RED WOOLLY HOTTIE WHITE HEART.         6   \n",
      "\n",
      "    InvoiceDate  UnitPrice  CustomerID         Country  \n",
      "0  12/1/10 8:26       2.55     17850.0  United Kingdom  \n",
      "1  12/1/10 8:26       3.39     17850.0  United Kingdom  \n",
      "2  12/1/10 8:26       2.75     17850.0  United Kingdom  \n",
      "3  12/1/10 8:26       3.39     17850.0  United Kingdom  \n",
      "4  12/1/10 8:26       3.39     17850.0  United Kingdom  \n"
     ]
    }
   ],
   "source": [
    "# Imprimiendo las primeras 5 filas de mi dataset\n",
    "first_five_rows = retail_data.iloc[:5]\n",
    "print(first_five_rows)"
   ]
  },
  {
   "cell_type": "code",
   "execution_count": 17,
   "metadata": {},
   "outputs": [
    {
     "name": "stdout",
     "output_type": "stream",
     "text": [
      "  InvoiceNo StockCode                          Description  Quantity  \\\n",
      "0    536365    85123A   WHITE HANGING HEART T-LIGHT HOLDER         6   \n",
      "1    536365     71053                  WHITE METAL LANTERN         6   \n",
      "2    536365    84406B       CREAM CUPID HEARTS COAT HANGER         8   \n",
      "3    536365    84029G  KNITTED UNION FLAG HOT WATER BOTTLE         6   \n",
      "4    536365    84029E       RED WOOLLY HOTTIE WHITE HEART.         6   \n",
      "5    536365     22752         SET 7 BABUSHKA NESTING BOXES         2   \n",
      "6    536365     21730    GLASS STAR FROSTED T-LIGHT HOLDER         6   \n",
      "7    536366     22633               HAND WARMER UNION JACK         6   \n",
      "8    536366     22632            HAND WARMER RED POLKA DOT         6   \n",
      "9    536367     84879        ASSORTED COLOUR BIRD ORNAMENT        32   \n",
      "\n",
      "    InvoiceDate  UnitPrice  \n",
      "0  12/1/10 8:26       2.55  \n",
      "1  12/1/10 8:26       3.39  \n",
      "2  12/1/10 8:26       2.75  \n",
      "3  12/1/10 8:26       3.39  \n",
      "4  12/1/10 8:26       3.39  \n",
      "5  12/1/10 8:26       7.65  \n",
      "6  12/1/10 8:26       4.25  \n",
      "7  12/1/10 8:28       1.85  \n",
      "8  12/1/10 8:28       1.85  \n",
      "9  12/1/10 8:34       1.69  \n"
     ]
    }
   ],
   "source": [
    "# Creando un subset de las columnas \n",
    "subset = retail_data.iloc[:10, :6]\n",
    "print(subset)"
   ]
  },
  {
   "cell_type": "code",
   "execution_count": 18,
   "metadata": {},
   "outputs": [
    {
     "name": "stdout",
     "output_type": "stream",
     "text": [
      "       InvoiceNo StockCode                          Description  Quantity  \\\n",
      "0         536365    85123A   WHITE HANGING HEART T-LIGHT HOLDER         6   \n",
      "1         536365     71053                  WHITE METAL LANTERN         6   \n",
      "2         536365    84406B       CREAM CUPID HEARTS COAT HANGER         8   \n",
      "3         536365    84029G  KNITTED UNION FLAG HOT WATER BOTTLE         6   \n",
      "4         536365    84029E       RED WOOLLY HOTTIE WHITE HEART.         6   \n",
      "...          ...       ...                                  ...       ...   \n",
      "541904    581587     22613          PACK OF 20 SPACEBOY NAPKINS        12   \n",
      "541905    581587     22899         CHILDREN'S APRON DOLLY GIRL          6   \n",
      "541906    581587     23254        CHILDRENS CUTLERY DOLLY GIRL          4   \n",
      "541907    581587     23255      CHILDRENS CUTLERY CIRCUS PARADE         4   \n",
      "541908    581587     22138        BAKING SET 9 PIECE RETROSPOT          3   \n",
      "\n",
      "          InvoiceDate  UnitPrice  CustomerID         Country  \n",
      "0        12/1/10 8:26       2.55     17850.0  United Kingdom  \n",
      "1        12/1/10 8:26       3.39     17850.0  United Kingdom  \n",
      "2        12/1/10 8:26       2.75     17850.0  United Kingdom  \n",
      "3        12/1/10 8:26       3.39     17850.0  United Kingdom  \n",
      "4        12/1/10 8:26       3.39     17850.0  United Kingdom  \n",
      "...               ...        ...         ...             ...  \n",
      "541904  12/9/11 12:50       0.85     12680.0          France  \n",
      "541905  12/9/11 12:50       2.10     12680.0          France  \n",
      "541906  12/9/11 12:50       4.15     12680.0          France  \n",
      "541907  12/9/11 12:50       4.15     12680.0          France  \n",
      "541908  12/9/11 12:50       4.95     12680.0          France  \n",
      "\n",
      "[541909 rows x 8 columns]\n"
     ]
    }
   ],
   "source": [
    "retail_values = retail_data.iloc[1, 2]\n",
    "print(retail_data)"
   ]
  },
  {
   "cell_type": "markdown",
   "metadata": {},
   "source": [
    "### Trabajando con loc"
   ]
  },
  {
   "cell_type": "code",
   "execution_count": 19,
   "metadata": {},
   "outputs": [
    {
     "name": "stdout",
     "output_type": "stream",
     "text": [
      "InvoiceNo                                   536365\n",
      "StockCode                                   84029G\n",
      "Description    KNITTED UNION FLAG HOT WATER BOTTLE\n",
      "Quantity                                         6\n",
      "InvoiceDate                           12/1/10 8:26\n",
      "UnitPrice                                     3.39\n",
      "CustomerID                                 17850.0\n",
      "Country                             United Kingdom\n",
      "Name: 3, dtype: object\n"
     ]
    }
   ],
   "source": [
    "row_index_3 = retail_data.loc[3]\n",
    "print(row_index_3)"
   ]
  },
  {
   "cell_type": "code",
   "execution_count": 20,
   "metadata": {},
   "outputs": [
    {
     "name": "stdout",
     "output_type": "stream",
     "text": [
      "  InvoiceNo StockCode                          Description  Quantity  \\\n",
      "0    536365    85123A   WHITE HANGING HEART T-LIGHT HOLDER         6   \n",
      "1    536365     71053                  WHITE METAL LANTERN         6   \n",
      "2    536365    84406B       CREAM CUPID HEARTS COAT HANGER         8   \n",
      "3    536365    84029G  KNITTED UNION FLAG HOT WATER BOTTLE         6   \n",
      "4    536365    84029E       RED WOOLLY HOTTIE WHITE HEART.         6   \n",
      "5    536365     22752         SET 7 BABUSHKA NESTING BOXES         2   \n",
      "6    536365     21730    GLASS STAR FROSTED T-LIGHT HOLDER         6   \n",
      "7    536366     22633               HAND WARMER UNION JACK         6   \n",
      "8    536366     22632            HAND WARMER RED POLKA DOT         6   \n",
      "\n",
      "    InvoiceDate  UnitPrice  CustomerID         Country  \n",
      "0  12/1/10 8:26       2.55     17850.0  United Kingdom  \n",
      "1  12/1/10 8:26       3.39     17850.0  United Kingdom  \n",
      "2  12/1/10 8:26       2.75     17850.0  United Kingdom  \n",
      "3  12/1/10 8:26       3.39     17850.0  United Kingdom  \n",
      "4  12/1/10 8:26       3.39     17850.0  United Kingdom  \n",
      "5  12/1/10 8:26       7.65     17850.0  United Kingdom  \n",
      "6  12/1/10 8:26       4.25     17850.0  United Kingdom  \n",
      "7  12/1/10 8:28       1.85     17850.0  United Kingdom  \n",
      "8  12/1/10 8:28       1.85     17850.0  United Kingdom  \n"
     ]
    }
   ],
   "source": [
    "row_index_0_to_8 = retail_data.loc[0:8]\n",
    "print(row_index_0_to_8)"
   ]
  },
  {
   "cell_type": "code",
   "execution_count": 21,
   "metadata": {},
   "outputs": [
    {
     "name": "stdout",
     "output_type": "stream",
     "text": [
      "       InvoiceNo StockCode                          Description  Quantity  \\\n",
      "0         536365    85123A   WHITE HANGING HEART T-LIGHT HOLDER         6   \n",
      "1         536365     71053                  WHITE METAL LANTERN         6   \n",
      "2         536365    84406B       CREAM CUPID HEARTS COAT HANGER         8   \n",
      "3         536365    84029G  KNITTED UNION FLAG HOT WATER BOTTLE         6   \n",
      "4         536365    84029E       RED WOOLLY HOTTIE WHITE HEART.         6   \n",
      "...          ...       ...                                  ...       ...   \n",
      "541904    581587     22613          PACK OF 20 SPACEBOY NAPKINS        12   \n",
      "541905    581587     22899         CHILDREN'S APRON DOLLY GIRL          6   \n",
      "541906    581587     23254        CHILDRENS CUTLERY DOLLY GIRL          4   \n",
      "541907    581587     23255      CHILDRENS CUTLERY CIRCUS PARADE         4   \n",
      "541908    581587     22138        BAKING SET 9 PIECE RETROSPOT          3   \n",
      "\n",
      "          InvoiceDate  UnitPrice  CustomerID         Country  \n",
      "0        12/1/10 8:26       2.55     17850.0  United Kingdom  \n",
      "1        12/1/10 8:26       3.39     17850.0  United Kingdom  \n",
      "2        12/1/10 8:26       2.75     17850.0  United Kingdom  \n",
      "3        12/1/10 8:26       3.39     17850.0  United Kingdom  \n",
      "4        12/1/10 8:26       3.39     17850.0  United Kingdom  \n",
      "...               ...        ...         ...             ...  \n",
      "541904  12/9/11 12:50       0.85     12680.0          France  \n",
      "541905  12/9/11 12:50       2.10     12680.0          France  \n",
      "541906  12/9/11 12:50       4.15     12680.0          France  \n",
      "541907  12/9/11 12:50       4.15     12680.0          France  \n",
      "541908  12/9/11 12:50       4.95     12680.0          France  \n",
      "\n",
      "[541909 rows x 8 columns]\n"
     ]
    }
   ],
   "source": [
    "#Especificando la etiquetade la columna que queremos\n",
    "Quantity_column = retail_data.loc[:'Quantity']\n",
    "print(Quantity_column)"
   ]
  },
  {
   "cell_type": "code",
   "execution_count": 22,
   "metadata": {},
   "outputs": [
    {
     "name": "stdout",
     "output_type": "stream",
     "text": [
      "        Quantity  UnitPrice                          Description\n",
      "0              6       2.55   WHITE HANGING HEART T-LIGHT HOLDER\n",
      "1              6       3.39                  WHITE METAL LANTERN\n",
      "2              8       2.75       CREAM CUPID HEARTS COAT HANGER\n",
      "3              6       3.39  KNITTED UNION FLAG HOT WATER BOTTLE\n",
      "4              6       3.39       RED WOOLLY HOTTIE WHITE HEART.\n",
      "...          ...        ...                                  ...\n",
      "541904        12       0.85          PACK OF 20 SPACEBOY NAPKINS\n",
      "541905         6       2.10         CHILDREN'S APRON DOLLY GIRL \n",
      "541906         4       4.15        CHILDRENS CUTLERY DOLLY GIRL \n",
      "541907         4       4.15      CHILDRENS CUTLERY CIRCUS PARADE\n",
      "541908         3       4.95        BAKING SET 9 PIECE RETROSPOT \n",
      "\n",
      "[541909 rows x 3 columns]\n"
     ]
    }
   ],
   "source": [
    "#imprimiendo los datos de varias columnas \n",
    "quantity_unipreces_column = retail_data.loc[:,['Quantity','UnitPrice','Description']]\n",
    "print(quantity_unipreces_column)"
   ]
  },
  {
   "cell_type": "markdown",
   "metadata": {},
   "source": [
    "# Manejo de Datos Faltantes en Pandas\n",
    "\n",
    "Manejar datos faltantes es un paso crucial en el proceso de limpieza y preparación de datos para el análisis. Pandas ofrece una variedad de métodos para identificar, eliminar, y rellenar datos faltantes en un DataFrame o Series"
   ]
  },
  {
   "cell_type": "markdown",
   "metadata": {},
   "source": [
    "- Manejar datos faltantes es un paso crucial en el proceso de limpieza y preparación de datos para el análisis. Pandas ofrece una variedad de métodos para identificar, eliminar, y rellenar datos faltantes en un DataFrame o Series.\n",
    "\n",
    "### Identificación de Datos Faltantes\n",
    "Primero, es importante identificar dónde se encuentran los datos faltantes en tu dataset.\n",
    "\n",
    "### Métodos Comunes:\n",
    "\"isnull()\": Devuelve un DataFrame del mismo tamaño que indica con True o False dónde hay valores faltantes (NaN).\n",
    "\"notnull\": Es lo contrario de isnull(), devuelve True donde no hay valores faltantes."
   ]
  },
  {
   "cell_type": "code",
   "execution_count": 23,
   "metadata": {},
   "outputs": [
    {
     "data": {
      "text/html": [
       "<div>\n",
       "<style scoped>\n",
       "    .dataframe tbody tr th:only-of-type {\n",
       "        vertical-align: middle;\n",
       "    }\n",
       "\n",
       "    .dataframe tbody tr th {\n",
       "        vertical-align: top;\n",
       "    }\n",
       "\n",
       "    .dataframe thead th {\n",
       "        text-align: right;\n",
       "    }\n",
       "</style>\n",
       "<table border=\"1\" class=\"dataframe\">\n",
       "  <thead>\n",
       "    <tr style=\"text-align: right;\">\n",
       "      <th></th>\n",
       "      <th>InvoiceNo</th>\n",
       "      <th>StockCode</th>\n",
       "      <th>Description</th>\n",
       "      <th>Quantity</th>\n",
       "      <th>InvoiceDate</th>\n",
       "      <th>UnitPrice</th>\n",
       "      <th>CustomerID</th>\n",
       "      <th>Country</th>\n",
       "    </tr>\n",
       "  </thead>\n",
       "  <tbody>\n",
       "    <tr>\n",
       "      <th>0</th>\n",
       "      <td>False</td>\n",
       "      <td>False</td>\n",
       "      <td>False</td>\n",
       "      <td>False</td>\n",
       "      <td>False</td>\n",
       "      <td>False</td>\n",
       "      <td>False</td>\n",
       "      <td>False</td>\n",
       "    </tr>\n",
       "    <tr>\n",
       "      <th>1</th>\n",
       "      <td>False</td>\n",
       "      <td>False</td>\n",
       "      <td>False</td>\n",
       "      <td>False</td>\n",
       "      <td>False</td>\n",
       "      <td>False</td>\n",
       "      <td>False</td>\n",
       "      <td>False</td>\n",
       "    </tr>\n",
       "    <tr>\n",
       "      <th>2</th>\n",
       "      <td>False</td>\n",
       "      <td>False</td>\n",
       "      <td>False</td>\n",
       "      <td>False</td>\n",
       "      <td>False</td>\n",
       "      <td>False</td>\n",
       "      <td>False</td>\n",
       "      <td>False</td>\n",
       "    </tr>\n",
       "    <tr>\n",
       "      <th>3</th>\n",
       "      <td>False</td>\n",
       "      <td>False</td>\n",
       "      <td>False</td>\n",
       "      <td>False</td>\n",
       "      <td>False</td>\n",
       "      <td>False</td>\n",
       "      <td>False</td>\n",
       "      <td>False</td>\n",
       "    </tr>\n",
       "    <tr>\n",
       "      <th>4</th>\n",
       "      <td>False</td>\n",
       "      <td>False</td>\n",
       "      <td>False</td>\n",
       "      <td>False</td>\n",
       "      <td>False</td>\n",
       "      <td>False</td>\n",
       "      <td>False</td>\n",
       "      <td>False</td>\n",
       "    </tr>\n",
       "    <tr>\n",
       "      <th>5</th>\n",
       "      <td>False</td>\n",
       "      <td>False</td>\n",
       "      <td>False</td>\n",
       "      <td>False</td>\n",
       "      <td>False</td>\n",
       "      <td>False</td>\n",
       "      <td>False</td>\n",
       "      <td>False</td>\n",
       "    </tr>\n",
       "    <tr>\n",
       "      <th>6</th>\n",
       "      <td>False</td>\n",
       "      <td>False</td>\n",
       "      <td>False</td>\n",
       "      <td>False</td>\n",
       "      <td>False</td>\n",
       "      <td>False</td>\n",
       "      <td>False</td>\n",
       "      <td>False</td>\n",
       "    </tr>\n",
       "    <tr>\n",
       "      <th>7</th>\n",
       "      <td>False</td>\n",
       "      <td>False</td>\n",
       "      <td>False</td>\n",
       "      <td>False</td>\n",
       "      <td>False</td>\n",
       "      <td>False</td>\n",
       "      <td>False</td>\n",
       "      <td>False</td>\n",
       "    </tr>\n",
       "    <tr>\n",
       "      <th>8</th>\n",
       "      <td>False</td>\n",
       "      <td>False</td>\n",
       "      <td>False</td>\n",
       "      <td>False</td>\n",
       "      <td>False</td>\n",
       "      <td>False</td>\n",
       "      <td>False</td>\n",
       "      <td>False</td>\n",
       "    </tr>\n",
       "    <tr>\n",
       "      <th>9</th>\n",
       "      <td>False</td>\n",
       "      <td>False</td>\n",
       "      <td>False</td>\n",
       "      <td>False</td>\n",
       "      <td>False</td>\n",
       "      <td>False</td>\n",
       "      <td>False</td>\n",
       "      <td>False</td>\n",
       "    </tr>\n",
       "  </tbody>\n",
       "</table>\n",
       "</div>"
      ],
      "text/plain": [
       "   InvoiceNo  StockCode  Description  Quantity  InvoiceDate  UnitPrice  \\\n",
       "0      False      False        False     False        False      False   \n",
       "1      False      False        False     False        False      False   \n",
       "2      False      False        False     False        False      False   \n",
       "3      False      False        False     False        False      False   \n",
       "4      False      False        False     False        False      False   \n",
       "5      False      False        False     False        False      False   \n",
       "6      False      False        False     False        False      False   \n",
       "7      False      False        False     False        False      False   \n",
       "8      False      False        False     False        False      False   \n",
       "9      False      False        False     False        False      False   \n",
       "\n",
       "   CustomerID  Country  \n",
       "0       False    False  \n",
       "1       False    False  \n",
       "2       False    False  \n",
       "3       False    False  \n",
       "4       False    False  \n",
       "5       False    False  \n",
       "6       False    False  \n",
       "7       False    False  \n",
       "8       False    False  \n",
       "9       False    False  "
      ]
     },
     "execution_count": 23,
     "metadata": {},
     "output_type": "execute_result"
    }
   ],
   "source": [
    "missing_data = retail_data.isna()\n",
    "#print(missing_data)\n",
    "missing_data.head(10)"
   ]
  },
  {
   "cell_type": "code",
   "execution_count": 24,
   "metadata": {},
   "outputs": [
    {
     "name": "stdout",
     "output_type": "stream",
     "text": [
      "Conteo de datos faltantes por colomna:\n",
      " InvoiceNo           0\n",
      "StockCode           0\n",
      "Description      1454\n",
      "Quantity            0\n",
      "InvoiceDate         0\n",
      "UnitPrice           0\n",
      "CustomerID     135080\n",
      "Country             0\n",
      "dtype: int64\n"
     ]
    }
   ],
   "source": [
    "missing_data_count = retail_data.isna().sum()\n",
    "print('Conteo de datos faltantes por colomna:\\n', missing_data_count)"
   ]
  },
  {
   "cell_type": "code",
   "execution_count": 25,
   "metadata": {},
   "outputs": [
    {
     "name": "stdout",
     "output_type": "stream",
     "text": [
      "Datos sin fila con valores faltantes:\n",
      "        InvoiceNo StockCode                          Description  Quantity  \\\n",
      "0         536365    85123A   WHITE HANGING HEART T-LIGHT HOLDER         6   \n",
      "1         536365     71053                  WHITE METAL LANTERN         6   \n",
      "2         536365    84406B       CREAM CUPID HEARTS COAT HANGER         8   \n",
      "3         536365    84029G  KNITTED UNION FLAG HOT WATER BOTTLE         6   \n",
      "4         536365    84029E       RED WOOLLY HOTTIE WHITE HEART.         6   \n",
      "...          ...       ...                                  ...       ...   \n",
      "541904    581587     22613          PACK OF 20 SPACEBOY NAPKINS        12   \n",
      "541905    581587     22899         CHILDREN'S APRON DOLLY GIRL          6   \n",
      "541906    581587     23254        CHILDRENS CUTLERY DOLLY GIRL          4   \n",
      "541907    581587     23255      CHILDRENS CUTLERY CIRCUS PARADE         4   \n",
      "541908    581587     22138        BAKING SET 9 PIECE RETROSPOT          3   \n",
      "\n",
      "          InvoiceDate  UnitPrice  CustomerID         Country  \n",
      "0        12/1/10 8:26       2.55     17850.0  United Kingdom  \n",
      "1        12/1/10 8:26       3.39     17850.0  United Kingdom  \n",
      "2        12/1/10 8:26       2.75     17850.0  United Kingdom  \n",
      "3        12/1/10 8:26       3.39     17850.0  United Kingdom  \n",
      "4        12/1/10 8:26       3.39     17850.0  United Kingdom  \n",
      "...               ...        ...         ...             ...  \n",
      "541904  12/9/11 12:50       0.85     12680.0          France  \n",
      "541905  12/9/11 12:50       2.10     12680.0          France  \n",
      "541906  12/9/11 12:50       4.15     12680.0          France  \n",
      "541907  12/9/11 12:50       4.15     12680.0          France  \n",
      "541908  12/9/11 12:50       4.95     12680.0          France  \n",
      "\n",
      "[406829 rows x 8 columns]\n"
     ]
    }
   ],
   "source": [
    "#Eleminando valores faltantes \n",
    "no_missing_rows = retail_data.dropna()\n",
    "print('Datos sin fila con valores faltantes:\\n', no_missing_rows)"
   ]
  },
  {
   "cell_type": "code",
   "execution_count": 26,
   "metadata": {},
   "outputs": [
    {
     "name": "stdout",
     "output_type": "stream",
     "text": [
      "       InvoiceNo StockCode  Quantity    InvoiceDate  UnitPrice         Country\n",
      "0         536365    85123A         6   12/1/10 8:26       2.55  United Kingdom\n",
      "1         536365     71053         6   12/1/10 8:26       3.39  United Kingdom\n",
      "2         536365    84406B         8   12/1/10 8:26       2.75  United Kingdom\n",
      "3         536365    84029G         6   12/1/10 8:26       3.39  United Kingdom\n",
      "4         536365    84029E         6   12/1/10 8:26       3.39  United Kingdom\n",
      "...          ...       ...       ...            ...        ...             ...\n",
      "541904    581587     22613        12  12/9/11 12:50       0.85          France\n",
      "541905    581587     22899         6  12/9/11 12:50       2.10          France\n",
      "541906    581587     23254         4  12/9/11 12:50       4.15          France\n",
      "541907    581587     23255         4  12/9/11 12:50       4.15          France\n",
      "541908    581587     22138         3  12/9/11 12:50       4.95          France\n",
      "\n",
      "[541909 rows x 6 columns]\n"
     ]
    }
   ],
   "source": [
    "#Datos sin columnas con valor faltantes\n",
    "no_missing_rows = retail_data.dropna(axis=1)\n",
    "print(no_missing_rows)"
   ]
  },
  {
   "cell_type": "code",
   "execution_count": 27,
   "metadata": {},
   "outputs": [
    {
     "name": "stdout",
     "output_type": "stream",
     "text": [
      "       InvoiceNo StockCode                          Description  Quantity  \\\n",
      "0         536365    85123A   WHITE HANGING HEART T-LIGHT HOLDER         6   \n",
      "1         536365     71053                  WHITE METAL LANTERN         6   \n",
      "2         536365    84406B       CREAM CUPID HEARTS COAT HANGER         8   \n",
      "3         536365    84029G  KNITTED UNION FLAG HOT WATER BOTTLE         6   \n",
      "4         536365    84029E       RED WOOLLY HOTTIE WHITE HEART.         6   \n",
      "...          ...       ...                                  ...       ...   \n",
      "541904    581587     22613          PACK OF 20 SPACEBOY NAPKINS        12   \n",
      "541905    581587     22899         CHILDREN'S APRON DOLLY GIRL          6   \n",
      "541906    581587     23254        CHILDRENS CUTLERY DOLLY GIRL          4   \n",
      "541907    581587     23255      CHILDRENS CUTLERY CIRCUS PARADE         4   \n",
      "541908    581587     22138        BAKING SET 9 PIECE RETROSPOT          3   \n",
      "\n",
      "          InvoiceDate  UnitPrice  CustomerID         Country  \n",
      "0        12/1/10 8:26       2.55     17850.0  United Kingdom  \n",
      "1        12/1/10 8:26       3.39     17850.0  United Kingdom  \n",
      "2        12/1/10 8:26       2.75     17850.0  United Kingdom  \n",
      "3        12/1/10 8:26       3.39     17850.0  United Kingdom  \n",
      "4        12/1/10 8:26       3.39     17850.0  United Kingdom  \n",
      "...               ...        ...         ...             ...  \n",
      "541904  12/9/11 12:50       0.85     12680.0          France  \n",
      "541905  12/9/11 12:50       2.10     12680.0          France  \n",
      "541906  12/9/11 12:50       4.15     12680.0          France  \n",
      "541907  12/9/11 12:50       4.15     12680.0          France  \n",
      "541908  12/9/11 12:50       4.95     12680.0          France  \n",
      "\n",
      "[541909 rows x 8 columns]\n"
     ]
    }
   ],
   "source": [
    "# Lenando los valores faltantes con zero \n",
    "retail_data_fillef_zeros = retail_data.fillna(0)\n",
    "print(retail_data_fillef_zeros)"
   ]
  },
  {
   "cell_type": "code",
   "execution_count": 28,
   "metadata": {},
   "outputs": [
    {
     "name": "stdout",
     "output_type": "stream",
     "text": [
      "InvoiceNo      0\n",
      "StockCode      0\n",
      "Description    0\n",
      "Quantity       0\n",
      "InvoiceDate    0\n",
      "UnitPrice      0\n",
      "CustomerID     0\n",
      "Country        0\n",
      "dtype: int64\n"
     ]
    }
   ],
   "source": [
    "# Lenando los valores faltantes con zero \n",
    "retail_data_fillef_zeros = retail_data.fillna(0)\n",
    "print(retail_data_fillef_zeros)"
   ]
  },
  {
   "cell_type": "code",
   "execution_count": 29,
   "metadata": {},
   "outputs": [
    {
     "name": "stdout",
     "output_type": "stream",
     "text": [
      "0         2.55\n",
      "1         3.39\n",
      "2         2.75\n",
      "3         3.39\n",
      "4         3.39\n",
      "          ... \n",
      "541904    0.85\n",
      "541905    2.10\n",
      "541906    4.15\n",
      "541907    4.15\n",
      "541908    4.95\n",
      "Name: UnitPrice, Length: 541909, dtype: float64\n"
     ]
    }
   ],
   "source": [
    "# Remplazando valores faltates con la media \n",
    "mean_unit_price = retail_data['UnitPrice'].mean()\n",
    "retail_data_filled_mean = retail_data['UnitPrice'].fillna(mean_unit_price)\n",
    "print(retail_data_filled_mean)"
   ]
  },
  {
   "cell_type": "markdown",
   "metadata": {},
   "source": [
    "## Conclusión\n",
    "- El manejo de datos faltantes es un aspecto crucial del preprocesamiento de datos en análisis de datos. La elección entre eliminar o imputar datos faltantes depende de la naturaleza de los datos y del impacto que los datos faltantes pueden tener en el análisis. Con las herramientas que ofrece Pandas, puedes manejar eficientemente los datos faltantes de manera flexible y adecuada.\n",
    "\n",
    "\n",
    "\n",
    "\n",
    "\n",
    "\n"
   ]
  },
  {
   "cell_type": "markdown",
   "metadata": {},
   "source": [
    "# Creación y Manipulación de Columnas en Pandas"
   ]
  },
  {
   "cell_type": "code",
   "execution_count": 30,
   "metadata": {},
   "outputs": [
    {
     "data": {
      "text/html": [
       "<div>\n",
       "<style scoped>\n",
       "    .dataframe tbody tr th:only-of-type {\n",
       "        vertical-align: middle;\n",
       "    }\n",
       "\n",
       "    .dataframe tbody tr th {\n",
       "        vertical-align: top;\n",
       "    }\n",
       "\n",
       "    .dataframe thead th {\n",
       "        text-align: right;\n",
       "    }\n",
       "</style>\n",
       "<table border=\"1\" class=\"dataframe\">\n",
       "  <thead>\n",
       "    <tr style=\"text-align: right;\">\n",
       "      <th></th>\n",
       "      <th>InvoiceNo</th>\n",
       "      <th>StockCode</th>\n",
       "      <th>Description</th>\n",
       "      <th>Quantity</th>\n",
       "      <th>InvoiceDate</th>\n",
       "      <th>UnitPrice</th>\n",
       "      <th>CustomerID</th>\n",
       "      <th>Country</th>\n",
       "    </tr>\n",
       "  </thead>\n",
       "  <tbody>\n",
       "    <tr>\n",
       "      <th>0</th>\n",
       "      <td>536365</td>\n",
       "      <td>85123A</td>\n",
       "      <td>WHITE HANGING HEART T-LIGHT HOLDER</td>\n",
       "      <td>6</td>\n",
       "      <td>12/1/10 8:26</td>\n",
       "      <td>2.55</td>\n",
       "      <td>17850.0</td>\n",
       "      <td>United Kingdom</td>\n",
       "    </tr>\n",
       "    <tr>\n",
       "      <th>1</th>\n",
       "      <td>536365</td>\n",
       "      <td>71053</td>\n",
       "      <td>WHITE METAL LANTERN</td>\n",
       "      <td>6</td>\n",
       "      <td>12/1/10 8:26</td>\n",
       "      <td>3.39</td>\n",
       "      <td>17850.0</td>\n",
       "      <td>United Kingdom</td>\n",
       "    </tr>\n",
       "    <tr>\n",
       "      <th>2</th>\n",
       "      <td>536365</td>\n",
       "      <td>84406B</td>\n",
       "      <td>CREAM CUPID HEARTS COAT HANGER</td>\n",
       "      <td>8</td>\n",
       "      <td>12/1/10 8:26</td>\n",
       "      <td>2.75</td>\n",
       "      <td>17850.0</td>\n",
       "      <td>United Kingdom</td>\n",
       "    </tr>\n",
       "    <tr>\n",
       "      <th>3</th>\n",
       "      <td>536365</td>\n",
       "      <td>84029G</td>\n",
       "      <td>KNITTED UNION FLAG HOT WATER BOTTLE</td>\n",
       "      <td>6</td>\n",
       "      <td>12/1/10 8:26</td>\n",
       "      <td>3.39</td>\n",
       "      <td>17850.0</td>\n",
       "      <td>United Kingdom</td>\n",
       "    </tr>\n",
       "    <tr>\n",
       "      <th>4</th>\n",
       "      <td>536365</td>\n",
       "      <td>84029E</td>\n",
       "      <td>RED WOOLLY HOTTIE WHITE HEART.</td>\n",
       "      <td>6</td>\n",
       "      <td>12/1/10 8:26</td>\n",
       "      <td>3.39</td>\n",
       "      <td>17850.0</td>\n",
       "      <td>United Kingdom</td>\n",
       "    </tr>\n",
       "  </tbody>\n",
       "</table>\n",
       "</div>"
      ],
      "text/plain": [
       "  InvoiceNo StockCode                          Description  Quantity  \\\n",
       "0    536365    85123A   WHITE HANGING HEART T-LIGHT HOLDER         6   \n",
       "1    536365     71053                  WHITE METAL LANTERN         6   \n",
       "2    536365    84406B       CREAM CUPID HEARTS COAT HANGER         8   \n",
       "3    536365    84029G  KNITTED UNION FLAG HOT WATER BOTTLE         6   \n",
       "4    536365    84029E       RED WOOLLY HOTTIE WHITE HEART.         6   \n",
       "\n",
       "    InvoiceDate  UnitPrice  CustomerID         Country  \n",
       "0  12/1/10 8:26       2.55     17850.0  United Kingdom  \n",
       "1  12/1/10 8:26       3.39     17850.0  United Kingdom  \n",
       "2  12/1/10 8:26       2.75     17850.0  United Kingdom  \n",
       "3  12/1/10 8:26       3.39     17850.0  United Kingdom  \n",
       "4  12/1/10 8:26       3.39     17850.0  United Kingdom  "
      ]
     },
     "execution_count": 30,
     "metadata": {},
     "output_type": "execute_result"
    }
   ],
   "source": [
    "df = retail_data \n",
    "df.head()\n"
   ]
  },
  {
   "cell_type": "code",
   "execution_count": 31,
   "metadata": {},
   "outputs": [
    {
     "name": "stdout",
     "output_type": "stream",
     "text": [
      "  InvoiceNo StockCode                          Description  Quantity  \\\n",
      "0    536365    85123A   WHITE HANGING HEART T-LIGHT HOLDER         6   \n",
      "1    536365     71053                  WHITE METAL LANTERN         6   \n",
      "2    536365    84406B       CREAM CUPID HEARTS COAT HANGER         8   \n",
      "3    536365    84029G  KNITTED UNION FLAG HOT WATER BOTTLE         6   \n",
      "4    536365    84029E       RED WOOLLY HOTTIE WHITE HEART.         6   \n",
      "\n",
      "    InvoiceDate  UnitPrice  CustomerID         Country  TotalPrice  \n",
      "0  12/1/10 8:26       2.55     17850.0  United Kingdom       15.30  \n",
      "1  12/1/10 8:26       3.39     17850.0  United Kingdom       20.34  \n",
      "2  12/1/10 8:26       2.75     17850.0  United Kingdom       22.00  \n",
      "3  12/1/10 8:26       3.39     17850.0  United Kingdom       20.34  \n",
      "4  12/1/10 8:26       3.39     17850.0  United Kingdom       20.34  \n"
     ]
    }
   ],
   "source": [
    "#Manipulacion de columnas \n",
    "df['TotalPrice'] = df['Quantity'] * df['UnitPrice']\n",
    "print(df.head())"
   ]
  },
  {
   "cell_type": "code",
   "execution_count": 32,
   "metadata": {},
   "outputs": [
    {
     "name": "stdout",
     "output_type": "stream",
     "text": [
      "0     False\n",
      "1      True\n",
      "2      True\n",
      "3      True\n",
      "4      True\n",
      "5     False\n",
      "6      True\n",
      "7     False\n",
      "8     False\n",
      "9      True\n",
      "10    False\n",
      "11    False\n",
      "12     True\n",
      "13    False\n",
      "14     True\n",
      "15    False\n",
      "16     True\n",
      "17     True\n",
      "18     True\n",
      "19     True\n",
      "Name: HighValue, dtype: bool\n"
     ]
    }
   ],
   "source": [
    "#Valores mas altos \n",
    "df['HighValue'] = df['TotalPrice'] > 16\n",
    "print(df['HighValue'].head(20))"
   ]
  },
  {
   "cell_type": "code",
   "execution_count": 33,
   "metadata": {},
   "outputs": [
    {
     "name": "stdout",
     "output_type": "stream",
     "text": [
      "<class 'pandas.core.frame.DataFrame'>\n",
      "RangeIndex: 541909 entries, 0 to 541908\n",
      "Data columns (total 10 columns):\n",
      " #   Column       Non-Null Count   Dtype  \n",
      "---  ------       --------------   -----  \n",
      " 0   InvoiceNo    541909 non-null  object \n",
      " 1   StockCode    541909 non-null  object \n",
      " 2   Description  540455 non-null  object \n",
      " 3   Quantity     541909 non-null  int64  \n",
      " 4   InvoiceDate  541909 non-null  object \n",
      " 5   UnitPrice    541909 non-null  float64\n",
      " 6   CustomerID   406829 non-null  float64\n",
      " 7   Country      541909 non-null  object \n",
      " 8   TotalPrice   541909 non-null  float64\n",
      " 9   HighValue    541909 non-null  bool   \n",
      "dtypes: bool(1), float64(3), int64(1), object(5)\n",
      "memory usage: 37.7+ MB\n",
      "None\n"
     ]
    }
   ],
   "source": [
    "print(df.info())"
   ]
  },
  {
   "cell_type": "code",
   "execution_count": 34,
   "metadata": {},
   "outputs": [
    {
     "name": "stderr",
     "output_type": "stream",
     "text": [
      "/tmp/ipykernel_32024/622256166.py:2: UserWarning: Could not infer format, so each element will be parsed individually, falling back to `dateutil`. To ensure parsing is consistent and as-expected, please specify a format.\n",
      "  df['InvoiceDate'] = pd.to_datetime(df['InvoiceDate'])\n"
     ]
    },
    {
     "name": "stdout",
     "output_type": "stream",
     "text": [
      "<class 'pandas.core.frame.DataFrame'>\n",
      "RangeIndex: 541909 entries, 0 to 541908\n",
      "Data columns (total 10 columns):\n",
      " #   Column       Non-Null Count   Dtype         \n",
      "---  ------       --------------   -----         \n",
      " 0   InvoiceNo    541909 non-null  object        \n",
      " 1   StockCode    541909 non-null  object        \n",
      " 2   Description  540455 non-null  object        \n",
      " 3   Quantity     541909 non-null  int64         \n",
      " 4   InvoiceDate  541909 non-null  datetime64[ns]\n",
      " 5   UnitPrice    541909 non-null  float64       \n",
      " 6   CustomerID   406829 non-null  float64       \n",
      " 7   Country      541909 non-null  object        \n",
      " 8   TotalPrice   541909 non-null  float64       \n",
      " 9   HighValue    541909 non-null  bool          \n",
      "dtypes: bool(1), datetime64[ns](1), float64(3), int64(1), object(4)\n",
      "memory usage: 37.7+ MB\n",
      "None\n"
     ]
    }
   ],
   "source": [
    "#Tranformacion de Tipo de valores\n",
    "df['InvoiceDate'] = pd.to_datetime(df['InvoiceDate'])\n",
    "print(df.info())"
   ]
  },
  {
   "cell_type": "code",
   "execution_count": 35,
   "metadata": {},
   "outputs": [
    {
     "name": "stdout",
     "output_type": "stream",
     "text": [
      "  InvoiceNo StockCode                          Description  Quantity  \\\n",
      "0    536365    85123A   WHITE HANGING HEART T-LIGHT HOLDER         6   \n",
      "1    536365     71053                  WHITE METAL LANTERN         6   \n",
      "2    536365    84406B       CREAM CUPID HEARTS COAT HANGER         8   \n",
      "3    536365    84029G  KNITTED UNION FLAG HOT WATER BOTTLE         6   \n",
      "4    536365    84029E       RED WOOLLY HOTTIE WHITE HEART.         6   \n",
      "5    536365     22752         SET 7 BABUSHKA NESTING BOXES         2   \n",
      "\n",
      "          InvoiceDate  UnitPrice  CustomerID         Country  TotalPrice  \\\n",
      "0 2010-12-01 08:26:00       2.55     17850.0  United Kingdom       15.30   \n",
      "1 2010-12-01 08:26:00       3.39     17850.0  United Kingdom       20.34   \n",
      "2 2010-12-01 08:26:00       2.75     17850.0  United Kingdom       22.00   \n",
      "3 2010-12-01 08:26:00       3.39     17850.0  United Kingdom       20.34   \n",
      "4 2010-12-01 08:26:00       3.39     17850.0  United Kingdom       20.34   \n",
      "5 2010-12-01 08:26:00       7.65     17850.0  United Kingdom       15.30   \n",
      "\n",
      "   HighValue  DiscountedPrice  \n",
      "0      False            2.295  \n",
      "1       True            3.051  \n",
      "2       True            2.475  \n",
      "3       True            3.051  \n",
      "4       True            3.051  \n",
      "5      False            6.885  \n"
     ]
    }
   ],
   "source": [
    "#Aplicando un valor a los datos de una columna \n",
    "df['DiscountedPrice'] = df['UnitPrice'].apply(lambda x: x* 0.9)\n",
    "print(df.head(6))"
   ]
  },
  {
   "cell_type": "code",
   "execution_count": 36,
   "metadata": {},
   "outputs": [
    {
     "name": "stdout",
     "output_type": "stream",
     "text": [
      "   InvoiceNo StockCode                          Description  Quantity  \\\n",
      "0     536365    85123A   WHITE HANGING HEART T-LIGHT HOLDER         6   \n",
      "1     536365     71053                  WHITE METAL LANTERN         6   \n",
      "2     536365    84406B       CREAM CUPID HEARTS COAT HANGER         8   \n",
      "3     536365    84029G  KNITTED UNION FLAG HOT WATER BOTTLE         6   \n",
      "4     536365    84029E       RED WOOLLY HOTTIE WHITE HEART.         6   \n",
      "5     536365     22752         SET 7 BABUSHKA NESTING BOXES         2   \n",
      "6     536365     21730    GLASS STAR FROSTED T-LIGHT HOLDER         6   \n",
      "7     536366     22633               HAND WARMER UNION JACK         6   \n",
      "8     536366     22632            HAND WARMER RED POLKA DOT         6   \n",
      "9     536367     84879        ASSORTED COLOUR BIRD ORNAMENT        32   \n",
      "10    536367     22745           POPPY'S PLAYHOUSE BEDROOM          6   \n",
      "11    536367     22748            POPPY'S PLAYHOUSE KITCHEN         6   \n",
      "12    536367     22749    FELTCRAFT PRINCESS CHARLOTTE DOLL         8   \n",
      "13    536367     22310              IVORY KNITTED MUG COSY          6   \n",
      "14    536367     84969   BOX OF 6 ASSORTED COLOUR TEASPOONS         6   \n",
      "15    536367     22623        BOX OF VINTAGE JIGSAW BLOCKS          3   \n",
      "16    536367     22622       BOX OF VINTAGE ALPHABET BLOCKS         2   \n",
      "17    536367     21754             HOME BUILDING BLOCK WORD         3   \n",
      "18    536367     21755             LOVE BUILDING BLOCK WORD         3   \n",
      "19    536367     21777          RECIPE BOX WITH METAL HEART         4   \n",
      "\n",
      "           InvoiceDate  UnitPrice  CustomerID         Country  TotalPrice  \\\n",
      "0  2010-12-01 08:26:00       2.55     17850.0  United Kingdom       15.30   \n",
      "1  2010-12-01 08:26:00       3.39     17850.0  United Kingdom       20.34   \n",
      "2  2010-12-01 08:26:00       2.75     17850.0  United Kingdom       22.00   \n",
      "3  2010-12-01 08:26:00       3.39     17850.0  United Kingdom       20.34   \n",
      "4  2010-12-01 08:26:00       3.39     17850.0  United Kingdom       20.34   \n",
      "5  2010-12-01 08:26:00       7.65     17850.0  United Kingdom       15.30   \n",
      "6  2010-12-01 08:26:00       4.25     17850.0  United Kingdom       25.50   \n",
      "7  2010-12-01 08:28:00       1.85     17850.0  United Kingdom       11.10   \n",
      "8  2010-12-01 08:28:00       1.85     17850.0  United Kingdom       11.10   \n",
      "9  2010-12-01 08:34:00       1.69     13047.0  United Kingdom       54.08   \n",
      "10 2010-12-01 08:34:00       2.10     13047.0  United Kingdom       12.60   \n",
      "11 2010-12-01 08:34:00       2.10     13047.0  United Kingdom       12.60   \n",
      "12 2010-12-01 08:34:00       3.75     13047.0  United Kingdom       30.00   \n",
      "13 2010-12-01 08:34:00       1.65     13047.0  United Kingdom        9.90   \n",
      "14 2010-12-01 08:34:00       4.25     13047.0  United Kingdom       25.50   \n",
      "15 2010-12-01 08:34:00       4.95     13047.0  United Kingdom       14.85   \n",
      "16 2010-12-01 08:34:00       9.95     13047.0  United Kingdom       19.90   \n",
      "17 2010-12-01 08:34:00       5.95     13047.0  United Kingdom       17.85   \n",
      "18 2010-12-01 08:34:00       5.95     13047.0  United Kingdom       17.85   \n",
      "19 2010-12-01 08:34:00       7.95     13047.0  United Kingdom       31.80   \n",
      "\n",
      "    HighValue  DiscountedPrice PiceCategory  \n",
      "0       False            2.295       Medium  \n",
      "1        True            3.051       Medium  \n",
      "2        True            2.475       Medium  \n",
      "3        True            3.051       Medium  \n",
      "4        True            3.051       Medium  \n",
      "5       False            6.885       Medium  \n",
      "6        True            3.825       Medium  \n",
      "7       False            1.665       Medium  \n",
      "8       False            1.665       Medium  \n",
      "9        True            1.521       Medium  \n",
      "10      False            1.890       Medium  \n",
      "11      False            1.890       Medium  \n",
      "12       True            3.375       Medium  \n",
      "13      False            1.485       Medium  \n",
      "14       True            3.825       Medium  \n",
      "15      False            4.455       Medium  \n",
      "16       True            8.955       Medium  \n",
      "17       True            5.355       Medium  \n",
      "18       True            5.355       Medium  \n",
      "19       True            7.155       Medium  \n"
     ]
    }
   ],
   "source": [
    "#Categorizando los precios\n",
    "def categorize_price(price):\n",
    "    if price > 50:\n",
    "        return 'High'\n",
    "    elif price < 20:\n",
    "        return 'Medium'\n",
    "    else:\n",
    "        return 'Low'\n",
    "    \n",
    "df['PiceCategory'] = df['UnitPrice'].apply(categorize_price)\n",
    "print(df.head(20))"
   ]
  },
  {
   "cell_type": "code",
   "execution_count": 37,
   "metadata": {},
   "outputs": [
    {
     "name": "stdout",
     "output_type": "stream",
     "text": [
      "  StockCode                          Description  \\\n",
      "0    85123A   WHITE HANGING HEART T-LIGHT HOLDER   \n",
      "1     71053                  WHITE METAL LANTERN   \n",
      "2    84406B       CREAM CUPID HEARTS COAT HANGER   \n",
      "3    84029G  KNITTED UNION FLAG HOT WATER BOTTLE   \n",
      "4    84029E       RED WOOLLY HOTTIE WHITE HEART.   \n",
      "\n",
      "                                    ProductInfo  \n",
      "0   85123A - WHITE HANGING HEART T-LIGHT HOLDER  \n",
      "1                   71053 - WHITE METAL LANTERN  \n",
      "2       84406B - CREAM CUPID HEARTS COAT HANGER  \n",
      "3  84029G - KNITTED UNION FLAG HOT WATER BOTTLE  \n",
      "4       84029E - RED WOOLLY HOTTIE WHITE HEART.  \n"
     ]
    }
   ],
   "source": [
    "df['ProductInfo'] = df['StockCode'].astype(str) + \" - \" + df['Description']\n",
    "\n",
    "print(df[['StockCode', 'Description', 'ProductInfo']].head())"
   ]
  },
  {
   "cell_type": "markdown",
   "metadata": {},
   "source": [
    "# Agrupaciones con groupby\n",
    "\n",
    "\n",
    "- El uso de groupby en Pandas es fundamental para realizar análisis de datos agregados. Esta función permite agrupar datos en función de una o más columnas y luego aplicar operaciones de agregación, como suma, media, conteo, entre otras."
   ]
  },
  {
   "cell_type": "code",
   "execution_count": 38,
   "metadata": {},
   "outputs": [
    {
     "name": "stdout",
     "output_type": "stream",
     "text": [
      "Country\n",
      "United Kingdom          495478\n",
      "Germany                   9495\n",
      "France                    8557\n",
      "EIRE                      8196\n",
      "Spain                     2533\n",
      "Netherlands               2371\n",
      "Belgium                   2069\n",
      "Switzerland               2002\n",
      "Portugal                  1519\n",
      "Australia                 1259\n",
      "Norway                    1086\n",
      "Italy                      803\n",
      "Channel Islands            758\n",
      "Finland                    695\n",
      "Cyprus                     622\n",
      "Sweden                     462\n",
      "Unspecified                446\n",
      "Austria                    401\n",
      "Denmark                    389\n",
      "Japan                      358\n",
      "Poland                     341\n",
      "Israel                     297\n",
      "USA                        291\n",
      "Hong Kong                  288\n",
      "Singapore                  229\n",
      "Iceland                    182\n",
      "Canada                     151\n",
      "Greece                     146\n",
      "Malta                      127\n",
      "United Arab Emirates        68\n",
      "European Community          61\n",
      "RSA                         58\n",
      "Lebanon                     45\n",
      "Lithuania                   35\n",
      "Brazil                      32\n",
      "Czech Republic              30\n",
      "Bahrain                     19\n",
      "Saudi Arabia                10\n",
      "Name: count, dtype: int64\n"
     ]
    }
   ],
   "source": [
    "#Contando todos los valores de nuestro dataset \n",
    "country_count = df['Country'].value_counts()\n",
    "print(country_count)"
   ]
  },
  {
   "cell_type": "code",
   "execution_count": 39,
   "metadata": {},
   "outputs": [
    {
     "name": "stdout",
     "output_type": "stream",
     "text": [
      "Country\n",
      "Australia                 83653\n",
      "Austria                    4827\n",
      "Bahrain                     260\n",
      "Belgium                   23152\n",
      "Brazil                      356\n",
      "Canada                     2763\n",
      "Channel Islands            9479\n",
      "Cyprus                     6317\n",
      "Czech Republic              592\n",
      "Denmark                    8188\n",
      "EIRE                     142637\n",
      "European Community          497\n",
      "Finland                   10666\n",
      "France                   110480\n",
      "Germany                  117448\n",
      "Greece                     1556\n",
      "Hong Kong                  4769\n",
      "Iceland                    2458\n",
      "Israel                     4353\n",
      "Italy                      7999\n",
      "Japan                     25218\n",
      "Lebanon                     386\n",
      "Lithuania                   652\n",
      "Malta                       944\n",
      "Netherlands              200128\n",
      "Norway                    19247\n",
      "Poland                     3653\n",
      "Portugal                  16180\n",
      "RSA                         352\n",
      "Saudi Arabia                 75\n",
      "Singapore                  5234\n",
      "Spain                     26824\n",
      "Sweden                    35637\n",
      "Switzerland               30325\n",
      "USA                        1034\n",
      "United Arab Emirates        982\n",
      "United Kingdom          4263829\n",
      "Unspecified                3300\n",
      "Name: Quantity, dtype: int64\n"
     ]
    }
   ],
   "source": [
    "#Agrupando la cantidad de ventas por tienda en cada pais \n",
    "country_group = df.groupby('Country')['Quantity'].sum()\n",
    "print(country_group)"
   ]
  },
  {
   "cell_type": "code",
   "execution_count": 40,
   "metadata": {},
   "outputs": [
    {
     "name": "stdout",
     "output_type": "stream",
     "text": [
      "                            mean          sum\n",
      "Country                                      \n",
      "Australia               3.220612     4054.750\n",
      "Austria                 4.243192     1701.520\n",
      "Bahrain                 4.556316       86.570\n",
      "Belgium                 3.644335     7540.130\n",
      "Brazil                  4.456250      142.600\n",
      "Canada                  6.030331      910.580\n",
      "Channel Islands         4.932124     3738.550\n",
      "Cyprus                  6.302363     3920.070\n",
      "Czech Republic          2.938333       88.150\n",
      "Denmark                 3.256941     1266.950\n",
      "EIRE                    5.911077    48447.190\n",
      "European Community      4.820492      294.050\n",
      "Finland                 5.448705     3786.850\n",
      "France                  5.028864    43031.990\n",
      "Germany                 3.966930    37666.000\n",
      "Greece                  4.885548      713.290\n",
      "Hong Kong              42.505208    12241.500\n",
      "Iceland                 2.644011      481.210\n",
      "Israel                  3.633131     1079.040\n",
      "Italy                   4.831121     3879.390\n",
      "Japan                   2.276145      814.860\n",
      "Lebanon                 5.387556      242.440\n",
      "Lithuania               2.841143       99.440\n",
      "Malta                   5.244173      666.010\n",
      "Netherlands             2.738317     6492.550\n",
      "Norway                  6.012026     6529.060\n",
      "Poland                  4.170880     1422.270\n",
      "Portugal                8.582976    13037.540\n",
      "RSA                     4.277586      248.100\n",
      "Saudi Arabia            2.411000       24.110\n",
      "Singapore             109.645808    25108.890\n",
      "Spain                   4.987544    12633.450\n",
      "Sweden                  3.910887     1806.830\n",
      "Switzerland             3.403442     6813.690\n",
      "USA                     2.216426      644.980\n",
      "United Arab Emirates    3.380735      229.890\n",
      "United Kingdom          4.532422  2245715.474\n",
      "Unspecified             2.699574     1204.010\n"
     ]
    }
   ],
   "source": [
    "#Realizando un calculo estadistico. Media, Mediana, ETC\n",
    "#Analisando el precio unitario de cada producto \n",
    "country_stats = df.groupby('Country')['UnitPrice'].agg(['mean','sum'])\n",
    "print(country_stats)"
   ]
  },
  {
   "cell_type": "code",
   "execution_count": 41,
   "metadata": {},
   "outputs": [
    {
     "name": "stdout",
     "output_type": "stream",
     "text": [
      "Country      StockCode\n",
      "Australia    15036        600\n",
      "             15056BL        3\n",
      "             16161P       400\n",
      "             16169E        25\n",
      "             20665          6\n",
      "                         ... \n",
      "Unspecified  85180A         2\n",
      "             85180B         1\n",
      "             85212         12\n",
      "             85213         12\n",
      "             85227         10\n",
      "Name: Quantity, Length: 19839, dtype: int64\n"
     ]
    }
   ],
   "source": [
    "#Agregando multiples columnas al  analisis estadistico \n",
    "country_stock_group = df.groupby(['Country', 'StockCode'])['Quantity'].sum()\n",
    "print(country_stock_group)"
   ]
  },
  {
   "cell_type": "code",
   "execution_count": 42,
   "metadata": {},
   "outputs": [
    {
     "name": "stdout",
     "output_type": "stream",
     "text": [
      "Country\n",
      "Australia                137077.270\n",
      "Austria                   10154.320\n",
      "Bahrain                     548.400\n",
      "Belgium                   40910.960\n",
      "Brazil                     1143.600\n",
      "Canada                     3666.380\n",
      "Channel Islands           20086.290\n",
      "Cyprus                    12946.290\n",
      "Czech Republic              707.720\n",
      "Denmark                   18768.140\n",
      "EIRE                     263276.820\n",
      "European Community         1291.750\n",
      "Finland                   22326.740\n",
      "France                   197403.900\n",
      "Germany                  221698.210\n",
      "Greece                     4710.520\n",
      "Hong Kong                 10117.040\n",
      "Iceland                    4310.000\n",
      "Israel                     7907.820\n",
      "Italy                     16890.510\n",
      "Japan                     35340.620\n",
      "Lebanon                    1693.880\n",
      "Lithuania                  1661.060\n",
      "Malta                      2505.470\n",
      "Netherlands              284661.540\n",
      "Norway                    35163.460\n",
      "Poland                     7213.140\n",
      "Portugal                  29367.020\n",
      "RSA                        1002.310\n",
      "Saudi Arabia                131.170\n",
      "Singapore                  9120.390\n",
      "Spain                     54774.580\n",
      "Sweden                    36595.910\n",
      "Switzerland               56385.350\n",
      "USA                        1730.920\n",
      "United Arab Emirates       1902.280\n",
      "United Kingdom          8187806.364\n",
      "Unspecified                4749.790\n",
      "dtype: float64\n"
     ]
    },
    {
     "name": "stderr",
     "output_type": "stream",
     "text": [
      "/tmp/ipykernel_32024/1717687633.py:6: DeprecationWarning: DataFrameGroupBy.apply operated on the grouping columns. This behavior is deprecated, and in a future version of pandas the grouping columns will be excluded from the operation. Either pass `include_groups=False` to exclude the groupings or explicitly select the grouping columns after groupby to silence this warning.\n",
      "  revenue_per_country = df.groupby('Country').apply(total_revenue)\n"
     ]
    }
   ],
   "source": [
    "#Analisando la ganancia total por pais \n",
    "#Total de ventas \n",
    "def total_revenue(group):\n",
    "    return(group['Quantity'] * group['UnitPrice']).sum()\n",
    "\n",
    "revenue_per_country = df.groupby('Country').apply(total_revenue)\n",
    "print(revenue_per_country)\n",
    "\n",
    "#Aca estamos analisando el precio unitario que se a sumado de cada producto por pais "
   ]
  },
  {
   "cell_type": "code",
   "execution_count": 43,
   "metadata": {},
   "outputs": [
    {
     "name": "stdout",
     "output_type": "stream",
     "text": [
      "                      Quantity   UnitPrice\n",
      "Country                                   \n",
      "Australia                83653    3.220612\n",
      "Austria                   4827    4.243192\n",
      "Bahrain                    260    4.556316\n",
      "Belgium                  23152    3.644335\n",
      "Brazil                     356    4.456250\n",
      "Canada                    2763    6.030331\n",
      "Channel Islands           9479    4.932124\n",
      "Cyprus                    6317    6.302363\n",
      "Czech Republic             592    2.938333\n",
      "Denmark                   8188    3.256941\n",
      "EIRE                    142637    5.911077\n",
      "European Community         497    4.820492\n",
      "Finland                  10666    5.448705\n",
      "France                  110480    5.028864\n",
      "Germany                 117448    3.966930\n",
      "Greece                    1556    4.885548\n",
      "Hong Kong                 4769   42.505208\n",
      "Iceland                   2458    2.644011\n",
      "Israel                    4353    3.633131\n",
      "Italy                     7999    4.831121\n",
      "Japan                    25218    2.276145\n",
      "Lebanon                    386    5.387556\n",
      "Lithuania                  652    2.841143\n",
      "Malta                      944    5.244173\n",
      "Netherlands             200128    2.738317\n",
      "Norway                   19247    6.012026\n",
      "Poland                    3653    4.170880\n",
      "Portugal                 16180    8.582976\n",
      "RSA                        352    4.277586\n",
      "Saudi Arabia                75    2.411000\n",
      "Singapore                 5234  109.645808\n",
      "Spain                    26824    4.987544\n",
      "Sweden                   35637    3.910887\n",
      "Switzerland              30325    3.403442\n",
      "USA                       1034    2.216426\n",
      "United Arab Emirates       982    3.380735\n",
      "United Kingdom         4263829    4.532422\n",
      "Unspecified               3300    2.699574\n"
     ]
    }
   ],
   "source": [
    "grouped_df = df.groupby('Country').agg({'Quantity': 'sum', 'UnitPrice': 'mean'})\n",
    "\n",
    "# Ver el resultado\n",
    "print(grouped_df)"
   ]
  },
  {
   "cell_type": "code",
   "execution_count": 44,
   "metadata": {},
   "outputs": [
    {
     "name": "stdout",
     "output_type": "stream",
     "text": [
      "  InvoiceNo StockCode                          Description  Quantity  \\\n",
      "0    536365    85123A   WHITE HANGING HEART T-LIGHT HOLDER         6   \n",
      "1    536365     71053                  WHITE METAL LANTERN         6   \n",
      "2    536365    84406B       CREAM CUPID HEARTS COAT HANGER         8   \n",
      "3    536365    84029G  KNITTED UNION FLAG HOT WATER BOTTLE         6   \n",
      "4    536365    84029E       RED WOOLLY HOTTIE WHITE HEART.         6   \n",
      "\n",
      "          InvoiceDate  UnitPrice  CustomerID         Country  TotalPrice  \\\n",
      "0 2010-12-01 08:26:00       2.55     17850.0  United Kingdom       15.30   \n",
      "1 2010-12-01 08:26:00       3.39     17850.0  United Kingdom       20.34   \n",
      "2 2010-12-01 08:26:00       2.75     17850.0  United Kingdom       22.00   \n",
      "3 2010-12-01 08:26:00       3.39     17850.0  United Kingdom       20.34   \n",
      "4 2010-12-01 08:26:00       3.39     17850.0  United Kingdom       20.34   \n",
      "\n",
      "   HighValue  DiscountedPrice PiceCategory  \\\n",
      "0      False            2.295       Medium   \n",
      "1       True            3.051       Medium   \n",
      "2       True            2.475       Medium   \n",
      "3       True            3.051       Medium   \n",
      "4       True            3.051       Medium   \n",
      "\n",
      "                                    ProductInfo  \n",
      "0   85123A - WHITE HANGING HEART T-LIGHT HOLDER  \n",
      "1                   71053 - WHITE METAL LANTERN  \n",
      "2       84406B - CREAM CUPID HEARTS COAT HANGER  \n",
      "3  84029G - KNITTED UNION FLAG HOT WATER BOTTLE  \n",
      "4       84029E - RED WOOLLY HOTTIE WHITE HEART.  \n"
     ]
    }
   ],
   "source": [
    "grouped_df = df.groupby('Country').filter(lambda x: x['Quantity'].sum() > 10000)\n",
    "\n",
    "# Ver el resultado\n",
    "print(grouped_df.head())"
   ]
  },
  {
   "cell_type": "code",
   "execution_count": 45,
   "metadata": {},
   "outputs": [
    {
     "name": "stdout",
     "output_type": "stream",
     "text": [
      "Country\n",
      "Australia                 350.00\n",
      "Austria                    39.88\n",
      "Bahrain                    11.50\n",
      "Belgium                    39.83\n",
      "Brazil                     10.10\n",
      "Canada                    550.84\n",
      "Channel Islands           292.81\n",
      "Cyprus                    320.57\n",
      "Czech Republic             39.71\n",
      "Denmark                    17.79\n",
      "EIRE                     1917.00\n",
      "European Community         17.45\n",
      "Finland                   275.48\n",
      "France                   4161.06\n",
      "Germany                   599.50\n",
      "Greece                     49.86\n",
      "Hong Kong                2653.74\n",
      "Iceland                    12.50\n",
      "Israel                    124.94\n",
      "Italy                     299.88\n",
      "Japan                      45.36\n",
      "Lebanon                    14.40\n",
      "Lithuania                   4.70\n",
      "Malta                      64.81\n",
      "Netherlands               206.40\n",
      "Norway                    700.00\n",
      "Poland                     39.81\n",
      "Portugal                 1241.86\n",
      "RSA                        14.95\n",
      "Saudi Arabia                5.07\n",
      "Singapore                3949.13\n",
      "Spain                    1715.85\n",
      "Sweden                     39.81\n",
      "Switzerland                40.00\n",
      "USA                        16.53\n",
      "United Arab Emirates       37.21\n",
      "United Kingdom          50032.06\n",
      "Unspecified                16.76\n",
      "dtype: float64\n"
     ]
    },
    {
     "name": "stderr",
     "output_type": "stream",
     "text": [
      "/tmp/ipykernel_32024/2204388191.py:5: DeprecationWarning: DataFrameGroupBy.apply operated on the grouping columns. This behavior is deprecated, and in a future version of pandas the grouping columns will be excluded from the operation. Either pass `include_groups=False` to exclude the groupings or explicitly select the grouping columns after groupby to silence this warning.\n",
      "  grouped_df = df.groupby('Country').apply(price_range)\n"
     ]
    }
   ],
   "source": [
    "def price_range(x):\n",
    "    return x['UnitPrice'].max() - x['UnitPrice'].min()\n",
    "\n",
    "# Agrupar por 'Country' y aplicar la función personalizada\n",
    "grouped_df = df.groupby('Country').apply(price_range)\n",
    "\n",
    "# Ver el resultado\n",
    "print(grouped_df)"
   ]
  },
  {
   "cell_type": "code",
   "execution_count": 46,
   "metadata": {},
   "outputs": [
    {
     "name": "stdout",
     "output_type": "stream",
     "text": [
      "Países con las mejores ventas:\n",
      "Country\n",
      "United Kingdom    4263829\n",
      "Netherlands        200128\n",
      "EIRE               142637\n",
      "Germany            117448\n",
      "France             110480\n",
      "Name: Quantity, dtype: int64\n",
      "\n",
      "Países con las ventas más bajas:\n",
      "Country\n",
      "Lebanon         386\n",
      "Brazil          356\n",
      "RSA             352\n",
      "Bahrain         260\n",
      "Saudi Arabia     75\n",
      "Name: Quantity, dtype: int64\n"
     ]
    }
   ],
   "source": [
    "sales_by_country = df.groupby('Country')['Quantity'].sum()\n",
    "\n",
    "# Ordenar los países por ventas en orden descendente\n",
    "sales_by_country_sorted = sales_by_country.sort_values(ascending=False)\n",
    "\n",
    "# Mostrar los 5 países con las mejores ventas\n",
    "top_countries = sales_by_country_sorted.head(5)\n",
    "print(\"Países con las mejores ventas:\")\n",
    "print(top_countries)\n",
    "\n",
    "# Mostrar los 5 países con las ventas más bajas\n",
    "bottom_countries = sales_by_country_sorted.tail(5)\n",
    "print(\"\\nPaíses con las ventas más bajas:\")\n",
    "print(bottom_countries)"
   ]
  },
  {
   "cell_type": "code",
   "execution_count": 47,
   "metadata": {},
   "outputs": [
    {
     "name": "stdout",
     "output_type": "stream",
     "text": [
      "Países con las mejores ventas:\n",
      "Country\n",
      "United Kingdom    4263829\n",
      "Netherlands        200128\n",
      "EIRE               142637\n",
      "Name: Quantity, dtype: int64\n",
      "\n",
      "Países con las ventas más bajas:\n",
      "Country\n",
      "RSA             352\n",
      "Bahrain         260\n",
      "Saudi Arabia     75\n",
      "Name: Quantity, dtype: int64\n"
     ]
    }
   ],
   "source": [
    "sales_by_country = df.groupby('Country')['Quantity'].sum()\n",
    "\n",
    "sales_by_country_sorted = sales_by_country.sort_values(ascending=False)\n",
    "\n",
    "top_countries = sales_by_country_sorted.head(3)\n",
    "print(\"Países con las mejores ventas:\")\n",
    "print(top_countries.head())\n",
    "\n",
    "bottom_countries = sales_by_country_sorted.tail(3)\n",
    "print(\"\\nPaíses con las ventas más bajas:\")\n",
    "print(bottom_countries.head())\n"
   ]
  },
  {
   "cell_type": "markdown",
   "metadata": {},
   "source": [
    "# Filtrado de Datos con Condiciones en Pandas\n",
    "\n",
    "- El filtrado de datos en Pandas te permite seleccionar subconjuntos específicos de tu DataFrame que cumplen ciertas condiciones lógicas. Esto es útil cuando necesitas trabajar solo con datos que cumplen criterios específicos."
   ]
  },
  {
   "cell_type": "code",
   "execution_count": 48,
   "metadata": {},
   "outputs": [
    {
     "name": "stdout",
     "output_type": "stream",
     "text": [
      "       InvoiceNo StockCode                          Description  Quantity  \\\n",
      "0         536365    85123A   WHITE HANGING HEART T-LIGHT HOLDER         6   \n",
      "1         536365     71053                  WHITE METAL LANTERN         6   \n",
      "2         536365    84406B       CREAM CUPID HEARTS COAT HANGER         8   \n",
      "3         536365    84029G  KNITTED UNION FLAG HOT WATER BOTTLE         6   \n",
      "4         536365    84029E       RED WOOLLY HOTTIE WHITE HEART.         6   \n",
      "...          ...       ...                                  ...       ...   \n",
      "541889    581585     22466       FAIRY TALE COTTAGE NIGHT LIGHT        12   \n",
      "541890    581586     22061  LARGE CAKE STAND  HANGING STRAWBERY         8   \n",
      "541891    581586     23275     SET OF 3 HANGING OWLS OLLIE BEAK        24   \n",
      "541892    581586     21217        RED RETROSPOT ROUND CAKE TINS        24   \n",
      "541893    581586     20685                DOORMAT RED RETROSPOT        10   \n",
      "\n",
      "               InvoiceDate  UnitPrice  CustomerID         Country  TotalPrice  \\\n",
      "0      2010-12-01 08:26:00       2.55     17850.0  United Kingdom       15.30   \n",
      "1      2010-12-01 08:26:00       3.39     17850.0  United Kingdom       20.34   \n",
      "2      2010-12-01 08:26:00       2.75     17850.0  United Kingdom       22.00   \n",
      "3      2010-12-01 08:26:00       3.39     17850.0  United Kingdom       20.34   \n",
      "4      2010-12-01 08:26:00       3.39     17850.0  United Kingdom       20.34   \n",
      "...                    ...        ...         ...             ...         ...   \n",
      "541889 2011-12-09 12:31:00       1.95     15804.0  United Kingdom       23.40   \n",
      "541890 2011-12-09 12:49:00       2.95     13113.0  United Kingdom       23.60   \n",
      "541891 2011-12-09 12:49:00       1.25     13113.0  United Kingdom       30.00   \n",
      "541892 2011-12-09 12:49:00       8.95     13113.0  United Kingdom      214.80   \n",
      "541893 2011-12-09 12:49:00       7.08     13113.0  United Kingdom       70.80   \n",
      "\n",
      "        HighValue  DiscountedPrice PiceCategory  \\\n",
      "0           False            2.295       Medium   \n",
      "1            True            3.051       Medium   \n",
      "2            True            2.475       Medium   \n",
      "3            True            3.051       Medium   \n",
      "4            True            3.051       Medium   \n",
      "...           ...              ...          ...   \n",
      "541889       True            1.755       Medium   \n",
      "541890       True            2.655       Medium   \n",
      "541891       True            1.125       Medium   \n",
      "541892       True            8.055       Medium   \n",
      "541893       True            6.372       Medium   \n",
      "\n",
      "                                         ProductInfo  \n",
      "0        85123A - WHITE HANGING HEART T-LIGHT HOLDER  \n",
      "1                        71053 - WHITE METAL LANTERN  \n",
      "2            84406B - CREAM CUPID HEARTS COAT HANGER  \n",
      "3       84029G - KNITTED UNION FLAG HOT WATER BOTTLE  \n",
      "4            84029E - RED WOOLLY HOTTIE WHITE HEART.  \n",
      "...                                              ...  \n",
      "541889        22466 - FAIRY TALE COTTAGE NIGHT LIGHT  \n",
      "541890   22061 - LARGE CAKE STAND  HANGING STRAWBERY  \n",
      "541891      23275 - SET OF 3 HANGING OWLS OLLIE BEAK  \n",
      "541892         21217 - RED RETROSPOT ROUND CAKE TINS  \n",
      "541893                 20685 - DOORMAT RED RETROSPOT  \n",
      "\n",
      "[495478 rows x 13 columns]\n"
     ]
    }
   ],
   "source": [
    "# Filtrando ventas del reino unido -\n",
    "sales_data = df\n",
    "uk_sales = sales_data[sales_data['Country'] == 'United Kingdom']\n",
    "print(uk_sales)\n"
   ]
  },
  {
   "cell_type": "code",
   "execution_count": 49,
   "metadata": {},
   "outputs": [
    {
     "name": "stdout",
     "output_type": "stream",
     "text": [
      "       InvoiceNo StockCode                      Description  Quantity  \\\n",
      "9         536367     84879    ASSORTED COLOUR BIRD ORNAMENT        32   \n",
      "26        536370     22728        ALARM CLOCK BAKELIKE PINK        24   \n",
      "27        536370     22727        ALARM CLOCK BAKELIKE RED         24   \n",
      "28        536370     22726       ALARM CLOCK BAKELIKE GREEN        12   \n",
      "29        536370     21724  PANDA AND BUNNIES STICKER SHEET        12   \n",
      "...          ...       ...                              ...       ...   \n",
      "541894    581587     22631         CIRCUS PARADE LUNCH BOX         12   \n",
      "541895    581587     22556   PLASTERS IN TIN CIRCUS PARADE         12   \n",
      "541896    581587     22555        PLASTERS IN TIN STRONGMAN        12   \n",
      "541902    581587     22629              SPACEBOY LUNCH BOX         12   \n",
      "541904    581587     22613      PACK OF 20 SPACEBOY NAPKINS        12   \n",
      "\n",
      "               InvoiceDate  UnitPrice  CustomerID         Country  TotalPrice  \\\n",
      "9      2010-12-01 08:34:00       1.69     13047.0  United Kingdom       54.08   \n",
      "26     2010-12-01 08:45:00       3.75     12583.0          France       90.00   \n",
      "27     2010-12-01 08:45:00       3.75     12583.0          France       90.00   \n",
      "28     2010-12-01 08:45:00       3.75     12583.0          France       45.00   \n",
      "29     2010-12-01 08:45:00       0.85     12583.0          France       10.20   \n",
      "...                    ...        ...         ...             ...         ...   \n",
      "541894 2011-12-09 12:50:00       1.95     12680.0          France       23.40   \n",
      "541895 2011-12-09 12:50:00       1.65     12680.0          France       19.80   \n",
      "541896 2011-12-09 12:50:00       1.65     12680.0          France       19.80   \n",
      "541902 2011-12-09 12:50:00       1.95     12680.0          France       23.40   \n",
      "541904 2011-12-09 12:50:00       0.85     12680.0          France       10.20   \n",
      "\n",
      "        HighValue  DiscountedPrice PiceCategory  \\\n",
      "9            True            1.521       Medium   \n",
      "26           True            3.375       Medium   \n",
      "27           True            3.375       Medium   \n",
      "28           True            3.375       Medium   \n",
      "29          False            0.765       Medium   \n",
      "...           ...              ...          ...   \n",
      "541894       True            1.755       Medium   \n",
      "541895       True            1.485       Medium   \n",
      "541896       True            1.485       Medium   \n",
      "541902       True            1.755       Medium   \n",
      "541904      False            0.765       Medium   \n",
      "\n",
      "                                    ProductInfo  \n",
      "9         84879 - ASSORTED COLOUR BIRD ORNAMENT  \n",
      "26            22728 - ALARM CLOCK BAKELIKE PINK  \n",
      "27            22727 - ALARM CLOCK BAKELIKE RED   \n",
      "28           22726 - ALARM CLOCK BAKELIKE GREEN  \n",
      "29      21724 - PANDA AND BUNNIES STICKER SHEET  \n",
      "...                                         ...  \n",
      "541894         22631 - CIRCUS PARADE LUNCH BOX   \n",
      "541895   22556 - PLASTERS IN TIN CIRCUS PARADE   \n",
      "541896        22555 - PLASTERS IN TIN STRONGMAN  \n",
      "541902              22629 - SPACEBOY LUNCH BOX   \n",
      "541904      22613 - PACK OF 20 SPACEBOY NAPKINS  \n",
      "\n",
      "[132631 rows x 13 columns]\n"
     ]
    }
   ],
   "source": [
    "# Filtrando los datos con los operadores\n",
    "high_quantity_sales = sales_data[sales_data['Quantity'] > 10]\n",
    "print(high_quantity_sales)"
   ]
  },
  {
   "cell_type": "code",
   "execution_count": 50,
   "metadata": {},
   "outputs": [
    {
     "name": "stdout",
     "output_type": "stream",
     "text": [
      "       InvoiceNo StockCode                         Description  Quantity  \\\n",
      "31        536370     10002         INFLATABLE POLITICAL GLOBE         48   \n",
      "46        536371     22086     PAPER CHAIN KIT 50'S CHRISTMAS         80   \n",
      "82        536376     22114   HOT WATER BOTTLE TEA AND SYMPATHY        48   \n",
      "83        536376     21733    RED HANGING HEART T-LIGHT HOLDER        64   \n",
      "96        536378     21212     PACK OF 72 RETROSPOT CAKE CASES       120   \n",
      "...          ...       ...                                 ...       ...   \n",
      "541746    581571     23167      SMALL CERAMIC TOP STORAGE JAR         96   \n",
      "541747    581571     21314       SMALL GLASS HEART TRINKET POT        48   \n",
      "541751    581572     23328  SET 6 SCHOOL MILK BOTTLES IN CRATE        48   \n",
      "541867    581584     20832    RED FLOCK LOVE HEART PHOTO FRAME        72   \n",
      "541868    581584     85038     6 CHOCOLATE LOVE HEART T-LIGHTS        48   \n",
      "\n",
      "               InvoiceDate  UnitPrice  CustomerID         Country  TotalPrice  \\\n",
      "31     2010-12-01 08:45:00       0.85     12583.0          France       40.80   \n",
      "46     2010-12-01 09:00:00       2.55     13748.0  United Kingdom      204.00   \n",
      "82     2010-12-01 09:32:00       3.45     15291.0  United Kingdom      165.60   \n",
      "83     2010-12-01 09:32:00       2.55     15291.0  United Kingdom      163.20   \n",
      "96     2010-12-01 09:37:00       0.42     14688.0  United Kingdom       50.40   \n",
      "...                    ...        ...         ...             ...         ...   \n",
      "541746 2011-12-09 12:00:00       0.69     15311.0  United Kingdom       66.24   \n",
      "541747 2011-12-09 12:00:00       1.85     15311.0  United Kingdom       88.80   \n",
      "541751 2011-12-09 12:08:00       3.39     16705.0  United Kingdom      162.72   \n",
      "541867 2011-12-09 12:25:00       0.72     13777.0  United Kingdom       51.84   \n",
      "541868 2011-12-09 12:25:00       1.85     13777.0  United Kingdom       88.80   \n",
      "\n",
      "        HighValue  DiscountedPrice PiceCategory  \\\n",
      "31           True            0.765       Medium   \n",
      "46           True            2.295       Medium   \n",
      "82           True            3.105       Medium   \n",
      "83           True            2.295       Medium   \n",
      "96           True            0.378       Medium   \n",
      "...           ...              ...          ...   \n",
      "541746       True            0.621       Medium   \n",
      "541747       True            1.665       Medium   \n",
      "541751       True            3.051       Medium   \n",
      "541867       True            0.648       Medium   \n",
      "541868       True            1.665       Medium   \n",
      "\n",
      "                                       ProductInfo  \n",
      "31             10002 - INFLATABLE POLITICAL GLOBE   \n",
      "46         22086 - PAPER CHAIN KIT 50'S CHRISTMAS   \n",
      "82       22114 - HOT WATER BOTTLE TEA AND SYMPATHY  \n",
      "83        21733 - RED HANGING HEART T-LIGHT HOLDER  \n",
      "96         21212 - PACK OF 72 RETROSPOT CAKE CASES  \n",
      "...                                            ...  \n",
      "541746      23167 - SMALL CERAMIC TOP STORAGE JAR   \n",
      "541747       21314 - SMALL GLASS HEART TRINKET POT  \n",
      "541751  23328 - SET 6 SCHOOL MILK BOTTLES IN CRATE  \n",
      "541867    20832 - RED FLOCK LOVE HEART PHOTO FRAME  \n",
      "541868     85038 - 6 CHOCOLATE LOVE HEART T-LIGHTS  \n",
      "\n",
      "[19570 rows x 13 columns]\n"
     ]
    }
   ],
   "source": [
    "# Filtrando los datos con los operadores\n",
    "high_quantity_sales = sales_data[sales_data['Quantity'] > 40]\n",
    "print(high_quantity_sales)"
   ]
  },
  {
   "cell_type": "code",
   "execution_count": 51,
   "metadata": {},
   "outputs": [
    {
     "name": "stdout",
     "output_type": "stream",
     "text": [
      "       InvoiceNo StockCode                     Description  Quantity  \\\n",
      "181       536387     22466   FAIRY TALE COTTAGE NIGHTLIGHT       432   \n",
      "182       536387     21731   RED TOADSTOOL LED NIGHT LIGHT       432   \n",
      "730       536437     17021          NAMASTE SWAGAT INCENSE       600   \n",
      "870       536477     21137        BLACK RECORD COVER FRAME       480   \n",
      "2364      536584    84029E  RED WOOLLY HOTTIE WHITE HEART.       384   \n",
      "...          ...       ...                             ...       ...   \n",
      "540060    581457     22189         CREAM HEART CARD HOLDER       324   \n",
      "540061    581457     23543             WALL ART KEEP CALM        698   \n",
      "540070    581458     22197                  POPCORN HOLDER      1500   \n",
      "540071    581459     22197                  POPCORN HOLDER      1200   \n",
      "540421    581483     23843     PAPER CRAFT , LITTLE BIRDIE     80995   \n",
      "\n",
      "               InvoiceDate  UnitPrice  CustomerID         Country  TotalPrice  \\\n",
      "181    2010-12-01 09:58:00       1.45     16029.0  United Kingdom      626.40   \n",
      "182    2010-12-01 09:58:00       1.25     16029.0  United Kingdom      540.00   \n",
      "730    2010-12-01 12:12:00       0.24     13694.0  United Kingdom      144.00   \n",
      "870    2010-12-01 12:27:00       3.39     16210.0  United Kingdom     1627.20   \n",
      "2364   2010-12-01 16:22:00       2.95     13777.0  United Kingdom     1132.80   \n",
      "...                    ...        ...         ...             ...         ...   \n",
      "540060 2011-12-08 18:43:00       3.39     18102.0  United Kingdom     1098.36   \n",
      "540061 2011-12-08 18:43:00       4.15     18102.0  United Kingdom     2896.70   \n",
      "540070 2011-12-08 18:45:00       0.72     17949.0  United Kingdom     1080.00   \n",
      "540071 2011-12-08 18:46:00       0.72     17949.0  United Kingdom      864.00   \n",
      "540421 2011-12-09 09:15:00       2.08     16446.0  United Kingdom   168469.60   \n",
      "\n",
      "        HighValue  DiscountedPrice PiceCategory  \\\n",
      "181          True            1.305       Medium   \n",
      "182          True            1.125       Medium   \n",
      "730          True            0.216       Medium   \n",
      "870          True            3.051       Medium   \n",
      "2364         True            2.655       Medium   \n",
      "...           ...              ...          ...   \n",
      "540060       True            3.051       Medium   \n",
      "540061       True            3.735       Medium   \n",
      "540070       True            0.648       Medium   \n",
      "540071       True            0.648       Medium   \n",
      "540421       True            1.872       Medium   \n",
      "\n",
      "                                    ProductInfo  \n",
      "181       22466 - FAIRY TALE COTTAGE NIGHTLIGHT  \n",
      "182       21731 - RED TOADSTOOL LED NIGHT LIGHT  \n",
      "730              17021 - NAMASTE SWAGAT INCENSE  \n",
      "870            21137 - BLACK RECORD COVER FRAME  \n",
      "2364    84029E - RED WOOLLY HOTTIE WHITE HEART.  \n",
      "...                                         ...  \n",
      "540060          22189 - CREAM HEART CARD HOLDER  \n",
      "540061              23543 - WALL ART KEEP CALM   \n",
      "540070                   22197 - POPCORN HOLDER  \n",
      "540071                   22197 - POPCORN HOLDER  \n",
      "540421      23843 - PAPER CRAFT , LITTLE BIRDIE  \n",
      "\n",
      "[777 rows x 13 columns]\n"
     ]
    }
   ],
   "source": [
    "# Mas de una filtracion en una sola linea de codigo\n",
    "uk_high_quantity_sales = sales_data[(sales_data['Country'] == 'United Kingdom') &\n",
    "                                    (sales_data['Quantity'] > 300)]\n",
    "\n",
    "print(uk_high_quantity_sales)"
   ]
  },
  {
   "cell_type": "code",
   "execution_count": 52,
   "metadata": {},
   "outputs": [
    {
     "name": "stdout",
     "output_type": "stream",
     "text": [
      "       InvoiceNo StockCode                      Description  Quantity  \\\n",
      "42481     539993     22386          JUMBO BAG PINK POLKADOT        10   \n",
      "42482     539993     21499               BLUE POLKADOT WRAP        25   \n",
      "42483     539993     21498              RED RETROSPOT WRAP         25   \n",
      "42484     539993     22379         RECYCLING BAG RETROSPOT          5   \n",
      "42485     539993     20718        RED RETROSPOT SHOPPER BAG        10   \n",
      "...          ...       ...                              ...       ...   \n",
      "541904    581587     22613      PACK OF 20 SPACEBOY NAPKINS        12   \n",
      "541905    581587     22899     CHILDREN'S APRON DOLLY GIRL          6   \n",
      "541906    581587     23254    CHILDRENS CUTLERY DOLLY GIRL          4   \n",
      "541907    581587     23255  CHILDRENS CUTLERY CIRCUS PARADE         4   \n",
      "541908    581587     22138    BAKING SET 9 PIECE RETROSPOT          3   \n",
      "\n",
      "               InvoiceDate  UnitPrice  CustomerID         Country  TotalPrice  \\\n",
      "42481  2011-01-04 10:00:00       1.95     13313.0  United Kingdom       19.50   \n",
      "42482  2011-01-04 10:00:00       0.42     13313.0  United Kingdom       10.50   \n",
      "42483  2011-01-04 10:00:00       0.42     13313.0  United Kingdom       10.50   \n",
      "42484  2011-01-04 10:00:00       2.10     13313.0  United Kingdom       10.50   \n",
      "42485  2011-01-04 10:00:00       1.25     13313.0  United Kingdom       12.50   \n",
      "...                    ...        ...         ...             ...         ...   \n",
      "541904 2011-12-09 12:50:00       0.85     12680.0          France       10.20   \n",
      "541905 2011-12-09 12:50:00       2.10     12680.0          France       12.60   \n",
      "541906 2011-12-09 12:50:00       4.15     12680.0          France       16.60   \n",
      "541907 2011-12-09 12:50:00       4.15     12680.0          France       16.60   \n",
      "541908 2011-12-09 12:50:00       4.95     12680.0          France       14.85   \n",
      "\n",
      "        HighValue  DiscountedPrice PiceCategory  \\\n",
      "42481        True            1.755       Medium   \n",
      "42482       False            0.378       Medium   \n",
      "42483       False            0.378       Medium   \n",
      "42484       False            1.890       Medium   \n",
      "42485       False            1.125       Medium   \n",
      "...           ...              ...          ...   \n",
      "541904      False            0.765       Medium   \n",
      "541905      False            1.890       Medium   \n",
      "541906       True            3.735       Medium   \n",
      "541907       True            3.735       Medium   \n",
      "541908      False            4.455       Medium   \n",
      "\n",
      "                                    ProductInfo  \n",
      "42481           22386 - JUMBO BAG PINK POLKADOT  \n",
      "42482                21499 - BLUE POLKADOT WRAP  \n",
      "42483               21498 - RED RETROSPOT WRAP   \n",
      "42484          22379 - RECYCLING BAG RETROSPOT   \n",
      "42485         20718 - RED RETROSPOT SHOPPER BAG  \n",
      "...                                         ...  \n",
      "541904      22613 - PACK OF 20 SPACEBOY NAPKINS  \n",
      "541905     22899 - CHILDREN'S APRON DOLLY GIRL   \n",
      "541906    23254 - CHILDRENS CUTLERY DOLLY GIRL   \n",
      "541907  23255 - CHILDRENS CUTLERY CIRCUS PARADE  \n",
      "541908    22138 - BAKING SET 9 PIECE RETROSPOT   \n",
      "\n",
      "[499428 rows x 13 columns]\n"
     ]
    }
   ],
   "source": [
    "#Filtracion de ventas por año \n",
    "sales_2011 = sales_data[sales_data['InvoiceDate'].dt.year == 2011]\n",
    "print(sales_2011)"
   ]
  },
  {
   "cell_type": "code",
   "execution_count": 53,
   "metadata": {},
   "outputs": [
    {
     "name": "stdout",
     "output_type": "stream",
     "text": [
      "      InvoiceNo StockCode                          Description  Quantity  \\\n",
      "0        536365    85123A   WHITE HANGING HEART T-LIGHT HOLDER         6   \n",
      "1        536365     71053                  WHITE METAL LANTERN         6   \n",
      "2        536365    84406B       CREAM CUPID HEARTS COAT HANGER         8   \n",
      "3        536365    84029G  KNITTED UNION FLAG HOT WATER BOTTLE         6   \n",
      "4        536365    84029E       RED WOOLLY HOTTIE WHITE HEART.         6   \n",
      "...         ...       ...                                  ...       ...   \n",
      "42476    539991     21618       4 WILDFLOWER BOTANICAL CANDLES         1   \n",
      "42477    539991     72741                GRAND CHOCOLATECANDLE         4   \n",
      "42478    539992     21470        FLOWER VINE RAFFIA FOOD COVER         1   \n",
      "42479    539992     22258              FELT FARM ANIMAL RABBIT         1   \n",
      "42480    539992     21155                RED RETROSPOT PEG BAG         1   \n",
      "\n",
      "              InvoiceDate  UnitPrice  CustomerID         Country  TotalPrice  \\\n",
      "0     2010-12-01 08:26:00       2.55     17850.0  United Kingdom       15.30   \n",
      "1     2010-12-01 08:26:00       3.39     17850.0  United Kingdom       20.34   \n",
      "2     2010-12-01 08:26:00       2.75     17850.0  United Kingdom       22.00   \n",
      "3     2010-12-01 08:26:00       3.39     17850.0  United Kingdom       20.34   \n",
      "4     2010-12-01 08:26:00       3.39     17850.0  United Kingdom       20.34   \n",
      "...                   ...        ...         ...             ...         ...   \n",
      "42476 2010-12-23 16:49:00       1.25         NaN  United Kingdom        1.25   \n",
      "42477 2010-12-23 16:49:00       1.45         NaN  United Kingdom        5.80   \n",
      "42478 2010-12-23 17:41:00       3.75         NaN  United Kingdom        3.75   \n",
      "42479 2010-12-23 17:41:00       1.25         NaN  United Kingdom        1.25   \n",
      "42480 2010-12-23 17:41:00       2.10         NaN  United Kingdom        2.10   \n",
      "\n",
      "       HighValue  DiscountedPrice PiceCategory  \\\n",
      "0          False            2.295       Medium   \n",
      "1           True            3.051       Medium   \n",
      "2           True            2.475       Medium   \n",
      "3           True            3.051       Medium   \n",
      "4           True            3.051       Medium   \n",
      "...          ...              ...          ...   \n",
      "42476      False            1.125       Medium   \n",
      "42477      False            1.305       Medium   \n",
      "42478      False            3.375       Medium   \n",
      "42479      False            1.125       Medium   \n",
      "42480      False            1.890       Medium   \n",
      "\n",
      "                                        ProductInfo  \n",
      "0       85123A - WHITE HANGING HEART T-LIGHT HOLDER  \n",
      "1                       71053 - WHITE METAL LANTERN  \n",
      "2           84406B - CREAM CUPID HEARTS COAT HANGER  \n",
      "3      84029G - KNITTED UNION FLAG HOT WATER BOTTLE  \n",
      "4           84029E - RED WOOLLY HOTTIE WHITE HEART.  \n",
      "...                                             ...  \n",
      "42476        21618 - 4 WILDFLOWER BOTANICAL CANDLES  \n",
      "42477                 72741 - GRAND CHOCOLATECANDLE  \n",
      "42478         21470 - FLOWER VINE RAFFIA FOOD COVER  \n",
      "42479               22258 - FELT FARM ANIMAL RABBIT  \n",
      "42480                 21155 - RED RETROSPOT PEG BAG  \n",
      "\n",
      "[42481 rows x 13 columns]\n"
     ]
    }
   ],
   "source": [
    "sales_2010 = sales_data[sales_data['InvoiceDate'].dt.year == 2010]\n",
    "print(sales_2010)"
   ]
  },
  {
   "cell_type": "code",
   "execution_count": 54,
   "metadata": {},
   "outputs": [
    {
     "name": "stdout",
     "output_type": "stream",
     "text": [
      "      InvoiceNo StockCode                          Description  Quantity  \\\n",
      "0        536365    85123A   WHITE HANGING HEART T-LIGHT HOLDER         6   \n",
      "1        536365     71053                  WHITE METAL LANTERN         6   \n",
      "2        536365    84406B       CREAM CUPID HEARTS COAT HANGER         8   \n",
      "3        536365    84029G  KNITTED UNION FLAG HOT WATER BOTTLE         6   \n",
      "4        536365    84029E       RED WOOLLY HOTTIE WHITE HEART.         6   \n",
      "...         ...       ...                                  ...       ...   \n",
      "42476    539991     21618       4 WILDFLOWER BOTANICAL CANDLES         1   \n",
      "42477    539991     72741                GRAND CHOCOLATECANDLE         4   \n",
      "42478    539992     21470        FLOWER VINE RAFFIA FOOD COVER         1   \n",
      "42479    539992     22258              FELT FARM ANIMAL RABBIT         1   \n",
      "42480    539992     21155                RED RETROSPOT PEG BAG         1   \n",
      "\n",
      "              InvoiceDate  UnitPrice  CustomerID         Country  TotalPrice  \\\n",
      "0     2010-12-01 08:26:00       2.55     17850.0  United Kingdom       15.30   \n",
      "1     2010-12-01 08:26:00       3.39     17850.0  United Kingdom       20.34   \n",
      "2     2010-12-01 08:26:00       2.75     17850.0  United Kingdom       22.00   \n",
      "3     2010-12-01 08:26:00       3.39     17850.0  United Kingdom       20.34   \n",
      "4     2010-12-01 08:26:00       3.39     17850.0  United Kingdom       20.34   \n",
      "...                   ...        ...         ...             ...         ...   \n",
      "42476 2010-12-23 16:49:00       1.25         NaN  United Kingdom        1.25   \n",
      "42477 2010-12-23 16:49:00       1.45         NaN  United Kingdom        5.80   \n",
      "42478 2010-12-23 17:41:00       3.75         NaN  United Kingdom        3.75   \n",
      "42479 2010-12-23 17:41:00       1.25         NaN  United Kingdom        1.25   \n",
      "42480 2010-12-23 17:41:00       2.10         NaN  United Kingdom        2.10   \n",
      "\n",
      "       HighValue  DiscountedPrice PiceCategory  \\\n",
      "0          False            2.295       Medium   \n",
      "1           True            3.051       Medium   \n",
      "2           True            2.475       Medium   \n",
      "3           True            3.051       Medium   \n",
      "4           True            3.051       Medium   \n",
      "...          ...              ...          ...   \n",
      "42476      False            1.125       Medium   \n",
      "42477      False            1.305       Medium   \n",
      "42478      False            3.375       Medium   \n",
      "42479      False            1.125       Medium   \n",
      "42480      False            1.890       Medium   \n",
      "\n",
      "                                        ProductInfo  \n",
      "0       85123A - WHITE HANGING HEART T-LIGHT HOLDER  \n",
      "1                       71053 - WHITE METAL LANTERN  \n",
      "2           84406B - CREAM CUPID HEARTS COAT HANGER  \n",
      "3      84029G - KNITTED UNION FLAG HOT WATER BOTTLE  \n",
      "4           84029E - RED WOOLLY HOTTIE WHITE HEART.  \n",
      "...                                             ...  \n",
      "42476        21618 - 4 WILDFLOWER BOTANICAL CANDLES  \n",
      "42477                 72741 - GRAND CHOCOLATECANDLE  \n",
      "42478         21470 - FLOWER VINE RAFFIA FOOD COVER  \n",
      "42479               22258 - FELT FARM ANIMAL RABBIT  \n",
      "42480                 21155 - RED RETROSPOT PEG BAG  \n",
      "\n",
      "[42481 rows x 13 columns]\n"
     ]
    }
   ],
   "source": [
    "#Filtrando las ventas por año y mes \n",
    "sales_dic_2010 = sales_data[(sales_data['InvoiceDate'].dt.year == 2010)&\n",
    "                            (sales_data['InvoiceDate'].dt.month == 12)]\n",
    "\n",
    "print(sales_dic_2010)"
   ]
  },
  {
   "cell_type": "code",
   "execution_count": 55,
   "metadata": {},
   "outputs": [
    {
     "name": "stdout",
     "output_type": "stream",
     "text": [
      "     InvoiceNo StockCode                          Description  Quantity  \\\n",
      "1109    536527     22809              SET OF 6 T-LIGHTS SANTA         6   \n",
      "1110    536527     84347  ROTATING SILVER ANGELS T-LIGHT HLDR         6   \n",
      "1111    536527     84945   MULTI COLOUR SILVER T-LIGHT HOLDER        12   \n",
      "1112    536527     22242        5 HOOK HANGER MAGIC TOADSTOOL        12   \n",
      "1113    536527     22244           3 HOOK HANGER MAGIC GARDEN        12   \n",
      "\n",
      "             InvoiceDate  UnitPrice  CustomerID  Country  TotalPrice  \\\n",
      "1109 2010-12-01 13:04:00       2.95     12662.0  Germany        17.7   \n",
      "1110 2010-12-01 13:04:00       2.55     12662.0  Germany        15.3   \n",
      "1111 2010-12-01 13:04:00       0.85     12662.0  Germany        10.2   \n",
      "1112 2010-12-01 13:04:00       1.65     12662.0  Germany        19.8   \n",
      "1113 2010-12-01 13:04:00       1.95     12662.0  Germany        23.4   \n",
      "\n",
      "      HighValue  DiscountedPrice PiceCategory  \\\n",
      "1109       True            2.655       Medium   \n",
      "1110      False            2.295       Medium   \n",
      "1111      False            0.765       Medium   \n",
      "1112       True            1.485       Medium   \n",
      "1113       True            1.755       Medium   \n",
      "\n",
      "                                      ProductInfo  \n",
      "1109              22809 - SET OF 6 T-LIGHTS SANTA  \n",
      "1110  84347 - ROTATING SILVER ANGELS T-LIGHT HLDR  \n",
      "1111   84945 - MULTI COLOUR SILVER T-LIGHT HOLDER  \n",
      "1112        22242 - 5 HOOK HANGER MAGIC TOADSTOOL  \n",
      "1113           22244 - 3 HOOK HANGER MAGIC GARDEN  \n"
     ]
    }
   ],
   "source": [
    "sales_data['InvoiceDate'] = pd.to_datetime(sales_data['InvoiceDate'])\n",
    "\n",
    "# Filtrar Alemania en noviembre de 2010 con cantidad mayor a 5\n",
    "germany_november_sales = sales_data[(sales_data['Country'] == 'Germany') & \n",
    "                            (sales_data['InvoiceDate'].dt.month == 12) & \n",
    "                            (sales_data['InvoiceDate'].dt.year == 2010) & \n",
    "                            (sales_data['Quantity'] > 5)]\n",
    "print(germany_november_sales.head())"
   ]
  },
  {
   "cell_type": "code",
   "execution_count": 56,
   "metadata": {},
   "outputs": [
    {
     "name": "stdout",
     "output_type": "stream",
     "text": [
      "   InvoiceNo StockCode                        Description  Quantity  \\\n",
      "9     536367     84879      ASSORTED COLOUR BIRD ORNAMENT        32   \n",
      "46    536371     22086    PAPER CHAIN KIT 50'S CHRISTMAS         80   \n",
      "65    536374     21258         VICTORIAN SEWING BOX LARGE        32   \n",
      "82    536376     22114  HOT WATER BOTTLE TEA AND SYMPATHY        48   \n",
      "83    536376     21733   RED HANGING HEART T-LIGHT HOLDER        64   \n",
      "\n",
      "           InvoiceDate  UnitPrice  CustomerID         Country  TotalPrice  \\\n",
      "9  2010-12-01 08:34:00       1.69     13047.0  United Kingdom       54.08   \n",
      "46 2010-12-01 09:00:00       2.55     13748.0  United Kingdom      204.00   \n",
      "65 2010-12-01 09:09:00      10.95     15100.0  United Kingdom      350.40   \n",
      "82 2010-12-01 09:32:00       3.45     15291.0  United Kingdom      165.60   \n",
      "83 2010-12-01 09:32:00       2.55     15291.0  United Kingdom      163.20   \n",
      "\n",
      "    HighValue  DiscountedPrice PiceCategory  \\\n",
      "9        True            1.521       Medium   \n",
      "46       True            2.295       Medium   \n",
      "65       True            9.855       Medium   \n",
      "82       True            3.105       Medium   \n",
      "83       True            2.295       Medium   \n",
      "\n",
      "                                  ProductInfo  \n",
      "9       84879 - ASSORTED COLOUR BIRD ORNAMENT  \n",
      "46    22086 - PAPER CHAIN KIT 50'S CHRISTMAS   \n",
      "65         21258 - VICTORIAN SEWING BOX LARGE  \n",
      "82  22114 - HOT WATER BOTTLE TEA AND SYMPATHY  \n",
      "83   21733 - RED HANGING HEART T-LIGHT HOLDER  \n"
     ]
    }
   ],
   "source": [
    "uk_sales_large = df[(df['Country'] == 'United Kingdom') & (df['Quantity'] > 10)]\n",
    "print(uk_sales_large.head())"
   ]
  },
  {
   "cell_type": "markdown",
   "metadata": {},
   "source": [
    "# Reestructuración de Datos: Pivot y Reshape en Pandas\n",
    "\n",
    "- a reestructuración de datos en Pandas, a través de las funciones pivot, pivot_table, melt, y stack/unstack, es fundamental para transformar los datos en formatos adecuados para análisis específicos. A continuación, te explico cómo se usan estas funciones y cómo puedes aplicarlas a tu dataset.\n",
    "\n",
    "## Pivot\n",
    "- La función pivot se utiliza para reorganizar los datos, de modo que conviertas las columnas en filas o viceversa. Es útil cuando tienes datos categorizados en una tabla y quieres reestructurarlos para análisis específicos."
   ]
  },
  {
   "cell_type": "code",
   "execution_count": 57,
   "metadata": {},
   "outputs": [
    {
     "name": "stdout",
     "output_type": "stream",
     "text": [
      "StockCode             10002  10080  10120  10123C  10123G  10124A  10124G  \\\n",
      "Country                                                                     \n",
      "Australia               NaN    NaN    NaN     NaN     NaN     NaN     NaN   \n",
      "Austria                 NaN    NaN    NaN     NaN     NaN     NaN     NaN   \n",
      "Bahrain                 NaN    NaN    NaN     NaN     NaN     NaN     NaN   \n",
      "Belgium                 NaN    NaN    NaN     NaN     NaN     NaN     NaN   \n",
      "Brazil                  NaN    NaN    NaN     NaN     NaN     NaN     NaN   \n",
      "Canada                  NaN    NaN    NaN     NaN     NaN     NaN     NaN   \n",
      "Channel Islands         NaN    NaN    NaN     NaN     NaN     NaN     NaN   \n",
      "Cyprus                  NaN    NaN    NaN     NaN     NaN     NaN     NaN   \n",
      "Czech Republic          NaN    NaN    NaN     NaN     NaN     NaN     NaN   \n",
      "Denmark                 NaN    NaN    NaN     NaN     NaN     NaN     NaN   \n",
      "EIRE                   12.0    NaN    NaN     NaN     NaN     NaN     NaN   \n",
      "European Community      NaN    NaN    NaN     NaN     NaN     NaN     NaN   \n",
      "Finland                 NaN    NaN    NaN     NaN     NaN     NaN     NaN   \n",
      "France                372.0    NaN   10.0     NaN     NaN     NaN     NaN   \n",
      "Germany                 1.0    NaN    NaN     NaN     NaN     NaN     NaN   \n",
      "Greece                  NaN    NaN    NaN     NaN     NaN     NaN     NaN   \n",
      "Hong Kong               NaN    NaN    NaN     NaN     NaN     NaN     NaN   \n",
      "Iceland                 NaN    NaN    NaN     NaN     NaN     NaN     NaN   \n",
      "Israel                  NaN    NaN    NaN     NaN     NaN     NaN     NaN   \n",
      "Italy                   NaN    NaN    NaN     NaN     NaN     NaN     NaN   \n",
      "Japan                   1.0    NaN    NaN     NaN     NaN     NaN     NaN   \n",
      "Lebanon                 NaN    NaN    NaN     NaN     NaN     NaN     NaN   \n",
      "Lithuania               NaN    NaN    NaN     NaN     NaN     NaN     NaN   \n",
      "Malta                   NaN    NaN    NaN     NaN     NaN     NaN     NaN   \n",
      "Netherlands             NaN    NaN    NaN     NaN     NaN     NaN     NaN   \n",
      "Norway                  NaN    NaN    NaN     NaN     NaN     NaN     NaN   \n",
      "Poland                  NaN    NaN    NaN     NaN     NaN     NaN     NaN   \n",
      "Portugal                NaN    NaN    NaN     NaN     NaN     NaN     NaN   \n",
      "RSA                     NaN    NaN    NaN     NaN     NaN     NaN     NaN   \n",
      "Saudi Arabia            NaN    NaN    NaN     NaN     NaN     NaN     NaN   \n",
      "Singapore               NaN    NaN    NaN     NaN     NaN     NaN     NaN   \n",
      "Spain                  24.0    NaN    NaN     NaN     NaN     NaN     NaN   \n",
      "Sweden                  NaN    NaN    NaN     NaN     NaN     NaN     NaN   \n",
      "Switzerland            12.0    NaN    NaN     NaN     NaN     NaN     NaN   \n",
      "USA                     NaN    NaN    NaN     NaN     NaN     NaN     NaN   \n",
      "United Arab Emirates    NaN    NaN    NaN     NaN     NaN     NaN     NaN   \n",
      "United Kingdom        615.0  495.0  183.0   -13.0   -38.0    16.0    17.0   \n",
      "Unspecified             NaN    NaN    NaN     NaN     NaN     NaN     NaN   \n",
      "\n",
      "StockCode             10125   10133  10134  ...       M  PADS    POST     S  \\\n",
      "Country                                     ...                               \n",
      "Australia               NaN     NaN    NaN  ...     NaN   NaN     0.0   NaN   \n",
      "Austria                 NaN     NaN    NaN  ...     NaN   NaN    37.0   NaN   \n",
      "Bahrain                 NaN     NaN    NaN  ...     NaN   NaN     NaN   NaN   \n",
      "Belgium                 NaN     NaN    NaN  ...     NaN   NaN   272.0   NaN   \n",
      "Brazil                  NaN     NaN    NaN  ...     NaN   NaN     NaN   NaN   \n",
      "Canada                  NaN    40.0    NaN  ...     NaN   NaN     1.0   NaN   \n",
      "Channel Islands         NaN     NaN    NaN  ...     0.0   NaN     NaN   NaN   \n",
      "Cyprus                  NaN     NaN    NaN  ...     0.0   NaN     1.0   NaN   \n",
      "Czech Republic          NaN     NaN    NaN  ...     NaN   NaN     0.0   NaN   \n",
      "Denmark                 NaN     NaN    NaN  ...     NaN   NaN    41.0   NaN   \n",
      "EIRE                    NaN    40.0    NaN  ...    -2.0   NaN     NaN   NaN   \n",
      "European Community      NaN     NaN    NaN  ...     NaN   NaN     9.0   NaN   \n",
      "Finland                 NaN     NaN    NaN  ...     2.0   NaN    89.0   NaN   \n",
      "France                470.0     NaN    NaN  ...   -16.0   NaN   803.0   NaN   \n",
      "Germany               120.0     NaN    NaN  ...     2.0   NaN  1104.0   NaN   \n",
      "Greece                  NaN     NaN    NaN  ...     NaN   NaN     6.0   NaN   \n",
      "Hong Kong               NaN     NaN    NaN  ...     0.0   NaN     2.0   NaN   \n",
      "Iceland                 NaN     NaN    NaN  ...     NaN   NaN     NaN   NaN   \n",
      "Israel                  NaN    20.0    NaN  ...     NaN   NaN     NaN   NaN   \n",
      "Italy                   NaN     NaN    NaN  ...    -1.0   NaN    44.0   NaN   \n",
      "Japan                   NaN     NaN    NaN  ...    -3.0   NaN     NaN   NaN   \n",
      "Lebanon                 NaN     NaN    NaN  ...     NaN   NaN     NaN   NaN   \n",
      "Lithuania               NaN     NaN    NaN  ...     NaN   NaN     NaN   NaN   \n",
      "Malta                   NaN     NaN    NaN  ...     NaN   NaN    10.0   NaN   \n",
      "Netherlands             NaN     NaN    NaN  ...  -480.0   NaN    99.0   NaN   \n",
      "Norway                  NaN     NaN    NaN  ...     0.0   NaN    57.0   NaN   \n",
      "Poland                  NaN     NaN    NaN  ...     NaN   NaN     9.0   NaN   \n",
      "Portugal                NaN    20.0    NaN  ...     1.0   NaN    97.0   NaN   \n",
      "RSA                     NaN     NaN    NaN  ...     1.0   NaN     NaN   NaN   \n",
      "Saudi Arabia            NaN     NaN    NaN  ...     NaN   NaN     NaN   NaN   \n",
      "Singapore               NaN     NaN    NaN  ...     0.0   NaN     NaN   NaN   \n",
      "Spain                   NaN     NaN    NaN  ...    -3.0   NaN   209.0   NaN   \n",
      "Sweden                  NaN     NaN    NaN  ...     1.0   NaN    37.0   NaN   \n",
      "Switzerland            20.0    10.0    NaN  ...     NaN   NaN    97.0   NaN   \n",
      "USA                     NaN     NaN    NaN  ...     NaN   NaN     NaN   NaN   \n",
      "United Arab Emirates    NaN     NaN    NaN  ...     NaN   NaN     1.0   NaN   \n",
      "United Kingdom        686.0  2645.0  -19.0  ...  3662.0   4.0  3328.0 -59.0   \n",
      "Unspecified             NaN     NaN    NaN  ...     NaN   NaN     NaN   NaN   \n",
      "\n",
      "StockCode             gift_0001_10  gift_0001_20  gift_0001_30  gift_0001_40  \\\n",
      "Country                                                                        \n",
      "Australia                      NaN           NaN           NaN           NaN   \n",
      "Austria                        NaN           NaN           NaN           NaN   \n",
      "Bahrain                        NaN           NaN           NaN           NaN   \n",
      "Belgium                        NaN           NaN           NaN           NaN   \n",
      "Brazil                         NaN           NaN           NaN           NaN   \n",
      "Canada                         NaN           NaN           NaN           NaN   \n",
      "Channel Islands                NaN           NaN           NaN           NaN   \n",
      "Cyprus                         NaN           NaN           NaN           NaN   \n",
      "Czech Republic                 NaN           NaN           NaN           NaN   \n",
      "Denmark                        NaN           NaN           NaN           NaN   \n",
      "EIRE                           NaN           NaN           NaN           NaN   \n",
      "European Community             NaN           NaN           NaN           NaN   \n",
      "Finland                        NaN           NaN           NaN           NaN   \n",
      "France                         NaN           NaN           NaN           NaN   \n",
      "Germany                        NaN           NaN           NaN           NaN   \n",
      "Greece                         NaN           NaN           NaN           NaN   \n",
      "Hong Kong                      NaN           NaN           NaN           NaN   \n",
      "Iceland                        NaN           NaN           NaN           NaN   \n",
      "Israel                         NaN           NaN           NaN           NaN   \n",
      "Italy                          NaN           NaN           NaN           NaN   \n",
      "Japan                          NaN           NaN           NaN           NaN   \n",
      "Lebanon                        NaN           NaN           NaN           NaN   \n",
      "Lithuania                      NaN           NaN           NaN           NaN   \n",
      "Malta                          NaN           NaN           NaN           NaN   \n",
      "Netherlands                    NaN           NaN           NaN           NaN   \n",
      "Norway                         NaN           NaN           NaN           NaN   \n",
      "Poland                         NaN           NaN           NaN           NaN   \n",
      "Portugal                       NaN           NaN           NaN           NaN   \n",
      "RSA                            NaN           NaN           NaN           NaN   \n",
      "Saudi Arabia                   NaN           NaN           NaN           NaN   \n",
      "Singapore                      NaN           NaN           NaN           NaN   \n",
      "Spain                          NaN           NaN           NaN           NaN   \n",
      "Sweden                         NaN           NaN           NaN           NaN   \n",
      "Switzerland                    NaN           NaN           NaN           NaN   \n",
      "USA                            NaN           NaN           NaN           NaN   \n",
      "United Arab Emirates           NaN           NaN           NaN           NaN   \n",
      "United Kingdom                39.0          20.0          37.0           3.0   \n",
      "Unspecified                    NaN           NaN           NaN           NaN   \n",
      "\n",
      "StockCode             gift_0001_50    m  \n",
      "Country                                  \n",
      "Australia                      NaN  NaN  \n",
      "Austria                        NaN  NaN  \n",
      "Bahrain                        NaN  NaN  \n",
      "Belgium                        NaN  NaN  \n",
      "Brazil                         NaN  NaN  \n",
      "Canada                         NaN  NaN  \n",
      "Channel Islands                NaN  NaN  \n",
      "Cyprus                         NaN  NaN  \n",
      "Czech Republic                 NaN  NaN  \n",
      "Denmark                        NaN  NaN  \n",
      "EIRE                           NaN  NaN  \n",
      "European Community             NaN  NaN  \n",
      "Finland                        NaN  NaN  \n",
      "France                         NaN  NaN  \n",
      "Germany                        NaN  NaN  \n",
      "Greece                         NaN  NaN  \n",
      "Hong Kong                      NaN  NaN  \n",
      "Iceland                        NaN  NaN  \n",
      "Israel                         NaN  NaN  \n",
      "Italy                          NaN  NaN  \n",
      "Japan                          NaN  NaN  \n",
      "Lebanon                        NaN  NaN  \n",
      "Lithuania                      NaN  NaN  \n",
      "Malta                          NaN  NaN  \n",
      "Netherlands                    NaN  NaN  \n",
      "Norway                         NaN  NaN  \n",
      "Poland                         NaN  NaN  \n",
      "Portugal                       NaN  NaN  \n",
      "RSA                            NaN  NaN  \n",
      "Saudi Arabia                   NaN  NaN  \n",
      "Singapore                      NaN  NaN  \n",
      "Spain                          NaN  NaN  \n",
      "Sweden                         NaN  NaN  \n",
      "Switzerland                    NaN  NaN  \n",
      "USA                            NaN  NaN  \n",
      "United Arab Emirates           NaN  NaN  \n",
      "United Kingdom                 4.0  1.0  \n",
      "Unspecified                    NaN  NaN  \n",
      "\n",
      "[38 rows x 4070 columns]\n"
     ]
    }
   ],
   "source": [
    "pivot_table = pd.pivot_table(sales_data, values = 'Quantity', index = 'Country',\n",
    "                             columns = 'StockCode', aggfunc = 'sum')\n",
    "\n",
    "print(pivot_table)                       "
   ]
  },
  {
   "cell_type": "markdown",
   "metadata": {},
   "source": [
    "Supongamos que quieres ver el total de ventas (es decir, la suma de la columna Quantity) por Country y InvoiceDate:"
   ]
  },
  {
   "cell_type": "code",
   "execution_count": 58,
   "metadata": {},
   "outputs": [
    {
     "name": "stdout",
     "output_type": "stream",
     "text": [
      "Country     Australia  Austria  Bahrain  Belgium  Brazil  Canada  \\\n",
      "Date                                                               \n",
      "2010-12-01      107.0      NaN      NaN      NaN     NaN     NaN   \n",
      "2010-12-02        NaN      NaN      NaN      NaN     NaN     NaN   \n",
      "2010-12-03        NaN      NaN      NaN    528.0     NaN     NaN   \n",
      "2010-12-05        NaN      NaN      NaN      NaN     NaN     NaN   \n",
      "2010-12-06        NaN      NaN      NaN      NaN     NaN     NaN   \n",
      "\n",
      "Country     Channel Islands  Cyprus  Czech Republic  Denmark  ...  RSA  \\\n",
      "Date                                                          ...        \n",
      "2010-12-01              NaN     NaN             NaN      NaN  ...  NaN   \n",
      "2010-12-02              NaN     NaN             NaN      NaN  ...  NaN   \n",
      "2010-12-03              NaN     NaN             NaN      NaN  ...  NaN   \n",
      "2010-12-05              NaN     NaN             NaN      NaN  ...  NaN   \n",
      "2010-12-06              NaN     NaN             NaN      NaN  ...  NaN   \n",
      "\n",
      "Country     Saudi Arabia  Singapore  Spain  Sweden  Switzerland  USA  \\\n",
      "Date                                                                   \n",
      "2010-12-01           NaN        NaN    NaN     NaN          NaN  NaN   \n",
      "2010-12-02           NaN        NaN    NaN     NaN          NaN  NaN   \n",
      "2010-12-03           NaN        NaN  400.0     NaN        110.0  NaN   \n",
      "2010-12-05           NaN        NaN    NaN     NaN          NaN  NaN   \n",
      "2010-12-06           NaN        NaN    NaN     NaN          NaN  NaN   \n",
      "\n",
      "Country     United Arab Emirates  United Kingdom  Unspecified  \n",
      "Date                                                           \n",
      "2010-12-01                   NaN         23949.0          NaN  \n",
      "2010-12-02                   NaN         20873.0          NaN  \n",
      "2010-12-03                   NaN         10439.0          NaN  \n",
      "2010-12-05                   NaN         13604.0          NaN  \n",
      "2010-12-06                   NaN         20669.0          NaN  \n",
      "\n",
      "[5 rows x 38 columns]\n"
     ]
    }
   ],
   "source": [
    "df['InvoiceDate'] = pd.to_datetime(df['InvoiceDate'])\n",
    "\n",
    "df['Date'] = df['InvoiceDate'].dt.date\n",
    "\n",
    "pivot_table_df = df.pivot_table(index='Date', columns='Country', values='Quantity', aggfunc='sum')\n",
    "\n",
    "def new_func(pivot_table_df):\n",
    "    print(pivot_table_df.head())\n",
    "\n",
    "new_func(pivot_table_df)\n"
   ]
  },
  {
   "cell_type": "code",
   "execution_count": 59,
   "metadata": {},
   "outputs": [
    {
     "name": "stderr",
     "output_type": "stream",
     "text": [
      "/tmp/ipykernel_32024/29101804.py:11: FutureWarning: The previous implementation of stack is deprecated and will be removed in a future version of pandas. See the What's New notes for pandas 2.1.0 for details. Specify future_stack=True to adopt the new implementation and silence this warning.\n",
      "  stacked_df = pivot_table_df.stack()\n"
     ]
    },
    {
     "name": "stdout",
     "output_type": "stream",
     "text": [
      "Tabla dinámica original:\n",
      "Country              Australia                               \\\n",
      "Description  DOLLY GIRL BEAKER  I LOVE LONDON MINI BACKPACK   \n",
      "Date                                                          \n",
      "2010-12-01                 NaN                          NaN   \n",
      "2010-12-02                 NaN                          NaN   \n",
      "2010-12-03                 NaN                          NaN   \n",
      "2010-12-05                 NaN                          NaN   \n",
      "2010-12-06                 NaN                          NaN   \n",
      "\n",
      "Country                                                           \\\n",
      "Description 10 COLOUR SPACEBOY PEN 12 PENCIL SMALL TUBE WOODLAND   \n",
      "Date                                                               \n",
      "2010-12-01                     NaN                           NaN   \n",
      "2010-12-02                     NaN                           NaN   \n",
      "2010-12-03                     NaN                           NaN   \n",
      "2010-12-05                     NaN                           NaN   \n",
      "2010-12-06                     NaN                           NaN   \n",
      "\n",
      "Country                                                                   \\\n",
      "Description 12 PENCILS TALL TUBE POSY 12 PENCILS TALL TUBE RED RETROSPOT   \n",
      "Date                                                                       \n",
      "2010-12-01                        NaN                                NaN   \n",
      "2010-12-02                        NaN                                NaN   \n",
      "2010-12-03                        NaN                                NaN   \n",
      "2010-12-05                        NaN                                NaN   \n",
      "2010-12-06                        NaN                                NaN   \n",
      "\n",
      "Country                                                                 \\\n",
      "Description 16 PIECE CUTLERY SET PANTRY DESIGN 20 DOLLY PEGS RETROSPOT   \n",
      "Date                                                                     \n",
      "2010-12-01                                 NaN                     NaN   \n",
      "2010-12-02                                 NaN                     NaN   \n",
      "2010-12-03                                 NaN                     NaN   \n",
      "2010-12-05                                 NaN                     NaN   \n",
      "2010-12-06                                 NaN                     NaN   \n",
      "\n",
      "Country                                                          ...  \\\n",
      "Description 3 HOOK HANGER MAGIC GARDEN 3 STRIPEY MICE FELTCRAFT  ...   \n",
      "Date                                                             ...   \n",
      "2010-12-01                         NaN                      NaN  ...   \n",
      "2010-12-02                         NaN                      NaN  ...   \n",
      "2010-12-03                         NaN                      NaN  ...   \n",
      "2010-12-05                         NaN                      NaN  ...   \n",
      "2010-12-06                         NaN                      NaN  ...   \n",
      "\n",
      "Country            Unspecified                                        \\\n",
      "Description WRAP CIRCUS PARADE WRAP DOILEY DESIGN WRAP ENGLISH ROSE    \n",
      "Date                                                                   \n",
      "2010-12-01                 NaN                NaN                NaN   \n",
      "2010-12-02                 NaN                NaN                NaN   \n",
      "2010-12-03                 NaN                NaN                NaN   \n",
      "2010-12-05                 NaN                NaN                NaN   \n",
      "2010-12-06                 NaN                NaN                NaN   \n",
      "\n",
      "Country                                                                \\\n",
      "Description WRAP MONSTER FUN  WRAP PAISLEY PARK  WRAP POPPIES  DESIGN   \n",
      "Date                                                                    \n",
      "2010-12-01                NaN                NaN                  NaN   \n",
      "2010-12-02                NaN                NaN                  NaN   \n",
      "2010-12-03                NaN                NaN                  NaN   \n",
      "2010-12-05                NaN                NaN                  NaN   \n",
      "2010-12-06                NaN                NaN                  NaN   \n",
      "\n",
      "Country                                                        \\\n",
      "Description WRAP SUKI AND FRIENDS WRAP VINTAGE PETALS  DESIGN   \n",
      "Date                                                            \n",
      "2010-12-01                    NaN                         NaN   \n",
      "2010-12-02                    NaN                         NaN   \n",
      "2010-12-03                    NaN                         NaN   \n",
      "2010-12-05                    NaN                         NaN   \n",
      "2010-12-06                    NaN                         NaN   \n",
      "\n",
      "Country                                                   \n",
      "Description WRAP WEDDING DAY ZINC METAL HEART DECORATION  \n",
      "Date                                                      \n",
      "2010-12-01               NaN                         NaN  \n",
      "2010-12-02               NaN                         NaN  \n",
      "2010-12-03               NaN                         NaN  \n",
      "2010-12-05               NaN                         NaN  \n",
      "2010-12-06               NaN                         NaN  \n",
      "\n",
      "[5 rows x 20176 columns] \n",
      "\n"
     ]
    }
   ],
   "source": [
    "# Paso 2: Asegurarse de que 'InvoiceDate' es de tipo datetime\n",
    "df['InvoiceDate'] = pd.to_datetime(df['InvoiceDate'])\n",
    "\n",
    "# Paso 3: Crear una nueva columna 'Date' sin la hora para agrupar por día\n",
    "df['Date'] = df['InvoiceDate'].dt.date\n",
    "\n",
    "# Paso 4: Crear una tabla dinámica que agregue las cantidades por país y producto\n",
    "pivot_table_df = df.pivot_table(index='Date', columns=['Country', 'Description'], values='Quantity', aggfunc='sum')\n",
    "\n",
    "# Paso 5: Apilar los datos (transformar de formato ancho a largo)\n",
    "stacked_df = pivot_table_df.stack()\n",
    "\n",
    "# Paso 6: Desapilar los datos (volver a formato ancho)\n",
    "unstacked_df = stacked_df.unstack()\n",
    "\n",
    "# Imprimir resultados para verificar\n",
    "print(\"Tabla dinámica original:\")\n",
    "print(pivot_table_df.head(), \"\\n\")\n"
   ]
  },
  {
   "cell_type": "code",
   "execution_count": 60,
   "metadata": {},
   "outputs": [
    {
     "name": "stdout",
     "output_type": "stream",
     "text": [
      "Datos apilados (stacked):\n",
      "Country                                      Australia  Austria  Bahrain  \\\n",
      "Date       Description                                                     \n",
      "2010-12-01  4 PURPLE FLOCK DINNER CANDLES          NaN      NaN      NaN   \n",
      "            SET 2 TEA TOWELS I LOVE LONDON         NaN      NaN      NaN   \n",
      "           10 COLOUR SPACEBOY PEN                  NaN      NaN      NaN   \n",
      "           12 DAISY PEGS IN WOOD BOX               NaN      NaN      NaN   \n",
      "           12 IVORY ROSE PEG PLACE SETTINGS        NaN      NaN      NaN   \n",
      "\n",
      "Country                                      Belgium  Brazil  Canada  \\\n",
      "Date       Description                                                 \n",
      "2010-12-01  4 PURPLE FLOCK DINNER CANDLES        NaN     NaN     NaN   \n",
      "            SET 2 TEA TOWELS I LOVE LONDON       NaN     NaN     NaN   \n",
      "           10 COLOUR SPACEBOY PEN                NaN     NaN     NaN   \n",
      "           12 DAISY PEGS IN WOOD BOX             NaN     NaN     NaN   \n",
      "           12 IVORY ROSE PEG PLACE SETTINGS      NaN     NaN     NaN   \n",
      "\n",
      "Country                                      Channel Islands  Cyprus  \\\n",
      "Date       Description                                                 \n",
      "2010-12-01  4 PURPLE FLOCK DINNER CANDLES                NaN     NaN   \n",
      "            SET 2 TEA TOWELS I LOVE LONDON               NaN     NaN   \n",
      "           10 COLOUR SPACEBOY PEN                        NaN     NaN   \n",
      "           12 DAISY PEGS IN WOOD BOX                     NaN     NaN   \n",
      "           12 IVORY ROSE PEG PLACE SETTINGS              NaN     NaN   \n",
      "\n",
      "Country                                      Czech Republic  Denmark  ...  \\\n",
      "Date       Description                                                ...   \n",
      "2010-12-01  4 PURPLE FLOCK DINNER CANDLES               NaN      NaN  ...   \n",
      "            SET 2 TEA TOWELS I LOVE LONDON              NaN      NaN  ...   \n",
      "           10 COLOUR SPACEBOY PEN                       NaN      NaN  ...   \n",
      "           12 DAISY PEGS IN WOOD BOX                    NaN      NaN  ...   \n",
      "           12 IVORY ROSE PEG PLACE SETTINGS             NaN      NaN  ...   \n",
      "\n",
      "Country                                      RSA  Saudi Arabia  Singapore  \\\n",
      "Date       Description                                                      \n",
      "2010-12-01  4 PURPLE FLOCK DINNER CANDLES    NaN           NaN        NaN   \n",
      "            SET 2 TEA TOWELS I LOVE LONDON   NaN           NaN        NaN   \n",
      "           10 COLOUR SPACEBOY PEN            NaN           NaN        NaN   \n",
      "           12 DAISY PEGS IN WOOD BOX         NaN           NaN        NaN   \n",
      "           12 IVORY ROSE PEG PLACE SETTINGS  NaN           NaN        NaN   \n",
      "\n",
      "Country                                      Spain  Sweden  Switzerland  USA  \\\n",
      "Date       Description                                                         \n",
      "2010-12-01  4 PURPLE FLOCK DINNER CANDLES      NaN     NaN          NaN  NaN   \n",
      "            SET 2 TEA TOWELS I LOVE LONDON     NaN     NaN          NaN  NaN   \n",
      "           10 COLOUR SPACEBOY PEN              NaN     NaN          NaN  NaN   \n",
      "           12 DAISY PEGS IN WOOD BOX           NaN     NaN          NaN  NaN   \n",
      "           12 IVORY ROSE PEG PLACE SETTINGS    NaN     NaN          NaN  NaN   \n",
      "\n",
      "Country                                      United Arab Emirates  \\\n",
      "Date       Description                                              \n",
      "2010-12-01  4 PURPLE FLOCK DINNER CANDLES                     NaN   \n",
      "            SET 2 TEA TOWELS I LOVE LONDON                    NaN   \n",
      "           10 COLOUR SPACEBOY PEN                             NaN   \n",
      "           12 DAISY PEGS IN WOOD BOX                          NaN   \n",
      "           12 IVORY ROSE PEG PLACE SETTINGS                   NaN   \n",
      "\n",
      "Country                                      United Kingdom  Unspecified  \n",
      "Date       Description                                                    \n",
      "2010-12-01  4 PURPLE FLOCK DINNER CANDLES               2.0          NaN  \n",
      "            SET 2 TEA TOWELS I LOVE LONDON             22.0          NaN  \n",
      "           10 COLOUR SPACEBOY PEN                     145.0          NaN  \n",
      "           12 DAISY PEGS IN WOOD BOX                    8.0          NaN  \n",
      "           12 IVORY ROSE PEG PLACE SETTINGS             1.0          NaN  \n",
      "\n",
      "[5 rows x 38 columns] \n",
      "\n"
     ]
    }
   ],
   "source": [
    "print(\"Datos apilados (stacked):\")\n",
    "print(stacked_df.head(), \"\\n\")\n",
    "\n"
   ]
  },
  {
   "cell_type": "code",
   "execution_count": 61,
   "metadata": {},
   "outputs": [
    {
     "name": "stdout",
     "output_type": "stream",
     "text": [
      "Datos desapilados (unstacked):\n",
      "Country                          Australia                                 \\\n",
      "Description  4 PURPLE FLOCK DINNER CANDLES  50'S CHRISTMAS GIFT BAG LARGE   \n",
      "Date                                                                        \n",
      "2010-12-01                             NaN                            NaN   \n",
      "2010-12-02                             NaN                            NaN   \n",
      "2010-12-03                             NaN                            NaN   \n",
      "2010-12-05                             NaN                            NaN   \n",
      "2010-12-06                             NaN                            NaN   \n",
      "\n",
      "Country                                                      \\\n",
      "Description  DOLLY GIRL BEAKER  I LOVE LONDON MINI BACKPACK   \n",
      "Date                                                          \n",
      "2010-12-01                 NaN                          NaN   \n",
      "2010-12-02                 NaN                          NaN   \n",
      "2010-12-03                 NaN                          NaN   \n",
      "2010-12-05                 NaN                          NaN   \n",
      "2010-12-06                 NaN                          NaN   \n",
      "\n",
      "Country                                                            \\\n",
      "Description  I LOVE LONDON MINI RUCKSACK  NINE DRAWER OFFICE TIDY   \n",
      "Date                                                                \n",
      "2010-12-01                           NaN                      NaN   \n",
      "2010-12-02                           NaN                      NaN   \n",
      "2010-12-03                           NaN                      NaN   \n",
      "2010-12-05                           NaN                      NaN   \n",
      "2010-12-06                           NaN                      NaN   \n",
      "\n",
      "Country                                                           \\\n",
      "Description  OVAL WALL MIRROR DIAMANTE   RED SPOT GIFT BAG LARGE   \n",
      "Date                                                               \n",
      "2010-12-01                          NaN                      NaN   \n",
      "2010-12-02                          NaN                      NaN   \n",
      "2010-12-03                          NaN                      NaN   \n",
      "2010-12-05                          NaN                      NaN   \n",
      "2010-12-06                          NaN                      NaN   \n",
      "\n",
      "Country                                                               ...  \\\n",
      "Description  SET 2 TEA TOWELS I LOVE LONDON   SPACEBOY BABY GIFT SET  ...   \n",
      "Date                                                                  ...   \n",
      "2010-12-01                               NaN                     NaN  ...   \n",
      "2010-12-02                               NaN                     NaN  ...   \n",
      "2010-12-03                               NaN                     NaN  ...   \n",
      "2010-12-05                               NaN                     NaN  ...   \n",
      "2010-12-06                               NaN                     NaN  ...   \n",
      "\n",
      "Country             Unspecified                                          \\\n",
      "Description wrongly coded 20713 wrongly coded 23343 wrongly coded-23343   \n",
      "Date                                                                      \n",
      "2010-12-01                  NaN                 NaN                 NaN   \n",
      "2010-12-02                  NaN                 NaN                 NaN   \n",
      "2010-12-03                  NaN                 NaN                 NaN   \n",
      "2010-12-05                  NaN                 NaN                 NaN   \n",
      "2010-12-06                  NaN                 NaN                 NaN   \n",
      "\n",
      "Country                                                                      \\\n",
      "Description wrongly marked wrongly marked 23343 wrongly marked carton 22804   \n",
      "Date                                                                          \n",
      "2010-12-01             NaN                  NaN                         NaN   \n",
      "2010-12-02             NaN                  NaN                         NaN   \n",
      "2010-12-03             NaN                  NaN                         NaN   \n",
      "2010-12-05             NaN                  NaN                         NaN   \n",
      "2010-12-06             NaN                  NaN                         NaN   \n",
      "\n",
      "Country                                                                \\\n",
      "Description wrongly marked. 23343 in box wrongly sold (22719) barcode   \n",
      "Date                                                                    \n",
      "2010-12-01                           NaN                          NaN   \n",
      "2010-12-02                           NaN                          NaN   \n",
      "2010-12-03                           NaN                          NaN   \n",
      "2010-12-05                           NaN                          NaN   \n",
      "2010-12-06                           NaN                          NaN   \n",
      "\n",
      "Country                                             \n",
      "Description wrongly sold as sets wrongly sold sets  \n",
      "Date                                                \n",
      "2010-12-01                   NaN               NaN  \n",
      "2010-12-02                   NaN               NaN  \n",
      "2010-12-03                   NaN               NaN  \n",
      "2010-12-05                   NaN               NaN  \n",
      "2010-12-06                   NaN               NaN  \n",
      "\n",
      "[5 rows x 160474 columns]\n"
     ]
    }
   ],
   "source": [
    "print(\"Datos desapilados (unstacked):\")\n",
    "print(unstacked_df.head())"
   ]
  },
  {
   "cell_type": "markdown",
   "metadata": {},
   "source": [
    "# Graficación de Datos con Matplotlib"
   ]
  },
  {
   "cell_type": "code",
   "execution_count": 62,
   "metadata": {},
   "outputs": [
    {
     "name": "stdout",
     "output_type": "stream",
     "text": [
      "Country\n",
      "United Kingdom          8187806.364\n",
      "Netherlands              284661.540\n",
      "EIRE                     263276.820\n",
      "Germany                  221698.210\n",
      "France                   197403.900\n",
      "Australia                137077.270\n",
      "Switzerland               56385.350\n",
      "Spain                     54774.580\n",
      "Belgium                   40910.960\n",
      "Sweden                    36595.910\n",
      "Japan                     35340.620\n",
      "Norway                    35163.460\n",
      "Portugal                  29367.020\n",
      "Finland                   22326.740\n",
      "Channel Islands           20086.290\n",
      "Denmark                   18768.140\n",
      "Italy                     16890.510\n",
      "Cyprus                    12946.290\n",
      "Austria                   10154.320\n",
      "Hong Kong                 10117.040\n",
      "Singapore                  9120.390\n",
      "Israel                     7907.820\n",
      "Poland                     7213.140\n",
      "Unspecified                4749.790\n",
      "Greece                     4710.520\n",
      "Iceland                    4310.000\n",
      "Canada                     3666.380\n",
      "Malta                      2505.470\n",
      "United Arab Emirates       1902.280\n",
      "USA                        1730.920\n",
      "Lebanon                    1693.880\n",
      "Lithuania                  1661.060\n",
      "European Community         1291.750\n",
      "Brazil                     1143.600\n",
      "RSA                        1002.310\n",
      "Czech Republic              707.720\n",
      "Bahrain                     548.400\n",
      "Saudi Arabia                131.170\n",
      "Name: TotalPrice, dtype: float64\n"
     ]
    }
   ],
   "source": [
    "sales_by_country2 = sales_data.groupby('Country')['TotalPrice'].sum().sort_values(ascending=False)\n",
    "print(sales_by_country2)"
   ]
  },
  {
   "cell_type": "code",
   "execution_count": 63,
   "metadata": {},
   "outputs": [
    {
     "data": {
      "image/png": "[encoded data removed]",
      "text/plain": [
       "<Figure size 1200x1000 with 1 Axes>"
      ]
     },
     "metadata": {},
     "output_type": "display_data"
    }
   ],
   "source": [
    "plt.figure(figsize=(12,10))\n",
    "sales_by_country2.plot(kind='bar')\n",
    "plt.title('Ventas Totales por Pais')\n",
    "plt.xlabel('Pais')\n",
    "plt.ylabel('Total de Vetas')\n",
    "plt.show()"
   ]
  },
  {
   "cell_type": "code",
   "execution_count": 64,
   "metadata": {},
   "outputs": [
    {
     "data": {
      "image/png": "[encoded data removed]",
      "text/plain": [
       "<Figure size 1200x1000 with 1 Axes>"
      ]
     },
     "metadata": {},
     "output_type": "display_data"
    }
   ],
   "source": [
    "#Graficando por productos \n",
    "quantity_by_produc = sales_data.groupby('Description')['Quantity'].sum().sort_values(ascending=False).head(20)\n",
    "\n",
    "plt.figure(figsize=(12,10))\n",
    "quantity_by_produc.plot(kind='bar')\n",
    "plt.title('Productos mas Vendidos')\n",
    "plt.xlabel('Peoducto')\n",
    "plt.ylabel('Candidad Vendida')\n",
    "plt.show()"
   ]
  },
  {
   "cell_type": "code",
   "execution_count": 65,
   "metadata": {},
   "outputs": [
    {
     "name": "stdout",
     "output_type": "stream",
     "text": [
      "El Producto mas vendido es WORLD WAR 2 GLIDERS ASSTD DESIGNS con un total de 53847 Unidades vendidas\n"
     ]
    }
   ],
   "source": [
    "# Identificando el producto mas vendido \n",
    "top_product = sales_data.groupby('Description')['Quantity'].sum().idxmax()\n",
    "top_product_quantity = sales_data.groupby('Description')['Quantity'].sum().max()\n",
    "print(f'El Producto mas vendido es {top_product} con un total de {top_product_quantity} Unidades vendidas')"
   ]
  },
  {
   "cell_type": "markdown",
   "metadata": {},
   "source": []
  },
  {
   "cell_type": "markdown",
   "metadata": {},
   "source": [
    "## Ventas Mensuales\n",
    "- Extraer el mes y año de la fecha de la factura\n",
    "- Agrupar por YearMonth y sumar la cantidad vendida"
   ]
  },
  {
   "cell_type": "code",
   "execution_count": 76,
   "metadata": {},
   "outputs": [
    {
     "ename": "KeyError",
     "evalue": "'InvoiceDate'",
     "output_type": "error",
     "traceback": [
      "\u001b[0;31m---------------------------------------------------------------------------\u001b[0m",
      "\u001b[0;31mKeyError\u001b[0m                                  Traceback (most recent call last)",
      "File \u001b[0;32m~/NpyPandaNuevos/NpyPandaAnalisisFYNEKA/lib/python3.10/site-packages/pandas/core/indexes/base.py:3805\u001b[0m, in \u001b[0;36mIndex.get_loc\u001b[0;34m(self, key)\u001b[0m\n\u001b[1;32m   3804\u001b[0m \u001b[38;5;28;01mtry\u001b[39;00m:\n\u001b[0;32m-> 3805\u001b[0m     \u001b[38;5;28;01mreturn\u001b[39;00m \u001b[38;5;28;43mself\u001b[39;49m\u001b[38;5;241;43m.\u001b[39;49m\u001b[43m_engine\u001b[49m\u001b[38;5;241;43m.\u001b[39;49m\u001b[43mget_loc\u001b[49m\u001b[43m(\u001b[49m\u001b[43mcasted_key\u001b[49m\u001b[43m)\u001b[49m\n\u001b[1;32m   3806\u001b[0m \u001b[38;5;28;01mexcept\u001b[39;00m \u001b[38;5;167;01mKeyError\u001b[39;00m \u001b[38;5;28;01mas\u001b[39;00m err:\n",
      "File \u001b[0;32mindex.pyx:167\u001b[0m, in \u001b[0;36mpandas._libs.index.IndexEngine.get_loc\u001b[0;34m()\u001b[0m\n",
      "File \u001b[0;32mindex.pyx:196\u001b[0m, in \u001b[0;36mpandas._libs.index.IndexEngine.get_loc\u001b[0;34m()\u001b[0m\n",
      "File \u001b[0;32mpandas/_libs/hashtable_class_helper.pxi:7081\u001b[0m, in \u001b[0;36mpandas._libs.hashtable.PyObjectHashTable.get_item\u001b[0;34m()\u001b[0m\n",
      "File \u001b[0;32mpandas/_libs/hashtable_class_helper.pxi:7089\u001b[0m, in \u001b[0;36mpandas._libs.hashtable.PyObjectHashTable.get_item\u001b[0;34m()\u001b[0m\n",
      "\u001b[0;31mKeyError\u001b[0m: 'InvoiceDate'",
      "\nThe above exception was the direct cause of the following exception:\n",
      "\u001b[0;31mKeyError\u001b[0m                                  Traceback (most recent call last)",
      "Cell \u001b[0;32mIn[76], line 1\u001b[0m\n\u001b[0;32m----> 1\u001b[0m sales_data[\u001b[38;5;124m'\u001b[39m\u001b[38;5;124mYearMonth\u001b[39m\u001b[38;5;124m'\u001b[39m] \u001b[38;5;241m=\u001b[39m \u001b[43msales_data\u001b[49m\u001b[43m[\u001b[49m\u001b[38;5;124;43m'\u001b[39;49m\u001b[38;5;124;43mInvoiceDate\u001b[39;49m\u001b[38;5;124;43m'\u001b[39;49m\u001b[43m]\u001b[49m\u001b[38;5;241m.\u001b[39mdt\u001b[38;5;241m.\u001b[39mto_period(\u001b[38;5;124m'\u001b[39m\u001b[38;5;124mM\u001b[39m\u001b[38;5;124m'\u001b[39m)\n\u001b[1;32m      2\u001b[0m ventas_mensuales \u001b[38;5;241m=\u001b[39m sales_data\u001b[38;5;241m.\u001b[39mgroupby(\u001b[38;5;124m'\u001b[39m\u001b[38;5;124mYearMonth\u001b[39m\u001b[38;5;124m'\u001b[39m)[\u001b[38;5;124m'\u001b[39m\u001b[38;5;124mQuantity\u001b[39m\u001b[38;5;124m'\u001b[39m]\u001b[38;5;241m.\u001b[39msum()\n\u001b[1;32m      3\u001b[0m plt\u001b[38;5;241m.\u001b[39mfigure(figsize\u001b[38;5;241m=\u001b[39m(\u001b[38;5;241m12\u001b[39m, \u001b[38;5;241m6\u001b[39m))\n",
      "File \u001b[0;32m~/NpyPandaNuevos/NpyPandaAnalisisFYNEKA/lib/python3.10/site-packages/pandas/core/frame.py:4102\u001b[0m, in \u001b[0;36mDataFrame.__getitem__\u001b[0;34m(self, key)\u001b[0m\n\u001b[1;32m   4100\u001b[0m \u001b[38;5;28;01mif\u001b[39;00m \u001b[38;5;28mself\u001b[39m\u001b[38;5;241m.\u001b[39mcolumns\u001b[38;5;241m.\u001b[39mnlevels \u001b[38;5;241m>\u001b[39m \u001b[38;5;241m1\u001b[39m:\n\u001b[1;32m   4101\u001b[0m     \u001b[38;5;28;01mreturn\u001b[39;00m \u001b[38;5;28mself\u001b[39m\u001b[38;5;241m.\u001b[39m_getitem_multilevel(key)\n\u001b[0;32m-> 4102\u001b[0m indexer \u001b[38;5;241m=\u001b[39m \u001b[38;5;28;43mself\u001b[39;49m\u001b[38;5;241;43m.\u001b[39;49m\u001b[43mcolumns\u001b[49m\u001b[38;5;241;43m.\u001b[39;49m\u001b[43mget_loc\u001b[49m\u001b[43m(\u001b[49m\u001b[43mkey\u001b[49m\u001b[43m)\u001b[49m\n\u001b[1;32m   4103\u001b[0m \u001b[38;5;28;01mif\u001b[39;00m is_integer(indexer):\n\u001b[1;32m   4104\u001b[0m     indexer \u001b[38;5;241m=\u001b[39m [indexer]\n",
      "File \u001b[0;32m~/NpyPandaNuevos/NpyPandaAnalisisFYNEKA/lib/python3.10/site-packages/pandas/core/indexes/base.py:3812\u001b[0m, in \u001b[0;36mIndex.get_loc\u001b[0;34m(self, key)\u001b[0m\n\u001b[1;32m   3807\u001b[0m     \u001b[38;5;28;01mif\u001b[39;00m \u001b[38;5;28misinstance\u001b[39m(casted_key, \u001b[38;5;28mslice\u001b[39m) \u001b[38;5;129;01mor\u001b[39;00m (\n\u001b[1;32m   3808\u001b[0m         \u001b[38;5;28misinstance\u001b[39m(casted_key, abc\u001b[38;5;241m.\u001b[39mIterable)\n\u001b[1;32m   3809\u001b[0m         \u001b[38;5;129;01mand\u001b[39;00m \u001b[38;5;28many\u001b[39m(\u001b[38;5;28misinstance\u001b[39m(x, \u001b[38;5;28mslice\u001b[39m) \u001b[38;5;28;01mfor\u001b[39;00m x \u001b[38;5;129;01min\u001b[39;00m casted_key)\n\u001b[1;32m   3810\u001b[0m     ):\n\u001b[1;32m   3811\u001b[0m         \u001b[38;5;28;01mraise\u001b[39;00m InvalidIndexError(key)\n\u001b[0;32m-> 3812\u001b[0m     \u001b[38;5;28;01mraise\u001b[39;00m \u001b[38;5;167;01mKeyError\u001b[39;00m(key) \u001b[38;5;28;01mfrom\u001b[39;00m \u001b[38;5;21;01merr\u001b[39;00m\n\u001b[1;32m   3813\u001b[0m \u001b[38;5;28;01mexcept\u001b[39;00m \u001b[38;5;167;01mTypeError\u001b[39;00m:\n\u001b[1;32m   3814\u001b[0m     \u001b[38;5;66;03m# If we have a listlike key, _check_indexing_error will raise\u001b[39;00m\n\u001b[1;32m   3815\u001b[0m     \u001b[38;5;66;03m#  InvalidIndexError. Otherwise we fall through and re-raise\u001b[39;00m\n\u001b[1;32m   3816\u001b[0m     \u001b[38;5;66;03m#  the TypeError.\u001b[39;00m\n\u001b[1;32m   3817\u001b[0m     \u001b[38;5;28mself\u001b[39m\u001b[38;5;241m.\u001b[39m_check_indexing_error(key)\n",
      "\u001b[0;31mKeyError\u001b[0m: 'InvoiceDate'"
     ]
    }
   ],
   "source": [
    "sales_data['YearMonth'] = sales_data['InvoiceDate'].dt.to_period('M')\n",
    "ventas_mensuales = sales_data.groupby('YearMonth')['Quantity'].sum()\n",
    "plt.figure(figsize=(12, 6))\n",
    "ventas_mensuales.plot(kind='bar', color='blue')\n",
    "plt.title('Ventas Mensuales')\n",
    "plt.xlabel('Fecha')\n",
    "plt.ylabel('Cantidad Total Vendida')\n",
    "plt.grid(True)\n",
    "plt.show()"
   ]
  },
  {
   "cell_type": "markdown",
   "metadata": {},
   "source": [
    "# Agrupar las ventas por país y calcular las ventas totales\n",
    "\n",
    "# Crear el gráfico de pie"
   ]
  },
  {
   "cell_type": "code",
   "execution_count": 77,
   "metadata": {},
   "outputs": [
    {
     "data": {
      "image/png": "[encoded data removed]",
      "text/plain": [
       "<Figure size 800x800 with 1 Axes>"
      ]
     },
     "metadata": {},
     "output_type": "display_data"
    }
   ],
   "source": [
    "\n",
    "ventas_por_pais = sales_data.groupby('Country')['Quantity'].sum().sort_values(ascending=False).head(5)\n",
    "\n",
    "plt.figure(figsize=(8, 8))\n",
    "ventas_por_pais.plot(kind='pie', autopct='%1.1f%%', startangle=140, colors=['#ff9999','#66b3ff','#99ff99','#ffcc99', '#c2c2f0'])\n",
    "plt.title('Proporción de Ventas por País (Top 10)')\n",
    "plt.ylabel('')\n",
    "plt.show()"
   ]
  },
  {
   "cell_type": "code",
   "execution_count": 68,
   "metadata": {},
   "outputs": [
    {
     "data": {
      "image/png": "[encoded data removed]",
      "text/plain": [
       "<Figure size 1000x600 with 1 Axes>"
      ]
     },
     "metadata": {},
     "output_type": "display_data"
    }
   ],
   "source": [
    "# Crear el histograma\n",
    "plt.figure(figsize=(10, 6))\n",
    "plt.hist(sales_data['Quantity'], bins=50, color='purple', edgecolor='black')\n",
    "plt.title('Distribución de Cantidades Vendidas')\n",
    "plt.xlabel('Cantidad Vendida')\n",
    "plt.ylabel('Frecuencia')\n",
    "plt.grid(True)"
   ]
  },
  {
   "cell_type": "markdown",
   "metadata": {},
   "source": [
    "# Manejo de Series Temporales en Pandas"
   ]
  },
  {
   "cell_type": "code",
   "execution_count": 69,
   "metadata": {},
   "outputs": [
    {
     "name": "stdout",
     "output_type": "stream",
     "text": [
      "             Timestamp  Value\n",
      "0  2024-07-22 10:00:00    100\n",
      "1  2024-07-22 11:00:00    150\n",
      "2  2024-07-22 12:00:00    200\n"
     ]
    }
   ],
   "source": [
    "data = {\n",
    "    'Timestamp': ['2024-07-22 10:00:00', '2024-07-22 11:00:00', '2024-07-22 12:00:00'],\n",
    "    'Value': [100, 150, 200]\n",
    "}\n",
    "df = pd.DataFrame(data)\n",
    "\n",
    "print(df)"
   ]
  },
  {
   "cell_type": "code",
   "execution_count": 70,
   "metadata": {},
   "outputs": [
    {
     "name": "stdout",
     "output_type": "stream",
     "text": [
      "                     Value\n",
      "Timestamp                 \n",
      "2024-07-22 10:00:00    100\n",
      "2024-07-22 11:00:00    150\n",
      "2024-07-22 12:00:00    200\n"
     ]
    }
   ],
   "source": [
    "# Comvirtiendo las columnas a tipo datatime\n",
    "df['Timestamp'] = pd.to_datetime(df['Timestamp'])\n",
    "\n",
    "# Establecer timestemp como indice \n",
    "df.set_index('Timestamp', inplace=True)\n",
    "print(df)"
   ]
  },
  {
   "cell_type": "code",
   "execution_count": 71,
   "metadata": {},
   "outputs": [
    {
     "name": "stdout",
     "output_type": "stream",
     "text": [
      "                    InvoiceNo StockCode                          Description  \\\n",
      "InvoiceDate                                                                    \n",
      "2010-12-01 08:26:00    536365    85123A   WHITE HANGING HEART T-LIGHT HOLDER   \n",
      "2010-12-01 08:26:00    536365     71053                  WHITE METAL LANTERN   \n",
      "2010-12-01 08:26:00    536365    84406B       CREAM CUPID HEARTS COAT HANGER   \n",
      "2010-12-01 08:26:00    536365    84029G  KNITTED UNION FLAG HOT WATER BOTTLE   \n",
      "2010-12-01 08:26:00    536365    84029E       RED WOOLLY HOTTIE WHITE HEART.   \n",
      "\n",
      "                     Quantity  UnitPrice  CustomerID         Country  \\\n",
      "InvoiceDate                                                            \n",
      "2010-12-01 08:26:00         6       2.55     17850.0  United Kingdom   \n",
      "2010-12-01 08:26:00         6       3.39     17850.0  United Kingdom   \n",
      "2010-12-01 08:26:00         8       2.75     17850.0  United Kingdom   \n",
      "2010-12-01 08:26:00         6       3.39     17850.0  United Kingdom   \n",
      "2010-12-01 08:26:00         6       3.39     17850.0  United Kingdom   \n",
      "\n",
      "                     TotalPrice  HighValue  DiscountedPrice PiceCategory  \\\n",
      "InvoiceDate                                                                \n",
      "2010-12-01 08:26:00       15.30      False            2.295       Medium   \n",
      "2010-12-01 08:26:00       20.34       True            3.051       Medium   \n",
      "2010-12-01 08:26:00       22.00       True            2.475       Medium   \n",
      "2010-12-01 08:26:00       20.34       True            3.051       Medium   \n",
      "2010-12-01 08:26:00       20.34       True            3.051       Medium   \n",
      "\n",
      "                                                      ProductInfo        Date  \\\n",
      "InvoiceDate                                                                     \n",
      "2010-12-01 08:26:00   85123A - WHITE HANGING HEART T-LIGHT HOLDER  2010-12-01   \n",
      "2010-12-01 08:26:00                   71053 - WHITE METAL LANTERN  2010-12-01   \n",
      "2010-12-01 08:26:00       84406B - CREAM CUPID HEARTS COAT HANGER  2010-12-01   \n",
      "2010-12-01 08:26:00  84029G - KNITTED UNION FLAG HOT WATER BOTTLE  2010-12-01   \n",
      "2010-12-01 08:26:00       84029E - RED WOOLLY HOTTIE WHITE HEART.  2010-12-01   \n",
      "\n",
      "                    YearMonth  \n",
      "InvoiceDate                    \n",
      "2010-12-01 08:26:00   2010-12  \n",
      "2010-12-01 08:26:00   2010-12  \n",
      "2010-12-01 08:26:00   2010-12  \n",
      "2010-12-01 08:26:00   2010-12  \n",
      "2010-12-01 08:26:00   2010-12  \n"
     ]
    }
   ],
   "source": [
    "sales_data['InvoiceDate'] = pd.to_datetime(sales_data['InvoiceDate'])\n",
    "\n",
    "# Establecer InvoceDate como indice \n",
    "sales_data.set_index('InvoiceDate', inplace=True)\n",
    "print(sales_data.head())"
   ]
  },
  {
   "cell_type": "code",
   "execution_count": 72,
   "metadata": {},
   "outputs": [
    {
     "name": "stderr",
     "output_type": "stream",
     "text": [
      "/tmp/ipykernel_32024/820755205.py:2: FutureWarning: 'M' is deprecated and will be removed in a future version, please use 'ME' instead.\n",
      "  monthly_sales = sales_data['Quantity'].resample('M').sum()\n"
     ]
    },
    {
     "name": "stdout",
     "output_type": "stream",
     "text": [
      "InvoiceDate\n",
      "2010-12-31    342228\n",
      "2011-01-31    308966\n",
      "2011-02-28    277989\n",
      "2011-03-31    351872\n",
      "2011-04-30    289098\n",
      "2011-05-31    380391\n",
      "2011-06-30    341623\n",
      "2011-07-31    391116\n",
      "2011-08-31    406199\n",
      "2011-09-30    549817\n",
      "2011-10-31    570532\n",
      "2011-11-30    740286\n",
      "2011-12-31    226333\n",
      "Freq: ME, Name: Quantity, dtype: int64\n"
     ]
    }
   ],
   "source": [
    "# Vetas por mes en cada una de las tiendas \n",
    "monthly_sales = sales_data['Quantity'].resample('M').sum()\n",
    "print(monthly_sales)"
   ]
  },
  {
   "cell_type": "code",
   "execution_count": 73,
   "metadata": {},
   "outputs": [
    {
     "ename": "SyntaxError",
     "evalue": "f-string: unmatched '(' (785229669.py, line 5)",
     "output_type": "error",
     "traceback": [
      "\u001b[0;36m  Cell \u001b[0;32mIn[73], line 5\u001b[0;36m\u001b[0m\n\u001b[0;31m    print(f'El mes con mayores ventas es {max_sales_monht.strtime('%B %Y')} con un total de {max_sales_value} unidades vendidas')\u001b[0m\n\u001b[0m                                                                   ^\u001b[0m\n\u001b[0;31mSyntaxError\u001b[0m\u001b[0;31m:\u001b[0m f-string: unmatched '('\n"
     ]
    }
   ],
   "source": [
    "# Estrayendo la serie de tiempo del mes completo que seria el formato de año al estraer los 4 dijitos \n",
    "max_sales_monht = monthly_sales.idxmax()\n",
    "max_sales_value = monthly_sales.max()\n",
    "\n",
    "print(f'El mes con mayores ventas es {max_sales_monht.strtime('%B %Y')} con un total de {max_sales_value} unidades vendidas')\n"
   ]
  },
  {
   "cell_type": "code",
   "execution_count": 74,
   "metadata": {},
   "outputs": [
    {
     "data": {
      "image/png": "[encoded data removed]",
      "text/plain": [
       "<Figure size 1500x1000 with 1 Axes>"
      ]
     },
     "metadata": {},
     "output_type": "display_data"
    }
   ],
   "source": [
    "#Graficando resultados \n",
    "plt.figure(figsize=(15,10))\n",
    "monthly_sales.plot(kind='line')\n",
    "plt.title('Ventas Mensuales')\n",
    "plt.xlabel('Mes')\n",
    "plt.ylabel('Cantodad Vendida ')\n",
    "plt.show()"
   ]
  }
 ],
 "metadata": {
  "kernelspec": {
   "display_name": "NpyPandaAnalisisFYNEKA",
   "language": "python",
   "name": "python3"
  },
  "language_info": {
   "codemirror_mode": {
    "name": "ipython",
    "version": 3
   },
   "file_extension": ".py",
   "mimetype": "text/x-python",
   "name": "python",
   "nbconvert_exporter": "python",
   "pygments_lexer": "ipython3",
   "version": "3.10.14"
  }
 },
 "nbformat": 4,
 "nbformat_minor": 2
}
