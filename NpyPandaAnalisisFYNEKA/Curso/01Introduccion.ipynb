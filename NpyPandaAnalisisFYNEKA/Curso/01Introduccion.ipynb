{
 "cells": [
  {
   "cell_type": "code",
   "execution_count": 1,
   "metadata": {},
   "outputs": [],
   "source": [
    "import numpy as np "
   ]
  },
  {
   "cell_type": "code",
   "execution_count": 2,
   "metadata": {},
   "outputs": [
    {
     "name": "stdout",
     "output_type": "stream",
     "text": [
      "<class 'numpy.ndarray'>\n",
      "84\n"
     ]
    }
   ],
   "source": [
    "escalar = np.array(84)\n",
    "print(type(escalar))\n",
    "print(escalar)"
   ]
  },
  {
   "cell_type": "markdown",
   "metadata": {},
   "source": [
    "Vectores Dimension uno "
   ]
  },
  {
   "cell_type": "code",
   "execution_count": 3,
   "metadata": {},
   "outputs": [
    {
     "name": "stdout",
     "output_type": "stream",
     "text": [
      "<class 'numpy.ndarray'>\n",
      "[30.  32.  12.  56.  78.  90.  43.  67.  89.  29.  12.  30.  76.  80.1]\n"
     ]
    }
   ],
   "source": [
    "vector = np.array([30,32,12,56,78,90,43,67,89,29,12,30,76,80,100])\n",
    "print(type(vector))\n",
    "print(vector)"
   ]
  },
  {
   "cell_type": "markdown",
   "metadata": {},
   "source": [
    "Matrices Mas de dos dimencioneds "
   ]
  },
  {
   "cell_type": "code",
   "execution_count": 4,
   "metadata": {},
   "outputs": [
    {
     "name": "stdout",
     "output_type": "stream",
     "text": [
      "[[32 45 67]\n",
      " [21 65 90]\n",
      " [53 65 38]]\n"
     ]
    }
   ],
   "source": [
    "matrix = np.array([[32,45,67],[21,65,90],[53,65,38]])\n",
    "print(matrix)"
   ]
  },
  {
   "cell_type": "markdown",
   "metadata": {},
   "source": [
    "tensor mas de cuatro dimenciones "
   ]
  },
  {
   "cell_type": "code",
   "execution_count": 5,
   "metadata": {},
   "outputs": [
    {
     "name": "stdout",
     "output_type": "stream",
     "text": [
      "[[[2 4 5 6]\n",
      "  [8 9 2 4]\n",
      "  [1 3 6 9]\n",
      "  [2 4 7 8]]]\n"
     ]
    }
   ],
   "source": [
    "tensor = np.array([[[2,4,5,6],[8,9,2,4],[1,3,6,9],[2,4,7,8]]])\n",
    "print(tensor)"
   ]
  },
  {
   "cell_type": "markdown",
   "metadata": {},
   "source": [
    "Creando rrangos con numpy"
   ]
  },
  {
   "cell_type": "code",
   "execution_count": 7,
   "metadata": {},
   "outputs": [
    {
     "name": "stdout",
     "output_type": "stream",
     "text": [
      "[  0   1   2   3   4   5   6   7   8   9  10  11  12  13  14  15  16  17\n",
      "  18  19  20  21  22  23  24  25  26  27  28  29  30  31  32  33  34  35\n",
      "  36  37  38  39  40  41  42  43  44  45  46  47  48  49  50  51  52  53\n",
      "  54  55  56  57  58  59  60  61  62  63  64  65  66  67  68  69  70  71\n",
      "  72  73  74  75  76  77  78  79  80  81  82  83  84  85  86  87  88  89\n",
      "  90  91  92  93  94  95  96  97  98  99 100]\n"
     ]
    }
   ],
   "source": [
    "array_arange = np.arange(101)\n",
    "print(array_arange)"
   ]
  },
  {
   "cell_type": "code",
   "execution_count": 8,
   "metadata": {},
   "outputs": [
    {
     "name": "stdout",
     "output_type": "stream",
     "text": [
      "[[1. 0. 0. 0. 0. 0. 0. 0. 0. 0.]\n",
      " [0. 1. 0. 0. 0. 0. 0. 0. 0. 0.]\n",
      " [0. 0. 1. 0. 0. 0. 0. 0. 0. 0.]\n",
      " [0. 0. 0. 1. 0. 0. 0. 0. 0. 0.]\n",
      " [0. 0. 0. 0. 1. 0. 0. 0. 0. 0.]\n",
      " [0. 0. 0. 0. 0. 1. 0. 0. 0. 0.]\n",
      " [0. 0. 0. 0. 0. 0. 1. 0. 0. 0.]\n",
      " [0. 0. 0. 0. 0. 0. 0. 1. 0. 0.]\n",
      " [0. 0. 0. 0. 0. 0. 0. 0. 1. 0.]\n",
      " [0. 0. 0. 0. 0. 0. 0. 0. 0. 1.]]\n"
     ]
    }
   ],
   "source": [
    "# Matrix identidad \n",
    "eye_matrix = np.eye(10)\n",
    "print(eye_matrix)"
   ]
  },
  {
   "cell_type": "code",
   "execution_count": 10,
   "metadata": {},
   "outputs": [
    {
     "name": "stdout",
     "output_type": "stream",
     "text": [
      "[[1 0 0 0 0 0 0 0 0]\n",
      " [0 2 0 0 0 0 0 0 0]\n",
      " [0 0 3 0 0 0 0 0 0]\n",
      " [0 0 0 4 0 0 0 0 0]\n",
      " [0 0 0 0 5 0 0 0 0]\n",
      " [0 0 0 0 0 6 0 0 0]\n",
      " [0 0 0 0 0 0 7 0 0]\n",
      " [0 0 0 0 0 0 0 8 0]\n",
      " [0 0 0 0 0 0 0 0 9]]\n"
     ]
    }
   ],
   "source": [
    "# Matrix Diagonal \n",
    "diag_matrix = np.diag([1,2,3,4,5,6,7,8,9])\n",
    "print(diag_matrix)"
   ]
  },
  {
   "cell_type": "code",
   "execution_count": 12,
   "metadata": {},
   "outputs": [
    {
     "name": "stdout",
     "output_type": "stream",
     "text": [
      "[[0.13854545 0.83850242 0.25393813 0.71384026 0.21138088 0.47052053]\n",
      " [0.37174494 0.43588634 0.40271895 0.02441231 0.07279389 0.87693113]\n",
      " [0.89275654 0.91407487 0.50506088 0.09998224 0.22421018 0.63433562]\n",
      " [0.8593493  0.52270897 0.97231024 0.33301954 0.57813138 0.91288019]]\n"
     ]
    }
   ],
   "source": [
    "#Usos de random con numpy\n",
    "random = np.random.random((4,6))\n",
    "print(random)"
   ]
  },
  {
   "cell_type": "code",
   "execution_count": 13,
   "metadata": {},
   "outputs": [
    {
     "name": "stdout",
     "output_type": "stream",
     "text": [
      "Escalar: 5, Dimensiones: 0\n",
      "Vector: [1 2 3], Dimensiones: 1, Forma: (3,)\n",
      "Matriz: [[1 2 3]\n",
      " [4 5 6]], Dimensiones: 2, Forma: (2, 3)\n",
      "Tensor: [[[1 2]\n",
      "  [3 4]]\n",
      "\n",
      " [[5 6]\n",
      "  [7 8]]], Dimensiones: 3, Forma: (2, 2, 2)\n",
      "Serie:\n",
      "0    1\n",
      "1    2\n",
      "2    3\n",
      "dtype: int64\n",
      "Forma: (3,)\n",
      "DataFrame:\n",
      "   A  B\n",
      "0  1  4\n",
      "1  2  5\n",
      "2  3  6\n",
      "Forma: (3, 2)\n"
     ]
    }
   ],
   "source": [
    "import numpy as np\n",
    "import pandas as pd\n",
    "\n",
    "# NumPy: Escalar, Vector, Matriz, Tensor\n",
    "escalar = np.array(5)\n",
    "vector = np.array([1, 2, 3])\n",
    "matriz = np.array([[1, 2, 3], [4, 5, 6]])\n",
    "tensor = np.array([[[1, 2], [3, 4]], [[5, 6], [7, 8]]])\n",
    "\n",
    "print(f\"Escalar: {escalar}, Dimensiones: {escalar.ndim}\")\n",
    "print(f\"Vector: {vector}, Dimensiones: {vector.ndim}, Forma: {vector.shape}\")\n",
    "print(f\"Matriz: {matriz}, Dimensiones: {matriz.ndim}, Forma: {matriz.shape}\")\n",
    "print(f\"Tensor: {tensor}, Dimensiones: {tensor.ndim}, Forma: {tensor.shape}\")\n",
    "\n",
    "# Pandas: Serie y DataFrame\n",
    "serie = pd.Series([1, 2, 3])\n",
    "dataframe = pd.DataFrame({\n",
    "    'A': [1, 2, 3],\n",
    "    'B': [4, 5, 6]\n",
    "})\n",
    "\n",
    "print(f\"Serie:\\n{serie}\\nForma: {serie.shape}\")\n",
    "print(f\"DataFrame:\\n{dataframe}\\nForma: {dataframe.shape}\")\n"
   ]
  }
 ],
 "metadata": {
  "kernelspec": {
   "display_name": "NpyPandaAnalisisFYNEKA",
   "language": "python",
   "name": "python3"
  },
  "language_info": {
   "codemirror_mode": {
    "name": "ipython",
    "version": 3
   },
   "file_extension": ".py",
   "mimetype": "text/x-python",
   "name": "python",
   "nbconvert_exporter": "python",
   "pygments_lexer": "ipython3",
   "version": "3.10.14"
  }
 },
 "nbformat": 4,
 "nbformat_minor": 2
}
