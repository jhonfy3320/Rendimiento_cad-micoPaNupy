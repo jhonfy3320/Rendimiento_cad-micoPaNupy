{
 "cells": [
  {
   "cell_type": "markdown",
   "metadata": {},
   "source": []
  },
  {
   "cell_type": "code",
   "execution_count": 1,
   "metadata": {},
   "outputs": [],
   "source": [
    "import numpy as np \n",
    "import pandas as pd "
   ]
  },
  {
   "cell_type": "markdown",
   "metadata": {},
   "source": [
    "Coleciones de arrays "
   ]
  },
  {
   "cell_type": "code",
   "execution_count": 6,
   "metadata": {},
   "outputs": [
    {
     "name": "stdout",
     "output_type": "stream",
     "text": [
      "20\n",
      "100\n",
      "[20 30 40 50]\n",
      "[20 30 40 50 60 70]\n",
      "[80 90]\n",
      "[]\n"
     ]
    }
   ],
   "source": [
    "array = np.array([10,20,30,40,50,60,70,80,90,100])\n",
    "print(array[1])\n",
    "print(array[-1])\n",
    "print(array[1:5])\n",
    "print(array[1:7])\n",
    "print(array[7:-1])\n",
    "print(array[-1:-7])"
   ]
  },
  {
   "cell_type": "markdown",
   "metadata": {},
   "source": [
    "Indexación Booleana"
   ]
  },
  {
   "cell_type": "code",
   "execution_count": 8,
   "metadata": {},
   "outputs": [
    {
     "name": "stdout",
     "output_type": "stream",
     "text": [
      "<class 'numpy.ndarray'>\n",
      "[False False False  True  True  True  True  True  True  True]\n",
      "[ 10  20  30  40  50  60  70  80  90 100]\n"
     ]
    }
   ],
   "source": [
    "array = np.array([10,20,30,40,50,60,70,80,90,100])\n",
    "bool_index = array > 35\n",
    "print(type(bool_index))\n",
    "print(bool_index)\n",
    "print(array)"
   ]
  },
  {
   "cell_type": "markdown",
   "metadata": {},
   "source": [
    "Array de mulples dimenciones \n"
   ]
  },
  {
   "cell_type": "code",
   "execution_count": 12,
   "metadata": {},
   "outputs": [
    {
     "name": "stdout",
     "output_type": "stream",
     "text": [
      "[ 30  50  70  30 100  10  40  40  20]\n"
     ]
    }
   ],
   "source": [
    "index = [2,4,6,2,9,0,3,3,1]\n",
    "print(array[index])"
   ]
  },
  {
   "cell_type": "code",
   "execution_count": 18,
   "metadata": {},
   "outputs": [
    {
     "name": "stdout",
     "output_type": "stream",
     "text": [
      "[[56 75 33 33]\n",
      " [78 26 24  3]\n",
      " [55 93 33 80]\n",
      " [34 37 81  6]]\n",
      "81\n"
     ]
    }
   ],
   "source": [
    "# Numeros aleatoruios \n",
    "array = np.random.randint(1,100, size=(4,4))\n",
    "print(array)\n",
    "print(array[3,2])"
   ]
  },
  {
   "cell_type": "code",
   "execution_count": 19,
   "metadata": {},
   "outputs": [
    {
     "name": "stdout",
     "output_type": "stream",
     "text": [
      "[[56 75 33 33]]\n"
     ]
    }
   ],
   "source": [
    "print(array[:2:3])"
   ]
  },
  {
   "cell_type": "markdown",
   "metadata": {},
   "source": [
    "## Resumen\n",
    "- Indexación Básica: Acceso a elementos individuales con índices enteros.\n",
    "- Indexación con Listas y Booleana: Selección de múltiples elementos utilizando listas de índices o máscaras booleanas.\n",
    "- Slicing: Selección de subarrays con notación de dos puntos, incluyendo pasos.\n",
    "- Indexación en Arrays Multidimensionales: Aplicación de slicing y selección en cada dimensión.\n",
    "- Indexación Avanzada: Selección de elementos arbitrarios utilizando arrays de índices y combinaciones de métodos."
   ]
  }
 ],
 "metadata": {
  "kernelspec": {
   "display_name": "NpyPandaAnalisisFYNEKA",
   "language": "python",
   "name": "python3"
  },
  "language_info": {
   "codemirror_mode": {
    "name": "ipython",
    "version": 3
   },
   "file_extension": ".py",
   "mimetype": "text/x-python",
   "name": "python",
   "nbconvert_exporter": "python",
   "pygments_lexer": "ipython3",
   "version": "3.10.14"
  }
 },
 "nbformat": 4,
 "nbformat_minor": 2
}
