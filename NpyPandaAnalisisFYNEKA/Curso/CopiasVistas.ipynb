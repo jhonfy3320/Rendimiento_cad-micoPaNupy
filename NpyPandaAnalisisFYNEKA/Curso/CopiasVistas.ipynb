{
 "cells": [
  {
   "cell_type": "markdown",
   "metadata": {},
   "source": [
    "## Elementos Unicos"
   ]
  },
  {
   "cell_type": "markdown",
   "metadata": {},
   "source": [
    "### Copias y Vistas\n",
    "- En NumPy, una copia es una réplica independiente del array original, mientras que una vista es una referencia al mismo bloque de memoria. Cambios en una vista se reflejarán en el array original, mientras que los cambios en una copia no afectarán al array original."
   ]
  },
  {
   "cell_type": "code",
   "execution_count": 6,
   "metadata": {},
   "outputs": [],
   "source": [
    "import numpy as np\n",
    "import pandas as pd"
   ]
  },
  {
   "cell_type": "code",
   "execution_count": 7,
   "metadata": {},
   "outputs": [
    {
     "name": "stdout",
     "output_type": "stream",
     "text": [
      "['bueno' 'excelente' 'malo' 'maloexcelente']\n"
     ]
    }
   ],
   "source": [
    "survey_responses = np.array(['bueno', 'excelente', 'malo',\n",
    "                            'bueno', 'malo', 'excelente',\n",
    "                            'bueno', 'bueno', 'malo'\n",
    "                            'excelente', 'bueno', 'excelente', \n",
    "                            'malo', 'malo', 'excelente',\n",
    "                            'bueno', 'malo', 'excelente',\n",
    "                            'bueno', 'bueno', 'malo',\n",
    "                            'excelente'])\n",
    "\n",
    "print(np.unique(survey_responses))"
   ]
  },
  {
   "cell_type": "code",
   "execution_count": 8,
   "metadata": {},
   "outputs": [
    {
     "name": "stdout",
     "output_type": "stream",
     "text": [
      "['bueno' 'excelente' 'malo' 'maloexcelente']\n",
      "[8 6 6 1]\n"
     ]
    }
   ],
   "source": [
    "unique_elements, counts = np.unique(survey_responses, return_counts=True)\n",
    "print(unique_elements)\n",
    "print(counts)"
   ]
  },
  {
   "cell_type": "markdown",
   "metadata": {},
   "source": [
    "Modificando arrays "
   ]
  },
  {
   "cell_type": "code",
   "execution_count": 24,
   "metadata": {},
   "outputs": [
    {
     "name": "stdout",
     "output_type": "stream",
     "text": [
      "[  0   1   2   3   4   5   6   7   8   9  10  11  12  13  14  15  16  17\n",
      "  18  19  20  21  22  23  24  25  26  27  28  29  30  31  32  33  34  35\n",
      "  36  37  38  39  40  41  42  43  44  45  46  47  48  49  50  51  52  53\n",
      "  54  55  56  57  58  59  60  61  62  63  64  65  66  67  68  69  70  71\n",
      "  72  73  74  75  76  77  78  79  80  81  82  83  84  85  86  87  88  89\n",
      "  90  91  92  93  94  95  96  97  98  99 100]\n",
      "[10 11 12 13 14 15 16 17 18 19]\n",
      "[  0 101 121   3   4   5   6   7   8   9  10  11  12  13  14  15  16  17\n",
      "  18  19  20  21  22  23  24  25  26  27  28  29  30  31  32  33  34  35\n",
      "  36  37  38  39  40  41  42  43  44  45  46  47  48  49  50  51  52  53\n",
      "  54  55  56  57  58  59  60  61  62  63  64  65  66  67  68  69  70  71\n",
      "  72  73  74  75  76  77  78  79  80  81  82  83  84  85  86  87  88  89\n",
      "  90  91  92  93  94  95  96  97  98  99 100]\n",
      "[10 11 12 13 14 15 16 17 18 19]\n"
     ]
    }
   ],
   "source": [
    "array_x = np.arange(101)\n",
    "view_y = array_x[10:20]\n",
    "print(array_x)\n",
    "print(view_y)\n",
    "array_x[1:3] = [101,121]\n",
    "print(array_x)\n",
    "print(view_y)"
   ]
  },
  {
   "cell_type": "code",
   "execution_count": 26,
   "metadata": {},
   "outputs": [
    {
     "name": "stdout",
     "output_type": "stream",
     "text": [
      "[  0   1   2   3   4   5   6   7   8   9  10  11  12  13  14  15  16  17\n",
      "  18  19  20  21  22  23  24  25  26  27  28  29  30  31  32  33  34  35\n",
      "  36  37  38  39  40  41  42  43  44  45  46  47  48  49  50  51  52  53\n",
      "  54  55  56  57  58  59  60  61  62  63  64  65  66  67  68  69  70  71\n",
      "  72  73  74  75  76  77  78  79  80  81  82  83  84  85  86  87  88  89\n",
      "  90  91  92  93  94  95  96  97  98  99 100]\n",
      "[10 20]\n",
      "[  0 101 121   3   4   5   6   7   8   9  10  11  12  13  14  15  16  17\n",
      "  18  19  20  21  22  23  24  25  26  27  28  29  30  31  32  33  34  35\n",
      "  36  37  38  39  40  41  42  43  44  45  46  47  48  49  50  51  52  53\n",
      "  54  55  56  57  58  59  60  61  62  63  64  65  66  67  68  69  70  71\n",
      "  72  73  74  75  76  77  78  79  80  81  82  83  84  85  86  87  88  89\n",
      "  90  91  92  93  94  95  96  97  98  99 100]\n",
      "[10 20]\n"
     ]
    }
   ],
   "source": [
    "array_x = np.arange(101)\n",
    "copy_x = array_x[[10,20]]\n",
    "print(array_x)\n",
    "print(copy_x)\n",
    "array_x[1:3] = [101,121]\n",
    "print(array_x)\n",
    "print(copy_x)"
   ]
  },
  {
   "cell_type": "code",
   "execution_count": 20,
   "metadata": {},
   "outputs": [
    {
     "name": "stdout",
     "output_type": "stream",
     "text": [
      "[0 1 2 3 4 5 6 7 8 9]\n",
      "[1 2]\n",
      "[ 0 10 11  3  4  5  6  7  8  9]\n",
      "[10 11]\n"
     ]
    }
   ],
   "source": [
    "array_x = np.arange(10)\n",
    "view_y = array_x[1:3]\n",
    "print(array_x)\n",
    "print(view_y)\n",
    "array_x[1:3] = [10,11]\n",
    "print(array_x)\n",
    "print(view_y)"
   ]
  },
  {
   "cell_type": "code",
   "execution_count": 19,
   "metadata": {},
   "outputs": [
    {
     "name": "stdout",
     "output_type": "stream",
     "text": [
      "Array original: [ 0  1  2  3  4  5  6  7  8  9 10 11 12 13 14 15 16 17 18 19 20 21 22 23\n",
      " 24 25 26 27 28 29 30 31 32 33 34 35 36 37 38 39 40 41 42 43 44 45 46 47\n",
      " 48 49]\n",
      "Vista del array original: [10 11 12 13 14 15 16 17 18 19 20 21 22 23 24 25 26 27 28 29]\n",
      "Array original después de la asignación: [  0   1   2   3   4   5   6   7   8   9 101 102 103 104 105 106 107 108\n",
      " 109 110 111 112 113 114 115 116 117 118 119 120  30  31  32  33  34  35\n",
      "  36  37  38  39  40  41  42  43  44  45  46  47  48  49]\n",
      "Vista del array después de la asignación: [101 102 103 104 105 106 107 108 109 110 111 112 113 114 115 116 117 118\n",
      " 119 120]\n",
      "Copia del array original: [101 102 103 104 105 106 107 108 109 110 111 112 113 114 115 116 117 118\n",
      " 119 120]\n",
      "Copia modificada: [999 102 103 104 105 106 107 108 109 110 111 112 113 114 115 116 117 118\n",
      " 119 120]\n",
      "Array original después de modificar la copia: [  0   1   2   3   4   5   6   7   8   9 101 102 103 104 105 106 107 108\n",
      " 109 110 111 112 113 114 115 116 117 118 119 120  30  31  32  33  34  35\n",
      "  36  37  38  39  40  41  42  43  44  45  46  47  48  49]\n",
      "Vista del array después de modificar la copia: [101 102 103 104 105 106 107 108 109 110 111 112 113 114 115 116 117 118\n",
      " 119 120]\n"
     ]
    }
   ],
   "source": [
    "import numpy as np\n",
    "\n",
    "# Crear un array original\n",
    "array_x = np.arange(50)\n",
    "print(\"Array original:\", array_x)\n",
    "\n",
    "# Crear una vista del array original\n",
    "view_y = array_x[10:30]\n",
    "print(\"Vista del array original:\", view_y)\n",
    "\n",
    "# Asignar un array de tamaño compatible (20 elementos) a la sección [10:30] del array original\n",
    "array_x[10:30] = np.arange(101, 121)\n",
    "print(\"Array original después de la asignación:\", array_x)\n",
    "print(\"Vista del array después de la asignación:\", view_y)\n",
    "\n",
    "# Crear una copia del array original\n",
    "copy_z = array_x[10:30].copy()\n",
    "print(\"Copia del array original:\", copy_z)\n",
    "\n",
    "# Modificar la copia\n",
    "copy_z[0] = 999\n",
    "print(\"Copia modificada:\", copy_z)\n",
    "print(\"Array original después de modificar la copia:\", array_x)\n",
    "print(\"Vista del array después de modificar la copia:\", view_y)\n"
   ]
  }
 ],
 "metadata": {
  "kernelspec": {
   "display_name": "NpyPandaAnalisisFYNEKA",
   "language": "python",
   "name": "python3"
  },
  "language_info": {
   "codemirror_mode": {
    "name": "ipython",
    "version": 3
   },
   "file_extension": ".py",
   "mimetype": "text/x-python",
   "name": "python",
   "nbconvert_exporter": "python",
   "pygments_lexer": "ipython3",
   "version": "3.10.14"
  }
 },
 "nbformat": 4,
 "nbformat_minor": 2
}
