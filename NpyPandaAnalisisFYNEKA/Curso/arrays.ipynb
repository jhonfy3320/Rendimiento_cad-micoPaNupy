{
 "cells": [
  {
   "cell_type": "code",
   "execution_count": 1,
   "metadata": {},
   "outputs": [],
   "source": [
    "import numpy as np\n",
    "import pandas as pd "
   ]
  },
  {
   "cell_type": "code",
   "execution_count": 3,
   "metadata": {},
   "outputs": [
    {
     "name": "stdout",
     "output_type": "stream",
     "text": [
      "2\n",
      "(3, 4)\n",
      "int64\n",
      "[[3 4 5 7]\n",
      " [1 2 3 4]\n",
      " [7 8 9 0]]\n"
     ]
    }
   ],
   "source": [
    "array = np.array([[3,4,5,7], [1,2,3,4],[7,8,9,0]])\n",
    "print(array.ndim)\n",
    "print(array.shape)\n",
    "print(array.dtype)\n",
    "print(array)"
   ]
  },
  {
   "cell_type": "code",
   "execution_count": 5,
   "metadata": {},
   "outputs": [
    {
     "name": "stdout",
     "output_type": "stream",
     "text": [
      "3\n"
     ]
    }
   ],
   "source": [
    "z = np.array(3, dtype=np.uint8)\n",
    "print(z)"
   ]
  },
  {
   "cell_type": "code",
   "execution_count": 6,
   "metadata": {},
   "outputs": [
    {
     "name": "stdout",
     "output_type": "stream",
     "text": [
      "[1. 2. 3. 4.]\n"
     ]
    }
   ],
   "source": [
    "double_array = np.array([1,2,3,4], dtype='d')\n",
    "print(double_array)"
   ]
  },
  {
   "cell_type": "code",
   "execution_count": 7,
   "metadata": {},
   "outputs": [
    {
     "name": "stdout",
     "output_type": "stream",
     "text": [
      "3.0\n"
     ]
    }
   ],
   "source": [
    "z = z.astype(np.float64)\n",
    "print(z)"
   ]
  },
  {
   "cell_type": "code",
   "execution_count": 9,
   "metadata": {},
   "outputs": [
    {
     "name": "stdout",
     "output_type": "stream",
     "text": [
      "[[1 2 3 4]\n",
      " [5 6 7 8]\n",
      " [9 0 1 2]]\n",
      "48\n"
     ]
    }
   ],
   "source": [
    "array = np.array([[1,2,3,4],[5,6,7,8],[9,0,1,2]])\n",
    "add = np.sum(array)\n",
    "print(array)\n",
    "print(add)"
   ]
  },
  {
   "cell_type": "code",
   "execution_count": 10,
   "metadata": {},
   "outputs": [],
   "source": [
    "array = np.array([[3,4,5,7], [1,2,3,4],[7,8,9,0]])"
   ]
  },
  {
   "cell_type": "code",
   "execution_count": 11,
   "metadata": {},
   "outputs": [
    {
     "name": "stdout",
     "output_type": "stream",
     "text": [
      "4.416666666666667\n"
     ]
    }
   ],
   "source": [
    "mean = np.mean(array)\n",
    "print(mean)"
   ]
  },
  {
   "cell_type": "code",
   "execution_count": 12,
   "metadata": {},
   "outputs": [
    {
     "name": "stdout",
     "output_type": "stream",
     "text": [
      "2.722080495176846\n"
     ]
    }
   ],
   "source": [
    "std = np.std(array)\n",
    "print(std)"
   ]
  },
  {
   "cell_type": "code",
   "execution_count": 13,
   "metadata": {},
   "outputs": [
    {
     "name": "stdout",
     "output_type": "stream",
     "text": [
      "[  0 255] uint8\n",
      "[-128  127] int8\n",
      "[1. 2. 3.] float64\n",
      "[1.+2.j 3.+4.j] complex128\n",
      "[ True False  True] bool\n",
      "['a' 'bc' 'def'] <U3\n",
      "[1 'a' 3.0] object\n"
     ]
    }
   ],
   "source": [
    "import numpy as np\n",
    "\n",
    "# Enteros sin signo\n",
    "array_uint8 = np.array([0, 255], dtype=np.uint8)\n",
    "print(array_uint8, array_uint8.dtype)\n",
    "\n",
    "# Enteros con signo\n",
    "array_int8 = np.array([-128, 127], dtype=np.int8)\n",
    "print(array_int8, array_int8.dtype)\n",
    "\n",
    "# Flotantes\n",
    "array_float64 = np.array([1.0, 2.0, 3.0], dtype=np.float64)\n",
    "print(array_float64, array_float64.dtype)\n",
    "\n",
    "# Complejos\n",
    "array_complex128 = np.array([1+2j, 3+4j], dtype=np.complex128)\n",
    "print(array_complex128, array_complex128.dtype)\n",
    "\n",
    "# Booleanos\n",
    "array_bool = np.array([True, False, True], dtype=np.bool_)\n",
    "print(array_bool, array_bool.dtype)\n",
    "\n",
    "# Cadenas de caracteres\n",
    "array_str = np.array(['a', 'bc', 'def'], dtype='<U3')\n",
    "print(array_str, array_str.dtype)\n",
    "\n",
    "# Objetos\n",
    "array_obj = np.array([1, \"a\", 3.0], dtype=object)\n",
    "print(array_obj, array_obj.dtype)\n"
   ]
  },
  {
   "cell_type": "markdown",
   "metadata": {},
   "source": [
    "## Consideraciones de Uso\n",
    "- Memoria: \n",
    "Los tipos de datos más pequeños (uint8, int8, float16) consumen menos memoria, pero pueden no ser adecuados para todas las aplicaciones debido a sus limitaciones en el rango y la precisión.\n",
    "- Precisión: \n",
    "Para aplicaciones científicas y de ingeniería, se suelen usar tipos de datos de mayor precisión como float64 y complex128.\n",
    "- Compatibilidad: \n",
    "Asegúrate de elegir el tipo de dato adecuado para la compatibilidad con otras librerías y herramientas que utilices.\n",
    "Seleccionar el tipo de dato adecuado es crucial para optimizar el rendimiento y la eficiencia de tus operaciones en NumPy."
   ]
  }
 ],
 "metadata": {
  "kernelspec": {
   "display_name": "NpyPandaAnalisisFYNEKA",
   "language": "python",
   "name": "python3"
  },
  "language_info": {
   "codemirror_mode": {
    "name": "ipython",
    "version": 3
   },
   "file_extension": ".py",
   "mimetype": "text/x-python",
   "name": "python",
   "nbconvert_exporter": "python",
   "pygments_lexer": "ipython3",
   "version": "3.10.14"
  }
 },
 "nbformat": 4,
 "nbformat_minor": 2
}
