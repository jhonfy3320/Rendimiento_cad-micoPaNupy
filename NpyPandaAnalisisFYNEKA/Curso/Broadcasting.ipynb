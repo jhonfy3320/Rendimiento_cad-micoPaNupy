{
 "cells": [
  {
   "cell_type": "markdown",
   "metadata": {},
   "source": [
    "- El broadcasting y las operaciones lógicas en NumPy son características muy útiles que permiten realizar operaciones eficientes y expresivas en arrays. A continuación, te explico ambos conceptos y cómo usarlos con ejemplos.\n",
    "\n",
    "# Broadcasting en NumPy\n",
    "El broadcasting es una técnica que permite realizar operaciones aritméticas en arrays de diferentes formas (shapes). NumPy automáticamente \"extiende\" el array más pequeño para que coincida con la forma del array más grande, sin hacer copias de datos.\n"
   ]
  },
  {
   "cell_type": "code",
   "execution_count": 2,
   "metadata": {},
   "outputs": [],
   "source": [
    "import numpy as np \n",
    "import pandas as pd"
   ]
  },
  {
   "cell_type": "markdown",
   "metadata": {},
   "source": [
    "Aplicando descuentos a congunto de precios en el array "
   ]
  },
  {
   "cell_type": "code",
   "execution_count": 3,
   "metadata": {},
   "outputs": [
    {
     "name": "stdout",
     "output_type": "stream",
     "text": [
      "[100 200 300 400 500 600]\n",
      "[ 90. 180. 270. 360. 450. 540.]\n"
     ]
    }
   ],
   "source": [
    "prices = np.array([100,200,300,400,500,600])\n",
    "discount = np.array([0.9])\n",
    "discount_prices = prices * discount\n",
    "print(prices)\n",
    "print(discount_prices)"
   ]
  },
  {
   "cell_type": "code",
   "execution_count": null,
   "metadata": {},
   "outputs": [],
   "source": []
  },
  {
   "cell_type": "code",
   "execution_count": 4,
   "metadata": {},
   "outputs": [
    {
     "name": "stdout",
     "output_type": "stream",
     "text": [
      "[[1488  767 1259  879 1728 1859]\n",
      " [ 668 1144  323 1455 1093 1047]\n",
      " [1081  544 1738  153 1894  822]\n",
      " [ 100 1510  234  956  147 1604]\n",
      " [ 190 1047 1104  869  661 1079]\n",
      " [1136  102  834 1925 1553 1103]]\n",
      "[[1498  787 1289  919 1778 1919]\n",
      " [ 678 1164  353 1495 1143 1107]\n",
      " [1091  564 1768  193 1944  882]\n",
      " [ 110 1530  264  996  197 1664]\n",
      " [ 200 1067 1134  909  711 1139]\n",
      " [1146  122  864 1965 1603 1163]]\n"
     ]
    }
   ],
   "source": [
    "prices = np.random.randint(100,2000, size=(6,6))\n",
    "discount = np.array([10,20,30,40,50,60])\n",
    "discount_prices = prices + discount\n",
    "print(prices)\n",
    "print(discount_prices)"
   ]
  },
  {
   "cell_type": "code",
   "execution_count": 5,
   "metadata": {},
   "outputs": [
    {
     "name": "stdout",
     "output_type": "stream",
     "text": [
      "[[1986 1258 1893  903  271 1450]\n",
      " [1559  215 1015  920  918  839]\n",
      " [ 857  626  837  528 1248 1726]\n",
      " [1565 1735 1217  772 1903 1481]\n",
      " [1832  193 1180 1564 1934  119]\n",
      " [ 757 1583 1482  904  217 1268]]\n",
      "[[ 19860  25160  56790  36120  13550  87000]\n",
      " [ 15590   4300  30450  36800  45900  50340]\n",
      " [  8570  12520  25110  21120  62400 103560]\n",
      " [ 15650  34700  36510  30880  95150  88860]\n",
      " [ 18320   3860  35400  62560  96700   7140]\n",
      " [  7570  31660  44460  36160  10850  76080]]\n"
     ]
    }
   ],
   "source": [
    "prices = np.random.randint(100,2000, size=(6,6))\n",
    "discount = np.array([10,20,30,40,50,60])\n",
    "discount_prices = prices * discount\n",
    "print(prices)\n",
    "print(discount_prices)"
   ]
  },
  {
   "cell_type": "markdown",
   "metadata": {},
   "source": [
    "Operaciones logicas con  numpy"
   ]
  },
  {
   "cell_type": "code",
   "execution_count": 6,
   "metadata": {},
   "outputs": [
    {
     "name": "stdout",
     "output_type": "stream",
     "text": [
      "True\n",
      "False\n"
     ]
    }
   ],
   "source": [
    "array = np.array([1,2,3,4,5,6,7,8,9])\n",
    "print(np.all(array > 0))\n",
    "array = np.array([1,2,3,4,5,6,7,8,9])\n",
    "print(np.all(array < 0))"
   ]
  },
  {
   "cell_type": "code",
   "execution_count": 7,
   "metadata": {},
   "outputs": [
    {
     "name": "stdout",
     "output_type": "stream",
     "text": [
      "True\n",
      "False\n",
      "False\n",
      "True\n"
     ]
    }
   ],
   "source": [
    "#Trabajando con el metodo any\n",
    "print(np.any(array > 4))\n",
    "print(np.any(array > 9))\n",
    "print(np.any(array > 11))\n",
    "print(np.any(array > 0))"
   ]
  },
  {
   "cell_type": "code",
   "execution_count": 8,
   "metadata": {},
   "outputs": [
    {
     "name": "stdout",
     "output_type": "stream",
     "text": [
      "[ 1  2  3  4  5  6  7  8  9 10]\n",
      "[11, 12, 13, 14, 15, 16, 17, 18, 19, 20]\n",
      "[ 1  2  3  4  5  6  7  8  9 10 11 12 13 14 15 16 17 18 19 20]\n"
     ]
    }
   ],
   "source": [
    "#concatenaciones de arrays \n",
    "array_a =  np.array([1,2,3,4,5,6,7,8,9,10])\n",
    "array_b = ([11,12,13,14,15,16,17,18,19,20])\n",
    "concatenate = np.concatenate((array_a, array_b))\n",
    "print(array_a)\n",
    "print(array_b)\n",
    "print(concatenate)"
   ]
  },
  {
   "cell_type": "code",
   "execution_count": 9,
   "metadata": {},
   "outputs": [
    {
     "name": "stdout",
     "output_type": "stream",
     "text": [
      "[ 1  2  3  4  5  6  7  8  9 10]\n",
      "[11, 12, 13, 14, 15, 16, 17, 18, 19, 20]\n",
      "[ 1  2  3  4  5  6  7  8  9 10  1  2  3  4  5  6  7  8  9 10]\n",
      "[ 1  2  3  4  5  6  7  8  9 10 11 12 13 14 15 16 17 18 19 20]\n"
     ]
    }
   ],
   "source": [
    "#concatenaciones de arrays \n",
    "array_a =  np.array([1,2,3,4,5,6,7,8,9,10])\n",
    "array_b = ([11,12,13,14,15,16,17,18,19,20])\n",
    "concatenate_a = np.concatenate((array_a, array_a))\n",
    "concatenate_b = np.concatenate((array_a, array_b))\n",
    "print(array_a)\n",
    "print(array_b)\n",
    "print(concatenate_a)\n",
    "print(concatenate_b)"
   ]
  },
  {
   "cell_type": "code",
   "execution_count": 11,
   "metadata": {},
   "outputs": [
    {
     "name": "stdout",
     "output_type": "stream",
     "text": [
      "[[ 1  2  3  4  5  6  7  8  9 10]\n",
      " [11 12 13 14 15 16 17 18 19 20]]\n"
     ]
    }
   ],
   "source": [
    "#staquiando vertical y orizantalmente \n",
    "stacked_v = np.vstack((array_a, array_b))\n",
    "print(stacked_v)"
   ]
  },
  {
   "cell_type": "code",
   "execution_count": 12,
   "metadata": {},
   "outputs": [
    {
     "name": "stdout",
     "output_type": "stream",
     "text": [
      "[ 1  2  3  4  5  6  7  8  9 10 11 12 13 14 15 16 17 18 19 20]\n"
     ]
    }
   ],
   "source": [
    "#staquiando vertical y orizantalmente \n",
    "stacked_h = np.hstack((array_a, array_b))\n",
    "print(stacked_h)"
   ]
  },
  {
   "cell_type": "code",
   "execution_count": 13,
   "metadata": {},
   "outputs": [
    {
     "name": "stdout",
     "output_type": "stream",
     "text": [
      "[ 1  2  3  4  5  6  7  8  9 10 11 12 13 14 15 16 17 18 19 20 21 22 23 24\n",
      " 25 26 27 28 29 30 31 32 33 34 35 36 37 38 39 40 41 42 43 44 45 46 47 48\n",
      " 49 50 51 52 53 54 55 56 57 58 59 60 61 62 63 64 65 66 67 68 69 70 71 72\n",
      " 73 74 75 76 77 78 79 80 81 82 83 84 85 86 87 88 89 90 91 92 93 94 95 96\n",
      " 97 98 99]\n",
      "[array([ 1,  2,  3,  4,  5,  6,  7,  8,  9, 10, 11, 12, 13, 14, 15, 16, 17,\n",
      "       18, 19, 20, 21, 22, 23, 24, 25, 26, 27, 28, 29, 30, 31, 32, 33]), array([34, 35, 36, 37, 38, 39, 40, 41, 42, 43, 44, 45, 46, 47, 48, 49, 50,\n",
      "       51, 52, 53, 54, 55, 56, 57, 58, 59, 60, 61, 62, 63, 64, 65, 66]), array([67, 68, 69, 70, 71, 72, 73, 74, 75, 76, 77, 78, 79, 80, 81, 82, 83,\n",
      "       84, 85, 86, 87, 88, 89, 90, 91, 92, 93, 94, 95, 96, 97, 98, 99])]\n"
     ]
    }
   ],
   "source": [
    "# Dividiendo rangos de arrays con split\n",
    "array_c = np.arange(1,100)\n",
    "split_array = np.split(array_c,3)\n",
    "print(array_c)\n",
    "print(split_array)"
   ]
  }
 ],
 "metadata": {
  "kernelspec": {
   "display_name": "NpyPandaAnalisisFYNEKA",
   "language": "python",
   "name": "python3"
  },
  "language_info": {
   "codemirror_mode": {
    "name": "ipython",
    "version": 3
   },
   "file_extension": ".py",
   "mimetype": "text/x-python",
   "name": "python",
   "nbconvert_exporter": "python",
   "pygments_lexer": "ipython3",
   "version": "3.10.14"
  }
 },
 "nbformat": 4,
 "nbformat_minor": 2
}
