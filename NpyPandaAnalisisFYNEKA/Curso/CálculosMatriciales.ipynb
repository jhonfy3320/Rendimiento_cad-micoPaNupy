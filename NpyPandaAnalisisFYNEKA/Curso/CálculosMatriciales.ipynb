{
 "cells": [
  {
   "cell_type": "code",
   "execution_count": 1,
   "metadata": {},
   "outputs": [],
   "source": [
    "import numpy as np \n",
    "import pandas as pd"
   ]
  },
  {
   "cell_type": "code",
   "execution_count": 2,
   "metadata": {},
   "outputs": [
    {
     "name": "stdout",
     "output_type": "stream",
     "text": [
      "[[1 2 3 4]\n",
      " [5 6 7 8]]\n",
      "[[ 9 10 11 12]\n",
      " [12 13 14 15]]\n",
      "[[10 12 14 16]\n",
      " [17 19 21 23]]\n"
     ]
    }
   ],
   "source": [
    "A = np.array([[1,2,3,4],[5,6,7,8]])\n",
    "B = np.array([[9,10,11,12],[12,13,14,15]])\n",
    "sum = A + B\n",
    "print(A)\n",
    "print(B)\n",
    "print(sum)"
   ]
  },
  {
   "cell_type": "code",
   "execution_count": 7,
   "metadata": {},
   "outputs": [
    {
     "name": "stdout",
     "output_type": "stream",
     "text": [
      "Producto punto de A y B_transpuesta:\n",
      "[[110 140]\n",
      " [278 356]]\n"
     ]
    }
   ],
   "source": [
    "# Multiplicacion\n",
    "B_transpuesta = B.T\n",
    "producto = np.dot(A, B_transpuesta)\n",
    "print(\"Producto punto de A y B_transpuesta:\")\n",
    "print(producto)"
   ]
  },
  {
   "cell_type": "code",
   "execution_count": 9,
   "metadata": {},
   "outputs": [
    {
     "name": "stdout",
     "output_type": "stream",
     "text": [
      "[[1 2]\n",
      " [5 6]]\n",
      "[[ 9 10]\n",
      " [12 13]]\n",
      "-3.999999999999999\n",
      "-3.0000000000000004\n",
      "[[-1.5   0.5 ]\n",
      " [ 1.25 -0.25]]\n",
      "[[-4.33333333  3.33333333]\n",
      " [ 4.         -3.        ]]\n"
     ]
    }
   ],
   "source": [
    "# Determinante \n",
    "A = np.array([[1,2],[5,6]])\n",
    "B = np.array([[9,10],[12,13]])\n",
    "det_A = np.linalg.det(A)\n",
    "det_B = np.linalg.det(B)\n",
    "inv_A = np.linalg.inv(A)\n",
    "inv_B = np.linalg.inv(B)\n",
    "print(A)\n",
    "print(B)\n",
    "print(det_A)\n",
    "print(det_B)\n",
    "print(inv_A)\n",
    "print(inv_B)"
   ]
  },
  {
   "cell_type": "code",
   "execution_count": 10,
   "metadata": {},
   "outputs": [
    {
     "name": "stdout",
     "output_type": "stream",
     "text": [
      "[-9.   9.5]\n"
     ]
    }
   ],
   "source": [
    "# resolver Ax = b\n",
    "b = np.array([10,12])\n",
    "x = np.linalg.solve(A,b)\n",
    "print(x)"
   ]
  }
 ],
 "metadata": {
  "kernelspec": {
   "display_name": "NpyPandaAnalisisFYNEKA",
   "language": "python",
   "name": "python3"
  },
  "language_info": {
   "codemirror_mode": {
    "name": "ipython",
    "version": 3
   },
   "file_extension": ".py",
   "mimetype": "text/x-python",
   "name": "python",
   "nbconvert_exporter": "python",
   "pygments_lexer": "ipython3",
   "version": "3.10.14"
  }
 },
 "nbformat": 4,
 "nbformat_minor": 2
}
