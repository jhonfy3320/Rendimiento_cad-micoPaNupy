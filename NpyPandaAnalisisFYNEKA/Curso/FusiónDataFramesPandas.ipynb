{
 "cells": [
  {
   "cell_type": "markdown",
   "metadata": {},
   "source": [
    "# Fusión de DataFrames en Pandas"
   ]
  },
  {
   "cell_type": "markdown",
   "metadata": {},
   "source": [
    "- La fusión de DataFrames en Pandas es una técnica fundamental cuando necesitas combinar información de diferentes fuentes o tablas en una sola estructura de datos. Pandas proporciona la función merge() para realizar fusiones, similar a las uniones (JOIN) en SQL.\n",
    "\n",
    "## Conceptos Clave:\n",
    "#### Tipos de Uniones:\n",
    "\n",
    "- Inner Join: Combina solo las filas que tienen coincidencias en ambas tablas.\n",
    "- Left Join: Combina todas las filas del DataFrame de la izquierda, y las filas coincidentes del DataFrame de la derecha.\n",
    "- Right Join: Combina todas las filas del DataFrame de la derecha, y las filas coincidentes del DataFrame de la izquierda.\n",
    "- Outer Join: Combina todas las filas de ambos DataFrames, rellenando con NaN donde no hay coincidencias.\n",
    "## Claves de Fusión (on, left_on, right_on):\n",
    "\n",
    "- La fusión se basa en una o más columnas de los DataFrames, conocidas como claves de fusión. Puedes especificar las columnas utilizando los parámetros on, left_on, y right_on."
   ]
  },
  {
   "cell_type": "code",
   "execution_count": 1,
   "metadata": {},
   "outputs": [],
   "source": [
    "import pandas as pd "
   ]
  },
  {
   "cell_type": "code",
   "execution_count": 2,
   "metadata": {},
   "outputs": [
    {
     "name": "stdout",
     "output_type": "stream",
     "text": [
      "  key  values\n",
      "0   A       1\n",
      "1   B       2\n",
      "2   C       3\n",
      "3   D       4\n",
      "4   E       5\n",
      "5   F       6\n",
      "6   G       7\n",
      "7   H       8\n",
      "8   I       9\n",
      "9   J      10\n",
      "  key  values\n",
      "0   K      11\n",
      "1   L      12\n",
      "2   N      13\n",
      "3   Ñ      14\n",
      "4   O      15\n",
      "5   P      16\n",
      "6   Q      17\n",
      "7   R      18\n",
      "8   S      19\n",
      "9   T      20\n"
     ]
    }
   ],
   "source": [
    "#creando DtaFrame de ejemplo \n",
    "dfA = pd.DataFrame({\n",
    "    'key' : ['A', 'B', 'C', 'D', 'E','F', 'G','H', 'I', 'J'],\n",
    "    'values' : [1,2,3,4,5,6,7,8,9,10]\n",
    "})\n",
    "\n",
    "dfB = pd.DataFrame({\n",
    "    'key' : ['K', 'L', 'N', 'Ñ', 'O','P', 'Q','R', 'S', 'T'],\n",
    "    'values' : [11,12,13,14,15,16,17,18,19,20]\n",
    "\n",
    "})\n",
    "\n",
    "print(dfA)\n",
    "print(dfB)"
   ]
  },
  {
   "cell_type": "code",
   "execution_count": 3,
   "metadata": {},
   "outputs": [
    {
     "name": "stdout",
     "output_type": "stream",
     "text": [
      "Empty DataFrame\n",
      "Columns: [key, values_x, values_y]\n",
      "Index: []\n"
     ]
    }
   ],
   "source": [
    "# Uniendo los dos dataframe con merge\n",
    "inner_merged = pd.merge(dfA, dfB, on='key', how='inner')\n",
    "print(inner_merged)"
   ]
  },
  {
   "cell_type": "code",
   "execution_count": 4,
   "metadata": {},
   "outputs": [
    {
     "name": "stdout",
     "output_type": "stream",
     "text": [
      "   key  values_x  values_y\n",
      "0    A       1.0       NaN\n",
      "1    B       2.0       NaN\n",
      "2    C       3.0       NaN\n",
      "3    D       4.0       NaN\n",
      "4    E       5.0       NaN\n",
      "5    F       6.0       NaN\n",
      "6    G       7.0       NaN\n",
      "7    H       8.0       NaN\n",
      "8    I       9.0       NaN\n",
      "9    J      10.0       NaN\n",
      "10   K       NaN      11.0\n",
      "11   L       NaN      12.0\n",
      "12   N       NaN      13.0\n",
      "13   O       NaN      15.0\n",
      "14   P       NaN      16.0\n",
      "15   Q       NaN      17.0\n",
      "16   R       NaN      18.0\n",
      "17   S       NaN      19.0\n",
      "18   T       NaN      20.0\n",
      "19   Ñ       NaN      14.0\n"
     ]
    }
   ],
   "source": [
    "outer_merged = pd.merge(dfA, dfB, on='key', how='outer')\n",
    "print(outer_merged)"
   ]
  },
  {
   "cell_type": "code",
   "execution_count": 5,
   "metadata": {},
   "outputs": [
    {
     "name": "stdout",
     "output_type": "stream",
     "text": [
      "  key  values_x  values_y\n",
      "0   K       NaN        11\n",
      "1   L       NaN        12\n",
      "2   N       NaN        13\n",
      "3   Ñ       NaN        14\n",
      "4   O       NaN        15\n",
      "5   P       NaN        16\n",
      "6   Q       NaN        17\n",
      "7   R       NaN        18\n",
      "8   S       NaN        19\n",
      "9   T       NaN        20\n"
     ]
    }
   ],
   "source": [
    "right_merged = pd.merge(dfA, dfB, on='key', how='right')\n",
    "print(right_merged)"
   ]
  },
  {
   "cell_type": "code",
   "execution_count": 6,
   "metadata": {},
   "outputs": [
    {
     "name": "stdout",
     "output_type": "stream",
     "text": [
      "     A    B\n",
      "0   A1  B11\n",
      "1   A2  B12\n",
      "2   A3  B13\n",
      "3   A4  B14\n",
      "4   A5  B15\n",
      "5   A6  B16\n",
      "6   A7  B17\n",
      "7   A8  B18\n",
      "8   A9  B19\n",
      "9  A10  B20\n",
      "     A    B\n",
      "0  A21  B31\n",
      "1  A22  B32\n",
      "2  A23  B33\n",
      "3  A24  B34\n",
      "4  A25  B35\n",
      "5  A26  B36\n",
      "6  A27  B37\n",
      "7  A28  B38\n",
      "8  A29  B39\n",
      "9  A30  B40\n"
     ]
    }
   ],
   "source": [
    "# Nuevos conjuntos \n",
    "dfC = pd.DataFrame({\n",
    "    'A' : ['A1','A2','A3','A4','A5','A6','A7','A8','A9','A10'],\n",
    "    'B' : ['B11','B12','B13','B14','B15','B16','B17','B18','B19','B20']\n",
    "})\n",
    "\n",
    "dfD = pd.DataFrame({\n",
    "    'A' : ['A21','A22','A23','A24','A25','A26','A27','A28','A29','A30'],\n",
    "    'B' : ['B31','B32','B33','B34','B35','B36','B37','B38','B39','B40']\n",
    "})\n",
    "\n",
    "print(dfC)\n",
    "print(dfD)"
   ]
  },
  {
   "cell_type": "code",
   "execution_count": 7,
   "metadata": {},
   "outputs": [
    {
     "name": "stdout",
     "output_type": "stream",
     "text": [
      "     A    B\n",
      "0   A1  B11\n",
      "1   A2  B12\n",
      "2   A3  B13\n",
      "3   A4  B14\n",
      "4   A5  B15\n",
      "5   A6  B16\n",
      "6   A7  B17\n",
      "7   A8  B18\n",
      "8   A9  B19\n",
      "9  A10  B20\n",
      "0  A21  B31\n",
      "1  A22  B32\n",
      "2  A23  B33\n",
      "3  A24  B34\n",
      "4  A25  B35\n",
      "5  A26  B36\n",
      "6  A27  B37\n",
      "7  A28  B38\n",
      "8  A29  B39\n",
      "9  A30  B40\n"
     ]
    }
   ],
   "source": [
    "#Concatenando dataframe verticalmente \n",
    "vertical_concat = pd.concat([dfC, dfD])\n",
    "print(vertical_concat)"
   ]
  },
  {
   "cell_type": "code",
   "execution_count": 8,
   "metadata": {},
   "outputs": [
    {
     "name": "stdout",
     "output_type": "stream",
     "text": [
      "     A    B    A    B\n",
      "0   A1  B11  A21  B31\n",
      "1   A2  B12  A22  B32\n",
      "2   A3  B13  A23  B33\n",
      "3   A4  B14  A24  B34\n",
      "4   A5  B15  A25  B35\n",
      "5   A6  B16  A26  B36\n",
      "6   A7  B17  A27  B37\n",
      "7   A8  B18  A28  B38\n",
      "8   A9  B19  A29  B39\n",
      "9  A10  B20  A30  B40\n"
     ]
    }
   ],
   "source": [
    "#Concatenacion Horizontalmente\n",
    "horizontal_concat = pd.concat([dfC, dfD], axis=1)\n",
    "print(horizontal_concat)\n"
   ]
  },
  {
   "cell_type": "code",
   "execution_count": 18,
   "metadata": {},
   "outputs": [
    {
     "name": "stdout",
     "output_type": "stream",
     "text": [
      "       A    B\n",
      "K1    A1   B1\n",
      "K2    A2   B2\n",
      "K3    A3   B3\n",
      "K4    A4   B4\n",
      "K5    A5   B5\n",
      "K6    A6   B6\n",
      "K7    A7   B7\n",
      "K8    A8   B8\n",
      "K9    A9   B9\n",
      "K10  A10  B10\n",
      "       C    D\n",
      "K1    A1   B1\n",
      "K2    A2   B2\n",
      "K3    A3   B3\n",
      "K4    A4   B4\n",
      "K5    A5   B5\n",
      "K6    A6   B6\n",
      "K7    A7   B7\n",
      "K8    A8   B8\n",
      "K9    A9   B9\n",
      "K10  A10  B10\n"
     ]
    }
   ],
   "source": [
    "# Nuevos conjuntos \n",
    "dfE = pd.DataFrame({\n",
    "    'A' : ['A1','A2','A3','A4','A5','A6','A7','A8','A9','A10'],\n",
    "    'B' : ['B1','B2','B3','B4','B5','B6','B7','B8','B9','B10']\n",
    "},    index=['K1','K2','K3','K4','K5','K6','K7','K8','K9','K10'])\n",
    "\n",
    "\n",
    "dfF = pd.DataFrame({\n",
    "    'C' : ['A1','A2','A3','A4','A5','A6','A7','A8','A9','A10'],\n",
    "    'D' : ['B1','B2','B3','B4','B5','B6','B7','B8','B9','B10']\n",
    "},    index=['K1','K2','K3','K4','K5','K6','K7','K8','K9','K10'])\n",
    "\n",
    "print(dfE)\n",
    "print(dfF)"
   ]
  },
  {
   "cell_type": "code",
   "execution_count": 19,
   "metadata": {},
   "outputs": [
    {
     "name": "stdout",
     "output_type": "stream",
     "text": [
      "       A    B    C    D\n",
      "K1    A1   B1   A1   B1\n",
      "K2    A2   B2   A2   B2\n",
      "K3    A3   B3   A3   B3\n",
      "K4    A4   B4   A4   B4\n",
      "K5    A5   B5   A5   B5\n",
      "K6    A6   B6   A6   B6\n",
      "K7    A7   B7   A7   B7\n",
      "K8    A8   B8   A8   B8\n",
      "K9    A9   B9   A9   B9\n",
      "K10  A10  B10  A10  B10\n"
     ]
    }
   ],
   "source": [
    "# JOIN ==> Joined combina DataFrames con base a un indice o columna clave \n",
    "joined = dfE.join(dfF, how='inner')\n",
    "print(joined)"
   ]
  },
  {
   "cell_type": "code",
   "execution_count": 20,
   "metadata": {},
   "outputs": [
    {
     "name": "stdout",
     "output_type": "stream",
     "text": [
      "dfE:\n",
      "        A    B\n",
      "K1    A1   B1\n",
      "K2    A2   B2\n",
      "K3    A3   B3\n",
      "K4    A4   B4\n",
      "K5    A5   B5\n",
      "K6    A6   B6\n",
      "K7    A7   B7\n",
      "K8    A8   B8\n",
      "K9    A9   B9\n",
      "K10  A10  B10\n",
      "\n",
      "dfF:\n",
      "        A    B\n",
      "K1    A1   B1\n",
      "K2    A2   B2\n",
      "K3    A3   B3\n",
      "K4    A4   B4\n",
      "K5    A5   B5\n",
      "K6    A6   B6\n",
      "K7    A7   B7\n",
      "K8    A8   B8\n",
      "K9    A9   B9\n",
      "K10  A10  B10\n",
      "\n",
      "Joined DataFrame:\n",
      "     A_dfE B_dfE A_dfF B_dfF\n",
      "K1     A1    B1    A1    B1\n",
      "K2     A2    B2    A2    B2\n",
      "K3     A3    B3    A3    B3\n",
      "K4     A4    B4    A4    B4\n",
      "K5     A5    B5    A5    B5\n",
      "K6     A6    B6    A6    B6\n",
      "K7     A7    B7    A7    B7\n",
      "K8     A8    B8    A8    B8\n",
      "K9     A9    B9    A9    B9\n",
      "K10   A10   B10   A10   B10\n"
     ]
    }
   ],
   "source": [
    "# Crear DataFrames dfE y dfF\n",
    "dfE = pd.DataFrame({\n",
    "    'A': ['A1', 'A2', 'A3', 'A4', 'A5', 'A6', 'A7', 'A8', 'A9', 'A10'],\n",
    "    'B': ['B1', 'B2', 'B3', 'B4', 'B5', 'B6', 'B7', 'B8', 'B9', 'B10']\n",
    "}, index=['K1', 'K2', 'K3', 'K4', 'K5', 'K6', 'K7', 'K8', 'K9', 'K10'])\n",
    "\n",
    "dfF = pd.DataFrame({\n",
    "    'A': ['A1', 'A2', 'A3', 'A4', 'A5', 'A6', 'A7', 'A8', 'A9', 'A10'],\n",
    "    'B': ['B1', 'B2', 'B3', 'B4', 'B5', 'B6', 'B7', 'B8', 'B9', 'B10']\n",
    "}, index=['K1', 'K2', 'K3', 'K4', 'K5', 'K6', 'K7', 'K8', 'K9', 'K10'])\n",
    "\n",
    "# Imprimir los DataFrames originales\n",
    "print(\"dfE:\\n\", dfE)\n",
    "print(\"\\ndfF:\\n\", dfF)\n",
    "\n",
    "# JOIN ==> Combinar DataFrames basados en el índice, con sufijos para columnas superpuestas\n",
    "joined = dfE.join(dfF, how='inner', lsuffix='_dfE', rsuffix='_dfF')\n",
    "\n",
    "# Imprimir el DataFrame combinado\n",
    "print(\"\\nJoined DataFrame:\\n\", joined)"
   ]
  },
  {
   "cell_type": "markdown",
   "metadata": {},
   "source": [
    "### Ejemplo con un Script:\n",
    "- Supongamos que tienes dos DataFrames: uno con información de ventas y otro con información de productos. Vamos a fusionarlos para obtener un DataFrame combinado."
   ]
  },
  {
   "cell_type": "code",
   "execution_count": 21,
   "metadata": {},
   "outputs": [
    {
     "name": "stdout",
     "output_type": "stream",
     "text": [
      "   InvoiceNo  ProductID  Quantity ProductName  Price\n",
      "0          1        101        10  Producto A   15.5\n",
      "1          2        102        20  Producto B   25.0\n",
      "2          3        103        30  Producto C   35.0\n",
      "3          4        104        40  Producto D   45.0\n"
     ]
    }
   ],
   "source": [
    "# DataFrame de ventas\n",
    "ventas = pd.DataFrame({\n",
    "    'InvoiceNo': [1, 2, 3, 4],\n",
    "    'ProductID': [101, 102, 103, 104],\n",
    "    'Quantity': [10, 20, 30, 40]\n",
    "})\n",
    "\n",
    "# DataFrame de productos\n",
    "productos = pd.DataFrame({\n",
    "    'ProductID': [101, 102, 103, 104, 105],\n",
    "    'ProductName': ['Producto A', 'Producto B', 'Producto C', 'Producto D', 'Producto E'],\n",
    "    'Price': [15.5, 25.0, 35.0, 45.0, 55.0]\n",
    "})\n",
    "\n",
    "# Fusión de los DataFrames utilizando 'ProductID' como clave\n",
    "resultado = pd.merge(ventas, productos, on='ProductID', how='inner')\n",
    "\n",
    "# Mostrar el DataFrame resultado\n",
    "print(resultado)"
   ]
  },
  {
   "cell_type": "markdown",
   "metadata": {},
   "source": [
    "### DataFrames Iniciales:\n",
    "\n",
    "- ventas: Contiene información sobre las ventas, incluyendo el número de factura (InvoiceNo), el ID del producto (ProductID), y la cantidad vendida (Quantity).\n",
    "productos: Contiene detalles sobre los productos, como el nombre del producto (ProductName) y su precio (Price).\n",
    "### Fusión de los DataFrames:\n",
    "\n",
    "- Se utiliza pd.merge() para combinar ambos DataFrames, uniendo las filas donde ProductID coincide en ambos DataFrames.\n",
    "on='ProductID' especifica la columna en la que se basa la fusión.\n",
    "how='inner' indica que solo se combinarán las filas donde hay coincidencias en ambos DataFrames.\n",
    "### Resultado:\n",
    "\n",
    "- El DataFrame resultante contiene las columnas InvoiceNo, ProductID, Quantity, ProductName, y Price, mostrando solo las filas donde los ProductID coinciden en ambos DataFrames.\n",
    "- Este es un ejemplo básico, pero la función merge() puede manejar fusiones más complejas, incluyendo fusiones en múltiples claves, y control de prefijos para evitar conflictos de nombres de columnas."
   ]
  },
  {
   "cell_type": "code",
   "execution_count": 11,
   "metadata": {},
   "outputs": [
    {
     "name": "stdout",
     "output_type": "stream",
     "text": [
      "<class 'pandas.core.frame.DataFrame'>\n",
      "       InvoiceNo StockCode                          Description  Quantity  \\\n",
      "0         536365    85123A   WHITE HANGING HEART T-LIGHT HOLDER         6   \n",
      "1         536365     71053                  WHITE METAL LANTERN         6   \n",
      "2         536365    84406B       CREAM CUPID HEARTS COAT HANGER         8   \n",
      "3         536365    84029G  KNITTED UNION FLAG HOT WATER BOTTLE         6   \n",
      "4         536365    84029E       RED WOOLLY HOTTIE WHITE HEART.         6   \n",
      "...          ...       ...                                  ...       ...   \n",
      "541904    581587     22613          PACK OF 20 SPACEBOY NAPKINS        12   \n",
      "541905    581587     22899         CHILDREN'S APRON DOLLY GIRL          6   \n",
      "541906    581587     23254        CHILDRENS CUTLERY DOLLY GIRL          4   \n",
      "541907    581587     23255      CHILDRENS CUTLERY CIRCUS PARADE         4   \n",
      "541908    581587     22138        BAKING SET 9 PIECE RETROSPOT          3   \n",
      "\n",
      "          InvoiceDate  UnitPrice  CustomerID         Country  \n",
      "0        12/1/10 8:26       2.55     17850.0  United Kingdom  \n",
      "1        12/1/10 8:26       3.39     17850.0  United Kingdom  \n",
      "2        12/1/10 8:26       2.75     17850.0  United Kingdom  \n",
      "3        12/1/10 8:26       3.39     17850.0  United Kingdom  \n",
      "4        12/1/10 8:26       3.39     17850.0  United Kingdom  \n",
      "...               ...        ...         ...             ...  \n",
      "541904  12/9/11 12:50       0.85     12680.0          France  \n",
      "541905  12/9/11 12:50       2.10     12680.0          France  \n",
      "541906  12/9/11 12:50       4.15     12680.0          France  \n",
      "541907  12/9/11 12:50       4.15     12680.0          France  \n",
      "541908  12/9/11 12:50       4.95     12680.0          France  \n",
      "\n",
      "[541909 rows x 8 columns]\n"
     ]
    }
   ],
   "source": [
    "path = '/home/jhonfypy/NpyPandaNuevos/NpyPandaAnalisisFYNEKA/data/Online_Retail.csv'\n",
    "retail_data = pd.read_csv(path, encoding='latin1')\n",
    "print(type(retail_data))\n",
    "print(retail_data)"
   ]
  },
  {
   "cell_type": "code",
   "execution_count": 12,
   "metadata": {},
   "outputs": [
    {
     "name": "stdout",
     "output_type": "stream",
     "text": [
      "<class 'str'>\n"
     ]
    },
    {
     "name": "stdout",
     "output_type": "stream",
     "text": [
      "      Marital status  Application mode  Application order  Course  \\\n",
      "0                  1                17                  5     171   \n",
      "1                  1                15                  1    9254   \n",
      "2                  1                 1                  5    9070   \n",
      "3                  1                17                  2    9773   \n",
      "4                  2                39                  1    8014   \n",
      "...              ...               ...                ...     ...   \n",
      "4419               1                 1                  6    9773   \n",
      "4420               1                 1                  2    9773   \n",
      "4421               1                 1                  1    9500   \n",
      "4422               1                 1                  1    9147   \n",
      "4423               1                10                  1    9773   \n",
      "\n",
      "      Daytime/evening attendance\\t  Previous qualification  \\\n",
      "0                                1                       1   \n",
      "1                                1                       1   \n",
      "2                                1                       1   \n",
      "3                                1                       1   \n",
      "4                                0                       1   \n",
      "...                            ...                     ...   \n",
      "4419                             1                       1   \n",
      "4420                             1                       1   \n",
      "4421                             1                       1   \n",
      "4422                             1                       1   \n",
      "4423                             1                       1   \n",
      "\n",
      "      Previous qualification (grade)  Nacionality  Mother's qualification  \\\n",
      "0                              122.0            1                      19   \n",
      "1                              160.0            1                       1   \n",
      "2                              122.0            1                      37   \n",
      "3                              122.0            1                      38   \n",
      "4                              100.0            1                      37   \n",
      "...                              ...          ...                     ...   \n",
      "4419                           125.0            1                       1   \n",
      "4420                           120.0          105                       1   \n",
      "4421                           154.0            1                      37   \n",
      "4422                           180.0            1                      37   \n",
      "4423                           152.0           22                      38   \n",
      "\n",
      "      Father's qualification  ...  Curricular units 2nd sem (credited)  \\\n",
      "0                         12  ...                                    0   \n",
      "1                          3  ...                                    0   \n",
      "2                         37  ...                                    0   \n",
      "3                         37  ...                                    0   \n",
      "4                         38  ...                                    0   \n",
      "...                      ...  ...                                  ...   \n",
      "4419                       1  ...                                    0   \n",
      "4420                       1  ...                                    0   \n",
      "4421                      37  ...                                    0   \n",
      "4422                      37  ...                                    0   \n",
      "4423                      37  ...                                    0   \n",
      "\n",
      "      Curricular units 2nd sem (enrolled)  \\\n",
      "0                                       0   \n",
      "1                                       6   \n",
      "2                                       6   \n",
      "3                                       6   \n",
      "4                                       6   \n",
      "...                                   ...   \n",
      "4419                                    6   \n",
      "4420                                    6   \n",
      "4421                                    8   \n",
      "4422                                    5   \n",
      "4423                                    6   \n",
      "\n",
      "      Curricular units 2nd sem (evaluations)  \\\n",
      "0                                          0   \n",
      "1                                          6   \n",
      "2                                          0   \n",
      "3                                         10   \n",
      "4                                          6   \n",
      "...                                      ...   \n",
      "4419                                       8   \n",
      "4420                                       6   \n",
      "4421                                       9   \n",
      "4422                                       6   \n",
      "4423                                       6   \n",
      "\n",
      "      Curricular units 2nd sem (approved)  Curricular units 2nd sem (grade)  \\\n",
      "0                                       0                          0.000000   \n",
      "1                                       6                         13.666667   \n",
      "2                                       0                          0.000000   \n",
      "3                                       5                         12.400000   \n",
      "4                                       6                         13.000000   \n",
      "...                                   ...                               ...   \n",
      "4419                                    5                         12.666667   \n",
      "4420                                    2                         11.000000   \n",
      "4421                                    1                         13.500000   \n",
      "4422                                    5                         12.000000   \n",
      "4423                                    6                         13.000000   \n",
      "\n",
      "      Curricular units 2nd sem (without evaluations)  Unemployment rate  \\\n",
      "0                                                  0               10.8   \n",
      "1                                                  0               13.9   \n",
      "2                                                  0               10.8   \n",
      "3                                                  0                9.4   \n",
      "4                                                  0               13.9   \n",
      "...                                              ...                ...   \n",
      "4419                                               0               15.5   \n",
      "4420                                               0               11.1   \n",
      "4421                                               0               13.9   \n",
      "4422                                               0                9.4   \n",
      "4423                                               0               12.7   \n",
      "\n",
      "      Inflation rate   GDP    Target  \n",
      "0                1.4  1.74   Dropout  \n",
      "1               -0.3  0.79  Graduate  \n",
      "2                1.4  1.74   Dropout  \n",
      "3               -0.8 -3.12  Graduate  \n",
      "4               -0.3  0.79  Graduate  \n",
      "...              ...   ...       ...  \n",
      "4419             2.8 -4.06  Graduate  \n",
      "4420             0.6  2.02   Dropout  \n",
      "4421            -0.3  0.79   Dropout  \n",
      "4422            -0.8 -3.12  Graduate  \n",
      "4423             3.7 -1.70  Graduate  \n",
      "\n",
      "[4424 rows x 37 columns]\n"
     ]
    }
   ],
   "source": [
    "path = '/home/jhonfypy/NpyPandaNuevos/NpyPandaAnalisisFYNEKA/data/Estudiantes.csv'\n",
    "estudiante_data = pd.read_csv(path, delimiter=';')\n",
    "print(type(path))\n",
    "print(estudiante_data)"
   ]
  },
  {
   "cell_type": "code",
   "execution_count": 13,
   "metadata": {},
   "outputs": [
    {
     "name": "stdout",
     "output_type": "stream",
     "text": [
      "   key  values_x  values_y\n",
      "0    A       1.0       NaN\n",
      "1    B       2.0       NaN\n",
      "2    C       3.0       NaN\n",
      "3    D       4.0       NaN\n",
      "4    E       5.0       NaN\n",
      "5    F       6.0       NaN\n",
      "6    G       7.0       NaN\n",
      "7    H       8.0       NaN\n",
      "8    I       9.0       NaN\n",
      "9    J      10.0       NaN\n",
      "10   K       NaN      11.0\n",
      "11   L       NaN      12.0\n",
      "12   N       NaN      13.0\n",
      "13   O       NaN      15.0\n",
      "14   P       NaN      16.0\n",
      "15   Q       NaN      17.0\n",
      "16   R       NaN      18.0\n",
      "17   S       NaN      19.0\n",
      "18   T       NaN      20.0\n",
      "19   Ñ       NaN      14.0\n"
     ]
    }
   ],
   "source": [
    "outer_merged = pd.merge(dfA, dfB, on='key', how='outer')\n",
    "print(outer_merged)"
   ]
  },
  {
   "cell_type": "code",
   "execution_count": 14,
   "metadata": {},
   "outputs": [
    {
     "name": "stdout",
     "output_type": "stream",
     "text": [
      "     InvoiceNo StockCode                          Description  Quantity  \\\n",
      "0       536365    85123A   WHITE HANGING HEART T-LIGHT HOLDER       6.0   \n",
      "1       536365     71053                  WHITE METAL LANTERN       6.0   \n",
      "2       536365    84406B       CREAM CUPID HEARTS COAT HANGER       8.0   \n",
      "3       536365    84029G  KNITTED UNION FLAG HOT WATER BOTTLE       6.0   \n",
      "4       536365    84029E       RED WOOLLY HOTTIE WHITE HEART.       6.0   \n",
      "...        ...       ...                                  ...       ...   \n",
      "4419       NaN       NaN                                  NaN       NaN   \n",
      "4420       NaN       NaN                                  NaN       NaN   \n",
      "4421       NaN       NaN                                  NaN       NaN   \n",
      "4422       NaN       NaN                                  NaN       NaN   \n",
      "4423       NaN       NaN                                  NaN       NaN   \n",
      "\n",
      "       InvoiceDate  UnitPrice  CustomerID         Country  Marital status  \\\n",
      "0     12/1/10 8:26       2.55     17850.0  United Kingdom             NaN   \n",
      "1     12/1/10 8:26       3.39     17850.0  United Kingdom             NaN   \n",
      "2     12/1/10 8:26       2.75     17850.0  United Kingdom             NaN   \n",
      "3     12/1/10 8:26       3.39     17850.0  United Kingdom             NaN   \n",
      "4     12/1/10 8:26       3.39     17850.0  United Kingdom             NaN   \n",
      "...            ...        ...         ...             ...             ...   \n",
      "4419           NaN        NaN         NaN             NaN             1.0   \n",
      "4420           NaN        NaN         NaN             NaN             1.0   \n",
      "4421           NaN        NaN         NaN             NaN             1.0   \n",
      "4422           NaN        NaN         NaN             NaN             1.0   \n",
      "4423           NaN        NaN         NaN             NaN             1.0   \n",
      "\n",
      "      Application mode  ...  Curricular units 2nd sem (credited)  \\\n",
      "0                  NaN  ...                                  NaN   \n",
      "1                  NaN  ...                                  NaN   \n",
      "2                  NaN  ...                                  NaN   \n",
      "3                  NaN  ...                                  NaN   \n",
      "4                  NaN  ...                                  NaN   \n",
      "...                ...  ...                                  ...   \n",
      "4419               1.0  ...                                  0.0   \n",
      "4420               1.0  ...                                  0.0   \n",
      "4421               1.0  ...                                  0.0   \n",
      "4422               1.0  ...                                  0.0   \n",
      "4423              10.0  ...                                  0.0   \n",
      "\n",
      "      Curricular units 2nd sem (enrolled)  \\\n",
      "0                                     NaN   \n",
      "1                                     NaN   \n",
      "2                                     NaN   \n",
      "3                                     NaN   \n",
      "4                                     NaN   \n",
      "...                                   ...   \n",
      "4419                                  6.0   \n",
      "4420                                  6.0   \n",
      "4421                                  8.0   \n",
      "4422                                  5.0   \n",
      "4423                                  6.0   \n",
      "\n",
      "      Curricular units 2nd sem (evaluations)  \\\n",
      "0                                        NaN   \n",
      "1                                        NaN   \n",
      "2                                        NaN   \n",
      "3                                        NaN   \n",
      "4                                        NaN   \n",
      "...                                      ...   \n",
      "4419                                     8.0   \n",
      "4420                                     6.0   \n",
      "4421                                     9.0   \n",
      "4422                                     6.0   \n",
      "4423                                     6.0   \n",
      "\n",
      "      Curricular units 2nd sem (approved)  Curricular units 2nd sem (grade)  \\\n",
      "0                                     NaN                               NaN   \n",
      "1                                     NaN                               NaN   \n",
      "2                                     NaN                               NaN   \n",
      "3                                     NaN                               NaN   \n",
      "4                                     NaN                               NaN   \n",
      "...                                   ...                               ...   \n",
      "4419                                  5.0                         12.666667   \n",
      "4420                                  2.0                         11.000000   \n",
      "4421                                  1.0                         13.500000   \n",
      "4422                                  5.0                         12.000000   \n",
      "4423                                  6.0                         13.000000   \n",
      "\n",
      "      Curricular units 2nd sem (without evaluations)  Unemployment rate  \\\n",
      "0                                                NaN                NaN   \n",
      "1                                                NaN                NaN   \n",
      "2                                                NaN                NaN   \n",
      "3                                                NaN                NaN   \n",
      "4                                                NaN                NaN   \n",
      "...                                              ...                ...   \n",
      "4419                                             0.0               15.5   \n",
      "4420                                             0.0               11.1   \n",
      "4421                                             0.0               13.9   \n",
      "4422                                             0.0                9.4   \n",
      "4423                                             0.0               12.7   \n",
      "\n",
      "      Inflation rate   GDP    Target  \n",
      "0                NaN   NaN       NaN  \n",
      "1                NaN   NaN       NaN  \n",
      "2                NaN   NaN       NaN  \n",
      "3                NaN   NaN       NaN  \n",
      "4                NaN   NaN       NaN  \n",
      "...              ...   ...       ...  \n",
      "4419             2.8 -4.06  Graduate  \n",
      "4420             0.6  2.02   Dropout  \n",
      "4421            -0.3  0.79   Dropout  \n",
      "4422            -0.8 -3.12  Graduate  \n",
      "4423             3.7 -1.70  Graduate  \n",
      "\n",
      "[546333 rows x 45 columns]\n"
     ]
    }
   ],
   "source": [
    "vertical_concat = pd.concat([retail_data, estudiante_data])\n",
    "print(vertical_concat)"
   ]
  }
 ],
 "metadata": {
  "kernelspec": {
   "display_name": "NpyPandaAnalisisFYNEKA",
   "language": "python",
   "name": "python3"
  },
  "language_info": {
   "codemirror_mode": {
    "name": "ipython",
    "version": 3
   },
   "file_extension": ".py",
   "mimetype": "text/x-python",
   "name": "python",
   "nbconvert_exporter": "python",
   "pygments_lexer": "ipython3",
   "version": "3.10.14"
  }
 },
 "nbformat": 4,
 "nbformat_minor": 2
}
